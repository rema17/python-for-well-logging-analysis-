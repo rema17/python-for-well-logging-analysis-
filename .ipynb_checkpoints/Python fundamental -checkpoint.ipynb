{
 "cells": [
  {
   "cell_type": "code",
   "execution_count": 1,
   "id": "caa95194",
   "metadata": {},
   "outputs": [
    {
     "data": {
      "text/plain": [
       "16"
      ]
     },
     "execution_count": 1,
     "metadata": {},
     "output_type": "execute_result"
    }
   ],
   "source": [
    "4*4"
   ]
  },
  {
   "cell_type": "code",
   "execution_count": 2,
   "id": "bcb53d5a",
   "metadata": {},
   "outputs": [
    {
     "data": {
      "text/plain": [
       "42"
      ]
     },
     "execution_count": 2,
     "metadata": {},
     "output_type": "execute_result"
    }
   ],
   "source": [
    "4*4+2*4+9*2\n"
   ]
  },
  {
   "cell_type": "code",
   "execution_count": 3,
   "id": "17832354",
   "metadata": {},
   "outputs": [
    {
     "data": {
      "text/plain": [
       "64"
      ]
     },
     "execution_count": 3,
     "metadata": {},
     "output_type": "execute_result"
    }
   ],
   "source": [
    "(4*2)+(8*7)"
   ]
  },
  {
   "cell_type": "code",
   "execution_count": 4,
   "id": "d8f16ed4",
   "metadata": {},
   "outputs": [
    {
     "data": {
      "text/plain": [
       "1000"
      ]
     },
     "execution_count": 4,
     "metadata": {},
     "output_type": "execute_result"
    }
   ],
   "source": [
    "10**3"
   ]
  },
  {
   "cell_type": "code",
   "execution_count": 5,
   "id": "8b077ca1",
   "metadata": {},
   "outputs": [
    {
     "data": {
      "text/plain": [
       "1"
      ]
     },
     "execution_count": 5,
     "metadata": {},
     "output_type": "execute_result"
    }
   ],
   "source": [
    "#و هو يقوم بإرجاع ما تبقي من قسمة المعامل %\n",
    "13%2"
   ]
  },
  {
   "cell_type": "code",
   "execution_count": 7,
   "id": "599dce95",
   "metadata": {},
   "outputs": [
    {
     "data": {
      "text/plain": [
       "3"
      ]
     },
     "execution_count": 7,
     "metadata": {},
     "output_type": "execute_result"
    }
   ],
   "source": [
    "7%4"
   ]
  },
  {
   "cell_type": "code",
   "execution_count": 9,
   "id": "9cf19f6e",
   "metadata": {},
   "outputs": [
    {
     "name": "stdout",
     "output_type": "stream",
     "text": [
      "600\n"
     ]
    }
   ],
   "source": [
    "x=100\n",
    "y=200\n",
    "z=300\n",
    "b=x+y+z\n",
    "print(b)"
   ]
  },
  {
   "cell_type": "code",
   "execution_count": 11,
   "id": "0a1170af",
   "metadata": {},
   "outputs": [
    {
     "name": "stdout",
     "output_type": "stream",
     "text": [
      "o\n"
     ]
    }
   ],
   "source": [
    "y=\"oil_gas\"\n",
    "print(y[0])"
   ]
  },
  {
   "cell_type": "code",
   "execution_count": 12,
   "id": "350bb0f5",
   "metadata": {},
   "outputs": [
    {
     "name": "stdout",
     "output_type": "stream",
     "text": [
      "oil_g\n"
     ]
    }
   ],
   "source": [
    "y=\"oil_gas\"\n",
    "print(y[0:5])"
   ]
  },
  {
   "cell_type": "code",
   "execution_count": 13,
   "id": "7f726b92",
   "metadata": {},
   "outputs": [
    {
     "name": "stdout",
     "output_type": "stream",
     "text": [
      "oil_gas\n"
     ]
    }
   ],
   "source": [
    "y=\"oil_gas\"\n",
    "print(y[:])"
   ]
  },
  {
   "cell_type": "code",
   "execution_count": 14,
   "id": "79f60b1e",
   "metadata": {},
   "outputs": [
    {
     "name": "stdout",
     "output_type": "stream",
     "text": [
      "oil_ga\n"
     ]
    }
   ],
   "source": [
    "y=\"oil_gas\"\n",
    "print(y[:6])"
   ]
  },
  {
   "cell_type": "code",
   "execution_count": 15,
   "id": "da45f107",
   "metadata": {},
   "outputs": [
    {
     "name": "stdout",
     "output_type": "stream",
     "text": [
      "l_gas\n"
     ]
    }
   ],
   "source": [
    "y=\"oil_gas\"\n",
    "print(y[2:])"
   ]
  },
  {
   "cell_type": "code",
   "execution_count": 17,
   "id": "a2b69959",
   "metadata": {},
   "outputs": [
    {
     "name": "stdout",
     "output_type": "stream",
     "text": [
      "34\n"
     ]
    }
   ],
   "source": [
    "z=\"the optimum well spacing is 950 ft\"\n",
    "print(len(z))"
   ]
  },
  {
   "cell_type": "code",
   "execution_count": 18,
   "id": "95aea83b",
   "metadata": {},
   "outputs": [
    {
     "name": "stdout",
     "output_type": "stream",
     "text": [
      "['land', 'geology.drilling']\n"
     ]
    }
   ],
   "source": [
    "list = ['land','geology.drilling']\n",
    "print(list)"
   ]
  },
  {
   "cell_type": "code",
   "execution_count": 19,
   "id": "19df713d",
   "metadata": {},
   "outputs": [
    {
     "name": "stdout",
     "output_type": "stream",
     "text": [
      "['land', 'geology.drilling', 'frac']\n"
     ]
    }
   ],
   "source": [
    "#append لاضافة عنصر للقائمة \n",
    "list.append('frac')\n",
    "print(list)"
   ]
  },
  {
   "cell_type": "code",
   "execution_count": 20,
   "id": "b4d367a0",
   "metadata": {},
   "outputs": [
    {
     "name": "stdout",
     "output_type": "stream",
     "text": [
      "['land', 'geology.drilling', 'frac', '100']\n"
     ]
    }
   ],
   "source": [
    "list.append ('100')\n",
    "print(list)"
   ]
  },
  {
   "cell_type": "code",
   "execution_count": 22,
   "id": "0b0f4dc2",
   "metadata": {},
   "outputs": [
    {
     "name": "stdout",
     "output_type": "stream",
     "text": [
      "land\n",
      "geology.drilling\n",
      "frac\n",
      "100\n"
     ]
    }
   ],
   "source": [
    "print (list[0])\n",
    "print (list[1])\n",
    "print (list[2])\n",
    "print (list[3])"
   ]
  },
  {
   "cell_type": "code",
   "execution_count": 23,
   "id": "99054769",
   "metadata": {},
   "outputs": [
    {
     "name": "stdout",
     "output_type": "stream",
     "text": [
      "['land', 'geology.drilling', 'frac']\n"
     ]
    }
   ],
   "source": [
    "print (list[0:3])"
   ]
  },
  {
   "cell_type": "code",
   "execution_count": 24,
   "id": "21f954b1",
   "metadata": {},
   "outputs": [
    {
     "name": "stdout",
     "output_type": "stream",
     "text": [
      "['Title Search', 'geology.drilling', 'frac', '100']\n"
     ]
    }
   ],
   "source": [
    "#To replace the first element with \"Title_Search,\" the following line can be\n",
    "#used:list[0]=''\n",
    "list[0]='Title Search'\n",
    "print(list)\n"
   ]
  },
  {
   "cell_type": "code",
   "execution_count": 25,
   "id": "0b59f6f4",
   "metadata": {},
   "outputs": [
    {
     "name": "stdout",
     "output_type": "stream",
     "text": [
      "['Reservoir_Engineer', 'Data_Engineer', 'Data_Scientist', 'Data Enthusiast']\n"
     ]
    }
   ],
   "source": [
    "list[0]='Reservoir_Engineer'\n",
    "list[1]='Data_Engineer'\n",
    "list[2]='Data_Scientist'\n",
    "list[3]='Data Enthusiast'\n",
    "print(list)"
   ]
  },
  {
   "cell_type": "code",
   "execution_count": 27,
   "id": "f8a42222",
   "metadata": {},
   "outputs": [
    {
     "name": "stdout",
     "output_type": "stream",
     "text": [
      "[10, 20, [30, 40, 50, 60]]\n"
     ]
    }
   ],
   "source": [
    "#A nested list is when there are list(s) inside of another list.\n",
    "nested_list=[10,20, [30,40,50,60]]\n",
    "print (nested_list)"
   ]
  },
  {
   "cell_type": "code",
   "execution_count": 28,
   "id": "eed1c8d5",
   "metadata": {},
   "outputs": [
    {
     "name": "stdout",
     "output_type": "stream",
     "text": [
      "30\n"
     ]
    }
   ],
   "source": [
    "print (nested_list[2][0])"
   ]
  },
  {
   "cell_type": "code",
   "execution_count": 30,
   "id": "1a133fde",
   "metadata": {},
   "outputs": [
    {
     "name": "stdout",
     "output_type": "stream",
     "text": [
      "3\n"
     ]
    }
   ],
   "source": [
    "nested_list2=[10,20, [30,40,50,60, [4,3,1]]]\n",
    "print (nested_list2[2][4][1])"
   ]
  },
  {
   "cell_type": "code",
   "execution_count": null,
   "id": "9483c39e",
   "metadata": {},
   "outputs": [],
   "source": []
  }
 ],
 "metadata": {
  "kernelspec": {
   "display_name": "Python 3 (ipykernel)",
   "language": "python",
   "name": "python3"
  },
  "language_info": {
   "codemirror_mode": {
    "name": "ipython",
    "version": 3
   },
   "file_extension": ".py",
   "mimetype": "text/x-python",
   "name": "python",
   "nbconvert_exporter": "python",
   "pygments_lexer": "ipython3",
   "version": "3.10.0"
  }
 },
 "nbformat": 4,
 "nbformat_minor": 5
}
