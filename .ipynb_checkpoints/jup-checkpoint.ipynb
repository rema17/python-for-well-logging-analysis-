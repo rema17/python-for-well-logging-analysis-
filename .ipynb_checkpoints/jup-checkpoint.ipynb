{
 "cells": [
  {
   "cell_type": "code",
   "execution_count": 1,
   "id": "f34ddd61",
   "metadata": {},
   "outputs": [
    {
     "data": {
      "text/plain": [
       "16"
      ]
     },
     "execution_count": 1,
     "metadata": {},
     "output_type": "execute_result"
    }
   ],
   "source": [
    "4*4"
   ]
  },
  {
   "cell_type": "code",
   "execution_count": 2,
   "id": "067733f6",
   "metadata": {},
   "outputs": [
    {
     "data": {
      "text/plain": [
       "42"
      ]
     },
     "execution_count": 2,
     "metadata": {},
     "output_type": "execute_result"
    }
   ],
   "source": [
    "4*4+2*4+9*2\n"
   ]
  },
  {
   "cell_type": "code",
   "execution_count": 3,
   "id": "950ea424",
   "metadata": {},
   "outputs": [
    {
     "data": {
      "text/plain": [
       "64"
      ]
     },
     "execution_count": 3,
     "metadata": {},
     "output_type": "execute_result"
    }
   ],
   "source": [
    "(4*2)+(8*7)"
   ]
  },
  {
   "cell_type": "code",
   "execution_count": 4,
   "id": "cce0bc2f",
   "metadata": {},
   "outputs": [
    {
     "data": {
      "text/plain": [
       "1000"
      ]
     },
     "execution_count": 4,
     "metadata": {},
     "output_type": "execute_result"
    }
   ],
   "source": [
    "10**3"
   ]
  },
  {
   "cell_type": "code",
   "execution_count": 5,
   "id": "094d8b6d",
   "metadata": {},
   "outputs": [
    {
     "data": {
      "text/plain": [
       "1"
      ]
     },
     "execution_count": 5,
     "metadata": {},
     "output_type": "execute_result"
    }
   ],
   "source": [
    "#و هو يقوم بإرجاع ما تبقي من قسمة المعامل %\n",
    "13%2"
   ]
  },
  {
   "cell_type": "code",
   "execution_count": 7,
   "id": "331473e6",
   "metadata": {},
   "outputs": [
    {
     "data": {
      "text/plain": [
       "3"
      ]
     },
     "execution_count": 7,
     "metadata": {},
     "output_type": "execute_result"
    }
   ],
   "source": [
    "7%4"
   ]
  },
  {
   "cell_type": "code",
   "execution_count": 9,
   "id": "8e6ba829",
   "metadata": {},
   "outputs": [
    {
     "name": "stdout",
     "output_type": "stream",
     "text": [
      "600\n"
     ]
    }
   ],
   "source": [
    "x=100\n",
    "y=200\n",
    "z=300\n",
    "b=x+y+z\n",
    "print(b)"
   ]
  },
  {
   "cell_type": "code",
   "execution_count": 11,
   "id": "622d439e",
   "metadata": {},
   "outputs": [
    {
     "name": "stdout",
     "output_type": "stream",
     "text": [
      "o\n"
     ]
    }
   ],
   "source": [
    "y=\"oil_gas\"\n",
    "print(y[0])"
   ]
  },
  {
   "cell_type": "code",
   "execution_count": 12,
   "id": "d212d1a0",
   "metadata": {},
   "outputs": [
    {
     "name": "stdout",
     "output_type": "stream",
     "text": [
      "oil_g\n"
     ]
    }
   ],
   "source": [
    "y=\"oil_gas\"\n",
    "print(y[0:5])"
   ]
  },
  {
   "cell_type": "code",
   "execution_count": 13,
   "id": "09f26733",
   "metadata": {},
   "outputs": [
    {
     "name": "stdout",
     "output_type": "stream",
     "text": [
      "oil_gas\n"
     ]
    }
   ],
   "source": [
    "y=\"oil_gas\"\n",
    "print(y[:])"
   ]
  },
  {
   "cell_type": "code",
   "execution_count": 14,
   "id": "e942a46a",
   "metadata": {},
   "outputs": [
    {
     "name": "stdout",
     "output_type": "stream",
     "text": [
      "oil_ga\n"
     ]
    }
   ],
   "source": [
    "y=\"oil_gas\"\n",
    "print(y[:6])"
   ]
  },
  {
   "cell_type": "code",
   "execution_count": 15,
   "id": "cf05e148",
   "metadata": {},
   "outputs": [
    {
     "name": "stdout",
     "output_type": "stream",
     "text": [
      "l_gas\n"
     ]
    }
   ],
   "source": [
    "y=\"oil_gas\"\n",
    "print(y[2:])"
   ]
  },
  {
   "cell_type": "code",
   "execution_count": 17,
   "id": "072e1002",
   "metadata": {},
   "outputs": [
    {
     "name": "stdout",
     "output_type": "stream",
     "text": [
      "34\n"
     ]
    }
   ],
   "source": [
    "z=\"the optimum well spacing is 950 ft\"\n",
    "print(len(z))"
   ]
  },
  {
   "cell_type": "code",
   "execution_count": 18,
   "id": "0be0b178",
   "metadata": {},
   "outputs": [
    {
     "name": "stdout",
     "output_type": "stream",
     "text": [
      "['land', 'geology.drilling']\n"
     ]
    }
   ],
   "source": [
    "list = ['land','geology.drilling']\n",
    "print(list)"
   ]
  },
  {
   "cell_type": "code",
   "execution_count": 19,
   "id": "9942d1b4",
   "metadata": {},
   "outputs": [
    {
     "name": "stdout",
     "output_type": "stream",
     "text": [
      "['land', 'geology.drilling', 'frac']\n"
     ]
    }
   ],
   "source": [
    "#append لاضافة عنصر للقائمة \n",
    "list.append('frac')\n",
    "print(list)"
   ]
  },
  {
   "cell_type": "code",
   "execution_count": 20,
   "id": "e4778320",
   "metadata": {},
   "outputs": [
    {
     "name": "stdout",
     "output_type": "stream",
     "text": [
      "['land', 'geology.drilling', 'frac', '100']\n"
     ]
    }
   ],
   "source": [
    "list.append ('100')\n",
    "print(list)"
   ]
  },
  {
   "cell_type": "code",
   "execution_count": 22,
   "id": "e5776ad5",
   "metadata": {},
   "outputs": [
    {
     "name": "stdout",
     "output_type": "stream",
     "text": [
      "land\n",
      "geology.drilling\n",
      "frac\n",
      "100\n"
     ]
    }
   ],
   "source": [
    "print (list[0])\n",
    "print (list[1])\n",
    "print (list[2])\n",
    "print (list[3])"
   ]
  },
  {
   "cell_type": "code",
   "execution_count": 23,
   "id": "313b56d9",
   "metadata": {},
   "outputs": [
    {
     "name": "stdout",
     "output_type": "stream",
     "text": [
      "['land', 'geology.drilling', 'frac']\n"
     ]
    }
   ],
   "source": [
    "print (list[0:3])"
   ]
  },
  {
   "cell_type": "code",
   "execution_count": 24,
   "id": "f502fdd3",
   "metadata": {},
   "outputs": [
    {
     "name": "stdout",
     "output_type": "stream",
     "text": [
      "['Title Search', 'geology.drilling', 'frac', '100']\n"
     ]
    }
   ],
   "source": [
    "#To replace the first element with \"Title_Search,\" the following line can be\n",
    "#used:list[0]=''\n",
    "list[0]='Title Search'\n",
    "print(list)\n"
   ]
  },
  {
   "cell_type": "code",
   "execution_count": 25,
   "id": "bf95b7ad",
   "metadata": {},
   "outputs": [
    {
     "name": "stdout",
     "output_type": "stream",
     "text": [
      "['Reservoir_Engineer', 'Data_Engineer', 'Data_Scientist', 'Data Enthusiast']\n"
     ]
    }
   ],
   "source": [
    "list[0]='Reservoir_Engineer'\n",
    "list[1]='Data_Engineer'\n",
    "list[2]='Data_Scientist'\n",
    "list[3]='Data Enthusiast'\n",
    "print(list)"
   ]
  },
  {
   "cell_type": "code",
   "execution_count": 27,
   "id": "e3e78866",
   "metadata": {},
   "outputs": [
    {
     "name": "stdout",
     "output_type": "stream",
     "text": [
      "[10, 20, [30, 40, 50, 60]]\n"
     ]
    }
   ],
   "source": [
    "#A nested list is when there are list(s) inside of another list.\n",
    "nested_list=[10,20, [30,40,50,60]]\n",
    "print (nested_list)"
   ]
  },
  {
   "cell_type": "code",
   "execution_count": 28,
   "id": "227d8a3a",
   "metadata": {},
   "outputs": [
    {
     "name": "stdout",
     "output_type": "stream",
     "text": [
      "30\n"
     ]
    }
   ],
   "source": [
    "print (nested_list[2][0])"
   ]
  },
  {
   "cell_type": "code",
   "execution_count": 30,
   "id": "ecf44459",
   "metadata": {},
   "outputs": [
    {
     "name": "stdout",
     "output_type": "stream",
     "text": [
      "3\n"
     ]
    }
   ],
   "source": [
    "nested_list2=[10,20, [30,40,50,60, [4,3,1]]]\n",
    "print (nested_list2[2][4][1])"
   ]
  },
  {
   "cell_type": "code",
   "execution_count": null,
   "id": "1960e217",
   "metadata": {},
   "outputs": [],
   "source": []
  }
 ],
 "metadata": {
  "kernelspec": {
   "display_name": "Python 3 (ipykernel)",
   "language": "python",
   "name": "python3"
  },
  "language_info": {
   "codemirror_mode": {
    "name": "ipython",
    "version": 3
   },
   "file_extension": ".py",
   "mimetype": "text/x-python",
   "name": "python",
   "nbconvert_exporter": "python",
   "pygments_lexer": "ipython3",
   "version": "3.10.0"
  }
 },
 "nbformat": 4,
 "nbformat_minor": 5
}
