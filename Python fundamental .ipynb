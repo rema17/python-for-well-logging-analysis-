{
 "cells": [
  {
   "cell_type": "code",
   "execution_count": null,
   "id": "caa95194",
   "metadata": {},
   "outputs": [],
   "source": [
    "4*4"
   ]
  },
  {
   "cell_type": "code",
   "execution_count": null,
   "id": "bcb53d5a",
   "metadata": {},
   "outputs": [],
   "source": [
    "4*4+2*4+9*2\n"
   ]
  },
  {
   "cell_type": "code",
   "execution_count": null,
   "id": "17832354",
   "metadata": {},
   "outputs": [],
   "source": [
    "(4*2)+(8*7)"
   ]
  },
  {
   "cell_type": "code",
   "execution_count": null,
   "id": "d8f16ed4",
   "metadata": {},
   "outputs": [],
   "source": [
    "10**3"
   ]
  },
  {
   "cell_type": "code",
   "execution_count": null,
   "id": "8b077ca1",
   "metadata": {},
   "outputs": [],
   "source": [
    "#و هو يقوم بإرجاع ما تبقي من قسمة المعامل %\n",
    "13%2"
   ]
  },
  {
   "cell_type": "code",
   "execution_count": null,
   "id": "599dce95",
   "metadata": {},
   "outputs": [],
   "source": [
    "7%4"
   ]
  },
  {
   "cell_type": "code",
   "execution_count": null,
   "id": "9cf19f6e",
   "metadata": {},
   "outputs": [],
   "source": [
    "x=100\n",
    "y=200\n",
    "z=300\n",
    "b=x+y+z\n",
    "print(b)"
   ]
  },
  {
   "cell_type": "code",
   "execution_count": null,
   "id": "0a1170af",
   "metadata": {},
   "outputs": [],
   "source": [
    "y=\"oil_gas\"\n",
    "print(y[0])"
   ]
  },
  {
   "cell_type": "code",
   "execution_count": null,
   "id": "350bb0f5",
   "metadata": {},
   "outputs": [],
   "source": [
    "y=\"oil_gas\"\n",
    "print(y[0:5])"
   ]
  },
  {
   "cell_type": "code",
   "execution_count": null,
   "id": "7f726b92",
   "metadata": {},
   "outputs": [],
   "source": [
    "y=\"oil_gas\"\n",
    "print(y[:])"
   ]
  },
  {
   "cell_type": "code",
   "execution_count": null,
   "id": "79f60b1e",
   "metadata": {},
   "outputs": [],
   "source": [
    "y=\"oil_gas\"\n",
    "print(y[:6])"
   ]
  },
  {
   "cell_type": "code",
   "execution_count": null,
   "id": "da45f107",
   "metadata": {},
   "outputs": [],
   "source": [
    "y=\"oil_gas\"\n",
    "print(y[2:])"
   ]
  },
  {
   "cell_type": "code",
   "execution_count": null,
   "id": "a2b69959",
   "metadata": {},
   "outputs": [],
   "source": [
    "z=\"the optimum well spacing is 950 ft\"\n",
    "print(len(z))"
   ]
  },
  {
   "cell_type": "code",
   "execution_count": null,
   "id": "95aea83b",
   "metadata": {},
   "outputs": [],
   "source": [
    "list = ['land','geology.drilling']\n",
    "print(list)"
   ]
  },
  {
   "cell_type": "code",
   "execution_count": null,
   "id": "19df713d",
   "metadata": {},
   "outputs": [],
   "source": [
    "#append لاضافة عنصر للقائمة \n",
    "list.append('frac')\n",
    "print(list)"
   ]
  },
  {
   "cell_type": "code",
   "execution_count": null,
   "id": "b4d367a0",
   "metadata": {},
   "outputs": [],
   "source": [
    "list.append ('100')\n",
    "print(list)"
   ]
  },
  {
   "cell_type": "code",
   "execution_count": null,
   "id": "0b0f4dc2",
   "metadata": {},
   "outputs": [],
   "source": [
    "print (list[0])\n",
    "print (list[1])\n",
    "print (list[2])\n",
    "print (list[3])"
   ]
  },
  {
   "cell_type": "code",
   "execution_count": null,
   "id": "99054769",
   "metadata": {},
   "outputs": [],
   "source": [
    "print (list[0:3])"
   ]
  },
  {
   "cell_type": "code",
   "execution_count": null,
   "id": "21f954b1",
   "metadata": {},
   "outputs": [],
   "source": [
    "#To replace the first element with \"Title_Search,\" the following line can be\n",
    "#used:list[0]=''\n",
    "list[0]='Title Search'\n",
    "print(list)\n"
   ]
  },
  {
   "cell_type": "code",
   "execution_count": null,
   "id": "0b59f6f4",
   "metadata": {},
   "outputs": [],
   "source": [
    "list[0]='Reservoir_Engineer'\n",
    "list[1]='Data_Engineer'\n",
    "list[2]='Data_Scientist'\n",
    "list[3]='Data Enthusiast'\n",
    "print(list)"
   ]
  },
  {
   "cell_type": "code",
   "execution_count": null,
   "id": "f8a42222",
   "metadata": {},
   "outputs": [],
   "source": [
    "#A nested list is when there are list(s) inside of another list.\n",
    "nested_list=[10,20, [30,40,50,60]]\n",
    "print (nested_list)"
   ]
  },
  {
   "cell_type": "code",
   "execution_count": null,
   "id": "eed1c8d5",
   "metadata": {},
   "outputs": [],
   "source": [
    "print (nested_list[2][0])"
   ]
  },
  {
   "cell_type": "code",
   "execution_count": null,
   "id": "1a133fde",
   "metadata": {},
   "outputs": [],
   "source": [
    "nested_list2=[10,20, [30,40,50,60, [4,3,1]]]\n",
    "print (nested_list2[2][4][1])"
   ]
  },
  {
   "cell_type": "code",
   "execution_count": null,
   "id": "9483c39e",
   "metadata": {},
   "outputs": [],
   "source": [
    "#dictionry \n",
    "a={'ML_Models':['ANN','SVM','RF','GB','XGB'],'Score':[90,85,95,90,100]}\n",
    "print(a)"
   ]
  },
  {
   "cell_type": "code",
   "execution_count": null,
   "id": "d37243dc",
   "metadata": {},
   "outputs": [],
   "source": [
    "a['ML_Models']\n",
    "print(a)"
   ]
  },
  {
   "cell_type": "code",
   "execution_count": null,
   "id": "a610e089",
   "metadata": {},
   "outputs": [],
   "source": [
    "a['ML_Models'][0:3]\n",
    "print(a['ML_Models'])"
   ]
  },
  {
   "cell_type": "code",
   "execution_count": null,
   "id": "c4aa1312",
   "metadata": {},
   "outputs": [],
   "source": [
    "a['Score'][0:3]\n",
    "print(a['Score'])"
   ]
  },
  {
   "cell_type": "code",
   "execution_count": null,
   "id": "322099b9",
   "metadata": {},
   "outputs": [],
   "source": [
    "d={'a':{'inner_a':[1,2,3]}}\n",
    "print(d['a']['inner_a'][1])"
   ]
  },
  {
   "cell_type": "code",
   "execution_count": null,
   "id": "ae34fee5",
   "metadata": {},
   "outputs": [],
   "source": [
    "#الـ tuple عبارة عن مصفوفة لها حجم ثابت, يمكنها تخزين قيم من مختلف الأنواع في وقت واحد و لا يمكن تبديل قيمها.\n",
    "list=[100,200,300,400]\n",
    "list[0]='New'\n",
    "print (list)"
   ]
  },
  {
   "cell_type": "code",
   "execution_count": null,
   "id": "3170dafd",
   "metadata": {
    "scrolled": true
   },
   "outputs": [],
   "source": [
    "t=(100,200,300,400)\n",
    "print(t)"
   ]
  },
  {
   "cell_type": "code",
   "execution_count": null,
   "id": "3c17cd75",
   "metadata": {
    "scrolled": false
   },
   "outputs": [],
   "source": [
    "t=(100,200,300,400)\n",
    "print(t)"
   ]
  },
  {
   "cell_type": "code",
   "execution_count": null,
   "id": "09f4a551",
   "metadata": {},
   "outputs": [],
   "source": [
    "#لـ set عبارة عن مصفوفة ليس لها حجم ثابت, يمكنها تخزين قيم من مختلف الأنواع في وقت واحد, و لا يمكن تبديل أو حذف قيمها بشكل مباشر.\n",
    "#كما أنه لا يمكنها أن تحتوي على قيم مكررة. أي إذا وضعت فيها نفس القيمة مرتين فإنه سيتم تخزين قيمة واحدة فيها و ليس قيمتين.\n",
    "set ={100,200,300,100,200}\n",
    "print(set)"
   ]
  },
  {
   "cell_type": "code",
   "execution_count": null,
   "id": "2e826901",
   "metadata": {},
   "outputs": [],
   "source": [
    "#لاضافة عنصر للمصفوفة\n",
    "set.add(400)\n",
    "print(set)"
   ]
  },
  {
   "cell_type": "code",
   "execution_count": null,
   "id": "72a0a28b",
   "metadata": {},
   "outputs": [],
   "source": [
    "#if condition:\n",
    "    # إذا كان الشرط صحيحاً نفذ هذا الكود\n",
    "#elif condition:\n",
    "    # إذا كان الشرط صحيحاً نفذ هذا الكود\n",
    "#else:\n",
    "    # إذا لم يتحقق أي شرط نفذ هذا الكود"
   ]
  },
  {
   "cell_type": "code",
   "execution_count": null,
   "id": "3524c436",
   "metadata": {},
   "outputs": [],
   "source": [
    "if 100==200:\n",
    "    print('good job!')\n",
    "else:\n",
    "    print('not good!')"
   ]
  },
  {
   "cell_type": "code",
   "execution_count": null,
   "id": "bc379231",
   "metadata": {},
   "outputs": [],
   "source": [
    "x=100\n",
    "y=200\n",
    "z=300\n",
    "\n",
    "if x>y:\n",
    "    print('good')\n",
    "elif z<y:\n",
    "    print('so so')\n",
    "else:\n",
    "    print('bad')"
   ]
  },
  {
   "cell_type": "code",
   "execution_count": null,
   "id": "a3770e42",
   "metadata": {},
   "outputs": [],
   "source": [
    "x=100\n",
    "y=200\n",
    "z=300\n",
    "\n",
    "if x>y:\n",
    "    A=x+Y\n",
    "    print(A)\n",
    "elif z<y:\n",
    "    B=x+y+z\n",
    "    print(B)\n",
    "else:\n",
    "    C=2*(x+y+z)\n",
    "    print(C)\n",
    "   "
   ]
  },
  {
   "cell_type": "code",
   "execution_count": null,
   "id": "b20d3af7",
   "metadata": {},
   "outputs": [],
   "source": [
    "n=float(input(\"Enter any number\"))\n",
    "if n==0:\n",
    "    print('ZERO')\n",
    "elif n>0:\n",
    "    print('POSITIVE Number')\n",
    "else:\n",
    "    print('NEGATIVE Number')"
   ]
  },
  {
   "cell_type": "code",
   "execution_count": null,
   "id": "6026aba8",
   "metadata": {},
   "outputs": [],
   "source": [
    "n=float(input(\"Enter any number\"))\n",
    "if n==0:\n",
    "    print('ZERO')\n",
    "elif n>0:\n",
    "    print('POSITIVE Number')\n",
    "else:\n",
    "    print('NEGATIVE Number')"
   ]
  },
  {
   "cell_type": "code",
   "execution_count": null,
   "id": "5477785a",
   "metadata": {},
   "outputs": [],
   "source": [
    "n=float(input(\"Enter any number\"))\n",
    "if n==0:\n",
    "    print('ZERO')\n",
    "elif n>0:\n",
    "    print('POSITIVE Number')\n",
    "else:\n",
    "    print('NEGATIVE Number')"
   ]
  },
  {
   "cell_type": "code",
   "execution_count": null,
   "id": "5241ae52",
   "metadata": {},
   "outputs": [],
   "source": [
    "#نستخدم الحلقة for للمرور على جميع عناصر السلسلة أو المصفوفة بسهولة بدون الحاجة لتعريف عداد و تحديد أين يبدأ و أين ينتهي.\n",
    "#تستخدم لتنفيذ الكود عدة مرات محددة.\n",
    "#element: هو متغير عادي نقوم بتعريفه بداخل الحلقة. في كل دورة سيتم جلب قيمة من قيم السلسلة الموضوعة بعده و وضعها فيه.\n",
    "#sequence: هي السلسلة أو المصفوفة التي نريد الوصول لجميع عناصرها.\n",
    "#statements: هي جميع الأوامر الموضوعة في الحلقة و هي تتنفذ في كل دورة.\n",
    "\n",
    "\n"
   ]
  },
  {
   "cell_type": "code",
   "execution_count": 13,
   "id": "2d86cb3b",
   "metadata": {},
   "outputs": [
    {
     "name": "stdout",
     "output_type": "stream",
     "text": [
      "0\n",
      "1\n",
      "2\n",
      "3\n",
      "4\n"
     ]
    }
   ],
   "source": [
    "i=range(0,5)\n",
    "for x in i:\n",
    "    print(x)"
   ]
  },
  {
   "cell_type": "code",
   "execution_count": 12,
   "id": "d3876580",
   "metadata": {},
   "outputs": [
    {
     "name": "stdout",
     "output_type": "stream",
     "text": [
      "Edge computing in the O&G industry is very valuable\n",
      "Edge computing in the O&G industry is very valuable\n",
      "Edge computing in the O&G industry is very valuable\n"
     ]
    }
   ],
   "source": [
    "for x in range(0,3):\n",
    "    print('Edge computing in the O&G industry is very valuable')"
   ]
  },
  {
   "cell_type": "code",
   "execution_count": 4,
   "id": "3783da45",
   "metadata": {},
   "outputs": [
    {
     "name": "stdout",
     "output_type": "stream",
     "text": [
      "Frac_Crew_1\n",
      "Frac_Crew_2\n"
     ]
    }
   ],
   "source": [
    "Frac_Crews=['Frac_Crew_1', 'Frac_Crew_2', 'Frac_Crew_3','Frac_Crew_4']\n",
    "\n",
    "for x in Frac_Crews:\n",
    "    print(x)\n",
    "    if x=='Frac_Crew_2':\n",
    "        break\n",
    "        print(x)\n",
    "   "
   ]
  },
  {
   "cell_type": "code",
   "execution_count": 9,
   "id": "fd9a0483",
   "metadata": {},
   "outputs": [
    {
     "name": "stdout",
     "output_type": "stream",
     "text": [
      "Frac_Crew_1\n",
      "Frac_Crew_3\n",
      "Frac_Crew_4\n"
     ]
    }
   ],
   "source": [
    "#مراعاة المسافات عند كتابة الاكواد \n",
    "Frac_Crews=['Frac_Crew_1', 'Frac_Crew_2', 'Frac_Crew_3',\n",
    "'Frac_Crew_4']\n",
    "for x in Frac_Crews:\n",
    "    if x=='Frac_Crew_2':\n",
    "        continue\n",
    "    print(x)"
   ]
  },
  {
   "cell_type": "code",
   "execution_count": 10,
   "id": "12e9cb7c",
   "metadata": {},
   "outputs": [
    {
     "name": "stdout",
     "output_type": "stream",
     "text": [
      "10\n",
      "14\n",
      "18\n"
     ]
    }
   ],
   "source": [
    "for x in range(10, 19, 4):\n",
    "    print(x)"
   ]
  },
  {
   "cell_type": "code",
   "execution_count": 19,
   "id": "6e3c2e5d",
   "metadata": {},
   "outputs": [
    {
     "name": "stdout",
     "output_type": "stream",
     "text": [
      "Low_Performing Drilling_Crew_1\n",
      "Low_Performing Drilling_Crew_2\n",
      "Low_Performing Drilling_Crew_3\n",
      "Medium_Performing Drilling_Crew_1\n",
      "Medium_Performing Drilling_Crew_2\n",
      "Medium_Performing Drilling_Crew_3\n",
      "High_Performing Drilling_Crew_1\n",
      "High_Performing Drilling_Crew_2\n",
      "High_Performing Drilling_Crew_3\n"
     ]
    }
   ],
   "source": [
    "Performance=[\"Low_Performing\", \"Medium_Performing\",'High_Performing']\n",
    "\n",
    "Drilling_Crews=[\"Drilling_Crew_1\", \"Drilling_Crew_2\", \"Drilling_Crew_3\"]\n",
    "\n",
    "for x in Performance:\n",
    "    \n",
    "    for y in Drilling_Crews:\n",
    "        \n",
    "        print(x, y)"
   ]
  },
  {
   "cell_type": "code",
   "execution_count": 23,
   "id": "25be921c",
   "metadata": {},
   "outputs": [
    {
     "name": "stdout",
     "output_type": "stream",
     "text": [
      "[300]\n",
      "[300, 600]\n",
      "[300, 600, 1100]\n",
      "[300, 600, 1100, 1800]\n"
     ]
    }
   ],
   "source": [
    "i=[10,20,30,40]\n",
    "out=[]\n",
    "for x in i:\n",
    "    out.append(x**2+200)\n",
    "    print(out)"
   ]
  },
  {
   "cell_type": "code",
   "execution_count": 29,
   "id": "5cb8380f",
   "metadata": {},
   "outputs": [
    {
     "name": "stdout",
     "output_type": "stream",
     "text": [
      "[300, 600, 1100, 1800]\n"
     ]
    }
   ],
   "source": [
    "i=[10,20,30,40]\n",
    "out=[x**2+200 for x in i]\n",
    "print(out)"
   ]
  },
  {
   "cell_type": "code",
   "execution_count": 11,
   "id": "2cc6c406",
   "metadata": {},
   "outputs": [
    {
     "name": "stdout",
     "output_type": "stream",
     "text": [
      "[409, 423, 439, 457, 477, 499]\n"
     ]
    }
   ],
   "source": [
    "i=[10,20,30,40]\n",
    "y=[5,6,7,8,9,10]\n",
    "out=[x**2+3*x+369 for x in y]\n",
    "print(out)"
   ]
  },
  {
   "cell_type": "code",
   "execution_count": null,
   "id": "a6279544",
   "metadata": {},
   "outputs": [],
   "source": [
    "#الدالة ( Function ) عبارة عن مجموعة أوامر مجمعة في مكان واحد و تتنفذ عندما نقوم باستدعائها.\n",
    "#الشكل الأساسي الذي يجب إتباعه عند تعريف أي دالة في بايثون هو التالي:\n",
    "#def functionname():\n",
    "    #function_suite\n",
    "#def: تعني أنك تعرف دالة جديدة.\n",
    "#functionname: نضع مكانها الإسم الذي نعطيه للدالة, و الذي من خلاله يمكننا استدعاءها.\n",
    "#(): بداخل القوسين يمكنك وضع باراميترات و يجب أن تضع : مباشرةً بعد القوسين و من ثم تنزل على سطر جديد لتبدأ بكتابة الأوامر التي ستتنفذ عند إستدعاء الدالة.\n",
    "#function_suite: تعني الأوامر التي سنضعها في الدالة و التي ستتنفذ عند إستدعائها.\n",
    "#يمكنك وضع مزيد من التفاصيل بشرط أن تضيفها ضمن ترتيب محدد و ليس شرطاً أن تضيفها كلها.\n",
    "#def functionname(parameters):\n",
    "    #\"\"\" function_docstring \"\"\"\n",
    "    #function_suite\n",
    "   # return [expression]\n",
    "#def: تعني أنك تعرف دالة جديدة.\n",
    "\n",
    " #functionname: نضع مكانها الإسم الذي نعطيه للدالة, و الذي من خلاله يمكننا استدعاءها.\n",
    "\n",
    " #parameters: المقصود بها الباراميترات التي نمررها لها عند إستدعائها ( وضع الباراميترات هو أمر إختياري ).\n",
    "\n",
    " #\"\"\" function_docstring \"\"\": نضع مكانها نص الهدف منه تفسير ما تفعله الدالة بشكل مختصر ( وضع التفسير هو أمر إختياري ).\n",
    "\n",
    " #function_suite: تعني الأوامر التي نضعها في الدالة.\n",
    "\n",
    " #return [expression]: نضع مكانها ما يمكن أن ترجعه الدالة في المكان الذي تم إستدعاءها منه ( إرجاع قيمة هو أمر إختياري )."
   ]
  },
  {
   "cell_type": "code",
   "execution_count": 27,
   "id": "6f8cf560",
   "metadata": {},
   "outputs": [
    {
     "name": "stdout",
     "output_type": "stream",
     "text": [
      "60\n"
     ]
    }
   ],
   "source": [
    "def linear_function(n):\n",
    "    return 2*n+20\n",
    "X=linear_function(20)\n",
    "print(X)"
   ]
  },
  {
   "cell_type": "code",
   "execution_count": 31,
   "id": "20016524",
   "metadata": {},
   "outputs": [
    {
     "name": "stdout",
     "output_type": "stream",
     "text": [
      "450\n"
     ]
    }
   ],
   "source": [
    "def Turner_rate(x):\n",
    "    return x**2+50\n",
    "y=Turner_rate(20)\n",
    "print(y)"
   ]
  },
  {
   "cell_type": "code",
   "execution_count": 32,
   "id": "0580c5ce",
   "metadata": {},
   "outputs": [
    {
     "name": "stdout",
     "output_type": "stream",
     "text": [
      "{'Column_1': [10, 20, 30], 'Columns_2': [40, 50, 60], 'Column_3': [70, 80, 90]}\n"
     ]
    }
   ],
   "source": [
    "dictionary={'Column_1':[10,20,30],'Columns_2':[40,50,60],'Column_3':[70,80,90]}\n",
    "print(dictionary)"
   ]
  },
  {
   "cell_type": "code",
   "execution_count": 22,
   "id": "22526023",
   "metadata": {},
   "outputs": [
    {
     "name": "stdout",
     "output_type": "stream",
     "text": [
      "Requirement already satisfied: numpy in c:\\users\\essa\\appdata\\local\\programs\\python\\python310-32\\lib\\site-packages (1.23.2)\n"
     ]
    }
   ],
   "source": [
    "!pip install numpy"
   ]
  },
  {
   "cell_type": "code",
   "execution_count": 23,
   "id": "52f3b661",
   "metadata": {},
   "outputs": [
    {
     "name": "stdout",
     "output_type": "stream",
     "text": [
      "Requirement already satisfied: pandas in c:\\users\\essa\\appdata\\local\\programs\\python\\python310-32\\lib\\site-packages (1.3.5)\n",
      "Requirement already satisfied: pytz>=2017.3 in c:\\users\\essa\\appdata\\local\\programs\\python\\python310-32\\lib\\site-packages (from pandas) (2022.2.1)\n",
      "Requirement already satisfied: python-dateutil>=2.7.3 in c:\\users\\essa\\appdata\\local\\programs\\python\\python310-32\\lib\\site-packages (from pandas) (2.8.2)\n",
      "Requirement already satisfied: numpy>=1.21.0 in c:\\users\\essa\\appdata\\local\\programs\\python\\python310-32\\lib\\site-packages (from pandas) (1.23.2)\n",
      "Requirement already satisfied: six>=1.5 in c:\\users\\essa\\appdata\\local\\programs\\python\\python310-32\\lib\\site-packages (from python-dateutil>=2.7.3->pandas) (1.16.0)\n"
     ]
    }
   ],
   "source": [
    "!pip install pandas"
   ]
  },
  {
   "cell_type": "code",
   "execution_count": 24,
   "id": "f308b660",
   "metadata": {},
   "outputs": [
    {
     "data": {
      "text/plain": [
       "'1.3.5'"
      ]
     },
     "execution_count": 24,
     "metadata": {},
     "output_type": "execute_result"
    }
   ],
   "source": [
    "import pandas as pd\n",
    "pd.__version__"
   ]
  },
  {
   "cell_type": "code",
   "execution_count": 25,
   "id": "291b20f6",
   "metadata": {},
   "outputs": [
    {
     "name": "stdout",
     "output_type": "stream",
     "text": [
      "   Column_1  Columns_2  Column_3\n",
      "0        10         40        70\n",
      "1        20         50        80\n",
      "2        30         60        90\n"
     ]
    }
   ],
   "source": [
    "import pandas as pd\n",
    "dictionary={'Column_1':[10,20,30],'Columns_2':[40,50,60],'Column_3':[70,80,90]}\n",
    "dictionary=pd.DataFrame(dictionary)\n",
    "print(dictionary)"
   ]
  },
  {
   "cell_type": "code",
   "execution_count": 26,
   "id": "386390b6",
   "metadata": {},
   "outputs": [
    {
     "name": "stdout",
     "output_type": "stream",
     "text": [
      "   Column_1  Columns_2  Column_3\n",
      "0        10         40        70\n",
      "1        20         50        80\n",
      "2        30         60        90\n"
     ]
    }
   ],
   "source": [
    "import pandas as pd \n",
    "dictionary=pd.DataFrame({'Column_1':[10,20,30],'Columns_2':\n",
    "[40,50,60],'Column_3':[70,80,90]})\n",
    "print(dictionary)"
   ]
  },
  {
   "cell_type": "code",
   "execution_count": 27,
   "id": "36ee130f",
   "metadata": {},
   "outputs": [
    {
     "name": "stdout",
     "output_type": "stream",
     "text": [
      "        Drilling_CAPEX  Completions_CAPEX  Production_CAPEX\n",
      "Well_1         2000000            5000000            500000\n",
      "Well_2         2200000            5200000            550000\n",
      "Well_3         2100000            5150000            450000\n"
     ]
    }
   ],
   "source": [
    "import pandas as pd\n",
    "CAPEX=pd.DataFrame({'Drilling_CAPEX':[2000000,2200000,2100000],\n",
    "'Completions_CAPEX':[5000000,5200000,5150000], 'Production_CAPEX':[500000,550000,450000]},\n",
    "index=['Well_1','Well_2','Well_3'])\n",
    "\n",
    "print(CAPEX)"
   ]
  },
  {
   "cell_type": "code",
   "execution_count": 28,
   "id": "c66f4b48",
   "metadata": {},
   "outputs": [
    {
     "name": "stdout",
     "output_type": "stream",
     "text": [
      "              Cycle_1   Cycle_2   Cycle_3   Cycle_4   Cycle_5\n",
      "Land        -1.749765  0.342680  1.153036 -0.252436  0.981321\n",
      "Seismic      0.514219  0.221180 -1.070043 -0.189496  0.255001\n",
      "Geology     -0.458027  0.435163 -0.583595  0.816847  0.672721\n",
      "Drilling    -0.104411 -0.531280  1.029733 -0.438136 -1.118318\n",
      "Completions  1.618982  1.541605 -0.251879 -0.842436  0.184519\n",
      "Production   0.937082  0.731000  1.361556 -0.326238  0.055676\n",
      "Facilities   0.222400 -1.443217 -0.756352  0.816454  0.750445\n",
      "Midstream   -0.455947  1.189622 -1.690617 -1.356399 -1.232435\n"
     ]
    }
   ],
   "source": [
    "from numpy.random import randn\n",
    "import numpy as np\n",
    "import pandas as pd\n",
    "seed=100\n",
    "np.random.seed(seed)\n",
    "life_cycle=pd.DataFrame(randn(8,5),\n",
    "index='Land Seismic Geology Drilling Completions Production Facilities Midstream'.split(),\n",
    "columns='Cycle_1 Cycle_2 Cycle_3 Cycle_4 Cycle_5'.split())\n",
    "print(life_cycle)"
   ]
  },
  {
   "cell_type": "code",
   "execution_count": 29,
   "id": "6f661fd5",
   "metadata": {},
   "outputs": [
    {
     "data": {
      "text/html": [
       "<div>\n",
       "<style scoped>\n",
       "    .dataframe tbody tr th:only-of-type {\n",
       "        vertical-align: middle;\n",
       "    }\n",
       "\n",
       "    .dataframe tbody tr th {\n",
       "        vertical-align: top;\n",
       "    }\n",
       "\n",
       "    .dataframe thead th {\n",
       "        text-align: right;\n",
       "    }\n",
       "</style>\n",
       "<table border=\"1\" class=\"dataframe\">\n",
       "  <thead>\n",
       "    <tr style=\"text-align: right;\">\n",
       "      <th></th>\n",
       "      <th>Cycle_1</th>\n",
       "      <th>Cycle_2</th>\n",
       "      <th>Cycle_3</th>\n",
       "      <th>Cycle_4</th>\n",
       "      <th>Cycle_5</th>\n",
       "    </tr>\n",
       "  </thead>\n",
       "  <tbody>\n",
       "    <tr>\n",
       "      <th>Land</th>\n",
       "      <td>-1.749765</td>\n",
       "      <td>0.34268</td>\n",
       "      <td>1.153036</td>\n",
       "      <td>-0.252436</td>\n",
       "      <td>0.981321</td>\n",
       "    </tr>\n",
       "    <tr>\n",
       "      <th>Seismic</th>\n",
       "      <td>0.514219</td>\n",
       "      <td>0.22118</td>\n",
       "      <td>-1.070043</td>\n",
       "      <td>-0.189496</td>\n",
       "      <td>0.255001</td>\n",
       "    </tr>\n",
       "  </tbody>\n",
       "</table>\n",
       "</div>"
      ],
      "text/plain": [
       "          Cycle_1  Cycle_2   Cycle_3   Cycle_4   Cycle_5\n",
       "Land    -1.749765  0.34268  1.153036 -0.252436  0.981321\n",
       "Seismic  0.514219  0.22118 -1.070043 -0.189496  0.255001"
      ]
     },
     "execution_count": 29,
     "metadata": {},
     "output_type": "execute_result"
    }
   ],
   "source": [
    "life_cycle.head(2)"
   ]
  },
  {
   "cell_type": "code",
   "execution_count": 30,
   "id": "731a93e6",
   "metadata": {},
   "outputs": [
    {
     "data": {
      "text/html": [
       "<div>\n",
       "<style scoped>\n",
       "    .dataframe tbody tr th:only-of-type {\n",
       "        vertical-align: middle;\n",
       "    }\n",
       "\n",
       "    .dataframe tbody tr th {\n",
       "        vertical-align: top;\n",
       "    }\n",
       "\n",
       "    .dataframe thead th {\n",
       "        text-align: right;\n",
       "    }\n",
       "</style>\n",
       "<table border=\"1\" class=\"dataframe\">\n",
       "  <thead>\n",
       "    <tr style=\"text-align: right;\">\n",
       "      <th></th>\n",
       "      <th>Cycle_1</th>\n",
       "      <th>Cycle_2</th>\n",
       "      <th>Cycle_3</th>\n",
       "      <th>Cycle_4</th>\n",
       "      <th>Cycle_5</th>\n",
       "    </tr>\n",
       "  </thead>\n",
       "  <tbody>\n",
       "    <tr>\n",
       "      <th>Facilities</th>\n",
       "      <td>0.222400</td>\n",
       "      <td>-1.443217</td>\n",
       "      <td>-0.756352</td>\n",
       "      <td>0.816454</td>\n",
       "      <td>0.750445</td>\n",
       "    </tr>\n",
       "    <tr>\n",
       "      <th>Midstream</th>\n",
       "      <td>-0.455947</td>\n",
       "      <td>1.189622</td>\n",
       "      <td>-1.690617</td>\n",
       "      <td>-1.356399</td>\n",
       "      <td>-1.232435</td>\n",
       "    </tr>\n",
       "  </tbody>\n",
       "</table>\n",
       "</div>"
      ],
      "text/plain": [
       "             Cycle_1   Cycle_2   Cycle_3   Cycle_4   Cycle_5\n",
       "Facilities  0.222400 -1.443217 -0.756352  0.816454  0.750445\n",
       "Midstream  -0.455947  1.189622 -1.690617 -1.356399 -1.232435"
      ]
     },
     "execution_count": 30,
     "metadata": {},
     "output_type": "execute_result"
    }
   ],
   "source": [
    "life_cycle.tail(2)"
   ]
  },
  {
   "cell_type": "code",
   "execution_count": 31,
   "id": "842c4759",
   "metadata": {},
   "outputs": [
    {
     "data": {
      "text/html": [
       "<div>\n",
       "<style scoped>\n",
       "    .dataframe tbody tr th:only-of-type {\n",
       "        vertical-align: middle;\n",
       "    }\n",
       "\n",
       "    .dataframe tbody tr th {\n",
       "        vertical-align: top;\n",
       "    }\n",
       "\n",
       "    .dataframe thead th {\n",
       "        text-align: right;\n",
       "    }\n",
       "</style>\n",
       "<table border=\"1\" class=\"dataframe\">\n",
       "  <thead>\n",
       "    <tr style=\"text-align: right;\">\n",
       "      <th></th>\n",
       "      <th>Cycle_1</th>\n",
       "      <th>Cycle_2</th>\n",
       "      <th>Cycle_3</th>\n",
       "      <th>Cycle_4</th>\n",
       "      <th>Cycle_5</th>\n",
       "    </tr>\n",
       "  </thead>\n",
       "  <tbody>\n",
       "    <tr>\n",
       "      <th>count</th>\n",
       "      <td>8.000000</td>\n",
       "      <td>8.000000</td>\n",
       "      <td>8.000000</td>\n",
       "      <td>8.000000</td>\n",
       "      <td>8.000000</td>\n",
       "    </tr>\n",
       "    <tr>\n",
       "      <th>mean</th>\n",
       "      <td>0.065566</td>\n",
       "      <td>0.310844</td>\n",
       "      <td>-0.101020</td>\n",
       "      <td>-0.221480</td>\n",
       "      <td>0.068616</td>\n",
       "    </tr>\n",
       "    <tr>\n",
       "      <th>std</th>\n",
       "      <td>1.019031</td>\n",
       "      <td>0.946721</td>\n",
       "      <td>1.142760</td>\n",
       "      <td>0.745362</td>\n",
       "      <td>0.829178</td>\n",
       "    </tr>\n",
       "    <tr>\n",
       "      <th>min</th>\n",
       "      <td>-1.749765</td>\n",
       "      <td>-1.443217</td>\n",
       "      <td>-1.690617</td>\n",
       "      <td>-1.356399</td>\n",
       "      <td>-1.232435</td>\n",
       "    </tr>\n",
       "    <tr>\n",
       "      <th>25%</th>\n",
       "      <td>-0.456467</td>\n",
       "      <td>0.033065</td>\n",
       "      <td>-0.834775</td>\n",
       "      <td>-0.539211</td>\n",
       "      <td>-0.237823</td>\n",
       "    </tr>\n",
       "    <tr>\n",
       "      <th>50%</th>\n",
       "      <td>0.058994</td>\n",
       "      <td>0.388922</td>\n",
       "      <td>-0.417737</td>\n",
       "      <td>-0.289337</td>\n",
       "      <td>0.219760</td>\n",
       "    </tr>\n",
       "    <tr>\n",
       "      <th>75%</th>\n",
       "      <td>0.619935</td>\n",
       "      <td>0.845656</td>\n",
       "      <td>1.060558</td>\n",
       "      <td>0.061992</td>\n",
       "      <td>0.692152</td>\n",
       "    </tr>\n",
       "    <tr>\n",
       "      <th>max</th>\n",
       "      <td>1.618982</td>\n",
       "      <td>1.541605</td>\n",
       "      <td>1.361556</td>\n",
       "      <td>0.816847</td>\n",
       "      <td>0.981321</td>\n",
       "    </tr>\n",
       "  </tbody>\n",
       "</table>\n",
       "</div>"
      ],
      "text/plain": [
       "        Cycle_1   Cycle_2   Cycle_3   Cycle_4   Cycle_5\n",
       "count  8.000000  8.000000  8.000000  8.000000  8.000000\n",
       "mean   0.065566  0.310844 -0.101020 -0.221480  0.068616\n",
       "std    1.019031  0.946721  1.142760  0.745362  0.829178\n",
       "min   -1.749765 -1.443217 -1.690617 -1.356399 -1.232435\n",
       "25%   -0.456467  0.033065 -0.834775 -0.539211 -0.237823\n",
       "50%    0.058994  0.388922 -0.417737 -0.289337  0.219760\n",
       "75%    0.619935  0.845656  1.060558  0.061992  0.692152\n",
       "max    1.618982  1.541605  1.361556  0.816847  0.981321"
      ]
     },
     "execution_count": 31,
     "metadata": {},
     "output_type": "execute_result"
    }
   ],
   "source": [
    "life_cycle.describe()"
   ]
  },
  {
   "cell_type": "code",
   "execution_count": 32,
   "id": "79551709",
   "metadata": {},
   "outputs": [
    {
     "data": {
      "text/html": [
       "<div>\n",
       "<style scoped>\n",
       "    .dataframe tbody tr th:only-of-type {\n",
       "        vertical-align: middle;\n",
       "    }\n",
       "\n",
       "    .dataframe tbody tr th {\n",
       "        vertical-align: top;\n",
       "    }\n",
       "\n",
       "    .dataframe thead th {\n",
       "        text-align: right;\n",
       "    }\n",
       "</style>\n",
       "<table border=\"1\" class=\"dataframe\">\n",
       "  <thead>\n",
       "    <tr style=\"text-align: right;\">\n",
       "      <th></th>\n",
       "      <th>Cycle_1</th>\n",
       "      <th>Cycle_2</th>\n",
       "      <th>Cycle_3</th>\n",
       "      <th>Cycle_4</th>\n",
       "      <th>Cycle_5</th>\n",
       "    </tr>\n",
       "  </thead>\n",
       "  <tbody>\n",
       "    <tr>\n",
       "      <th>Land</th>\n",
       "      <td>-1.749765</td>\n",
       "      <td>0.342680</td>\n",
       "      <td>1.153036</td>\n",
       "      <td>-0.252436</td>\n",
       "      <td>0.981321</td>\n",
       "    </tr>\n",
       "    <tr>\n",
       "      <th>Seismic</th>\n",
       "      <td>-1.235547</td>\n",
       "      <td>0.563860</td>\n",
       "      <td>0.082992</td>\n",
       "      <td>-0.441932</td>\n",
       "      <td>1.236322</td>\n",
       "    </tr>\n",
       "    <tr>\n",
       "      <th>Geology</th>\n",
       "      <td>-1.693574</td>\n",
       "      <td>0.999024</td>\n",
       "      <td>-0.500603</td>\n",
       "      <td>0.374915</td>\n",
       "      <td>1.909043</td>\n",
       "    </tr>\n",
       "    <tr>\n",
       "      <th>Drilling</th>\n",
       "      <td>-1.797985</td>\n",
       "      <td>0.467743</td>\n",
       "      <td>0.529130</td>\n",
       "      <td>-0.063220</td>\n",
       "      <td>0.790725</td>\n",
       "    </tr>\n",
       "    <tr>\n",
       "      <th>Completions</th>\n",
       "      <td>-0.179003</td>\n",
       "      <td>2.009348</td>\n",
       "      <td>0.277251</td>\n",
       "      <td>-0.905656</td>\n",
       "      <td>0.975243</td>\n",
       "    </tr>\n",
       "    <tr>\n",
       "      <th>Production</th>\n",
       "      <td>0.758079</td>\n",
       "      <td>2.740349</td>\n",
       "      <td>1.638807</td>\n",
       "      <td>-1.231894</td>\n",
       "      <td>1.030919</td>\n",
       "    </tr>\n",
       "    <tr>\n",
       "      <th>Facilities</th>\n",
       "      <td>0.980479</td>\n",
       "      <td>1.297132</td>\n",
       "      <td>0.882455</td>\n",
       "      <td>-0.415440</td>\n",
       "      <td>1.781364</td>\n",
       "    </tr>\n",
       "    <tr>\n",
       "      <th>Midstream</th>\n",
       "      <td>0.524532</td>\n",
       "      <td>2.486754</td>\n",
       "      <td>-0.808162</td>\n",
       "      <td>-1.771839</td>\n",
       "      <td>0.548930</td>\n",
       "    </tr>\n",
       "  </tbody>\n",
       "</table>\n",
       "</div>"
      ],
      "text/plain": [
       "              Cycle_1   Cycle_2   Cycle_3   Cycle_4   Cycle_5\n",
       "Land        -1.749765  0.342680  1.153036 -0.252436  0.981321\n",
       "Seismic     -1.235547  0.563860  0.082992 -0.441932  1.236322\n",
       "Geology     -1.693574  0.999024 -0.500603  0.374915  1.909043\n",
       "Drilling    -1.797985  0.467743  0.529130 -0.063220  0.790725\n",
       "Completions -0.179003  2.009348  0.277251 -0.905656  0.975243\n",
       "Production   0.758079  2.740349  1.638807 -1.231894  1.030919\n",
       "Facilities   0.980479  1.297132  0.882455 -0.415440  1.781364\n",
       "Midstream    0.524532  2.486754 -0.808162 -1.771839  0.548930"
      ]
     },
     "execution_count": 32,
     "metadata": {},
     "output_type": "execute_result"
    }
   ],
   "source": [
    "life_cycle.cumsum()"
   ]
  },
  {
   "cell_type": "code",
   "execution_count": 33,
   "id": "32cfc39c",
   "metadata": {},
   "outputs": [
    {
     "data": {
      "text/html": [
       "<div>\n",
       "<style scoped>\n",
       "    .dataframe tbody tr th:only-of-type {\n",
       "        vertical-align: middle;\n",
       "    }\n",
       "\n",
       "    .dataframe tbody tr th {\n",
       "        vertical-align: top;\n",
       "    }\n",
       "\n",
       "    .dataframe thead th {\n",
       "        text-align: right;\n",
       "    }\n",
       "</style>\n",
       "<table border=\"1\" class=\"dataframe\">\n",
       "  <thead>\n",
       "    <tr style=\"text-align: right;\">\n",
       "      <th></th>\n",
       "      <th>Cycle_2</th>\n",
       "      <th>Cycle_3</th>\n",
       "      <th>Cycle_4</th>\n",
       "    </tr>\n",
       "  </thead>\n",
       "  <tbody>\n",
       "    <tr>\n",
       "      <th>Land</th>\n",
       "      <td>0.342680</td>\n",
       "      <td>1.153036</td>\n",
       "      <td>-0.252436</td>\n",
       "    </tr>\n",
       "    <tr>\n",
       "      <th>Seismic</th>\n",
       "      <td>0.221180</td>\n",
       "      <td>-1.070043</td>\n",
       "      <td>-0.189496</td>\n",
       "    </tr>\n",
       "    <tr>\n",
       "      <th>Geology</th>\n",
       "      <td>0.435163</td>\n",
       "      <td>-0.583595</td>\n",
       "      <td>0.816847</td>\n",
       "    </tr>\n",
       "    <tr>\n",
       "      <th>Drilling</th>\n",
       "      <td>-0.531280</td>\n",
       "      <td>1.029733</td>\n",
       "      <td>-0.438136</td>\n",
       "    </tr>\n",
       "    <tr>\n",
       "      <th>Completions</th>\n",
       "      <td>1.541605</td>\n",
       "      <td>-0.251879</td>\n",
       "      <td>-0.842436</td>\n",
       "    </tr>\n",
       "    <tr>\n",
       "      <th>Production</th>\n",
       "      <td>0.731000</td>\n",
       "      <td>1.361556</td>\n",
       "      <td>-0.326238</td>\n",
       "    </tr>\n",
       "    <tr>\n",
       "      <th>Facilities</th>\n",
       "      <td>-1.443217</td>\n",
       "      <td>-0.756352</td>\n",
       "      <td>0.816454</td>\n",
       "    </tr>\n",
       "    <tr>\n",
       "      <th>Midstream</th>\n",
       "      <td>1.189622</td>\n",
       "      <td>-1.690617</td>\n",
       "      <td>-1.356399</td>\n",
       "    </tr>\n",
       "  </tbody>\n",
       "</table>\n",
       "</div>"
      ],
      "text/plain": [
       "              Cycle_2   Cycle_3   Cycle_4\n",
       "Land         0.342680  1.153036 -0.252436\n",
       "Seismic      0.221180 -1.070043 -0.189496\n",
       "Geology      0.435163 -0.583595  0.816847\n",
       "Drilling    -0.531280  1.029733 -0.438136\n",
       "Completions  1.541605 -0.251879 -0.842436\n",
       "Production   0.731000  1.361556 -0.326238\n",
       "Facilities  -1.443217 -0.756352  0.816454\n",
       "Midstream    1.189622 -1.690617 -1.356399"
      ]
     },
     "execution_count": 33,
     "metadata": {},
     "output_type": "execute_result"
    }
   ],
   "source": [
    "life_cycle[['Cycle_2','Cycle_3','Cycle_4']]"
   ]
  },
  {
   "cell_type": "code",
   "execution_count": 34,
   "id": "5518c602",
   "metadata": {},
   "outputs": [
    {
     "data": {
      "text/plain": [
       "Land           0.342680\n",
       "Seismic        0.221180\n",
       "Geology        0.435163\n",
       "Drilling      -0.531280\n",
       "Completions    1.541605\n",
       "Production     0.731000\n",
       "Facilities    -1.443217\n",
       "Midstream      1.189622\n",
       "Name: Cycle_2, dtype: float64"
      ]
     },
     "execution_count": 34,
     "metadata": {},
     "output_type": "execute_result"
    }
   ],
   "source": [
    "life_cycle['Cycle_2']"
   ]
  },
  {
   "cell_type": "code",
   "execution_count": 35,
   "id": "b7704611",
   "metadata": {},
   "outputs": [
    {
     "data": {
      "text/plain": [
       "Land           0.474835\n",
       "Seismic       -0.269139\n",
       "Geology        0.883109\n",
       "Drilling      -1.162413\n",
       "Completions    2.250791\n",
       "Production     2.759077\n",
       "Facilities    -0.410271\n",
       "Midstream     -3.545775\n",
       "Name: Cycle_Total, dtype: float64"
      ]
     },
     "execution_count": 35,
     "metadata": {},
     "output_type": "execute_result"
    }
   ],
   "source": [
    "life_cycle['Cycle_Total']=life_cycle['Cycle_1']+life_cycle['Cycle_2']+life_cycle['Cycle_3']+life_cycle['Cycle_4']+life_cycle['Cycle_5']\n",
    "life_cycle['Cycle_Total']"
   ]
  },
  {
   "cell_type": "code",
   "execution_count": 36,
   "id": "9aca9f4a",
   "metadata": {
    "scrolled": true
   },
   "outputs": [
    {
     "data": {
      "text/plain": [
       "Land          -0.599610\n",
       "Seismic        0.113735\n",
       "Geology       -0.199317\n",
       "Drilling       0.055472\n",
       "Completions    2.495831\n",
       "Production     0.685007\n",
       "Facilities    -0.320971\n",
       "Midstream     -0.542405\n",
       "Name: Cycle_1_2_Mult, dtype: float64"
      ]
     },
     "execution_count": 36,
     "metadata": {},
     "output_type": "execute_result"
    }
   ],
   "source": [
    "life_cycle['Cycle_1_2_Mult']=life_cycle['Cycle_1']*life_cycle['Cycle_2']\n",
    "life_cycle['Cycle_1_2_Mult']"
   ]
  },
  {
   "cell_type": "code",
   "execution_count": 72,
   "id": "c90c31e1",
   "metadata": {},
   "outputs": [
    {
     "data": {
      "text/plain": [
       "Geology       -0.199317\n",
       "Drilling       0.055472\n",
       "Completions    2.495831\n",
       "Production     0.685007\n",
       "Facilities    -0.320971\n",
       "Midstream     -0.542405\n",
       "Name: Cycle_1_2_Mult, dtype: float64"
      ]
     },
     "execution_count": 72,
     "metadata": {},
     "output_type": "execute_result"
    }
   ],
   "source": [
    "life_cycle['Cycle_1_2_Mult']=life_cycle['Cycle_1']*life_cycle ['Cycle_2']\n",
    "life_cycle['Cycle_1_2_Mult']"
   ]
  },
  {
   "cell_type": "code",
   "execution_count": 73,
   "id": "2f2ebb0c",
   "metadata": {},
   "outputs": [
    {
     "data": {
      "text/html": [
       "<div>\n",
       "<style scoped>\n",
       "    .dataframe tbody tr th:only-of-type {\n",
       "        vertical-align: middle;\n",
       "    }\n",
       "\n",
       "    .dataframe tbody tr th {\n",
       "        vertical-align: top;\n",
       "    }\n",
       "\n",
       "    .dataframe thead th {\n",
       "        text-align: right;\n",
       "    }\n",
       "</style>\n",
       "<table border=\"1\" class=\"dataframe\">\n",
       "  <thead>\n",
       "    <tr style=\"text-align: right;\">\n",
       "      <th></th>\n",
       "      <th>Cycle_1</th>\n",
       "      <th>Cycle_2</th>\n",
       "      <th>Cycle_3</th>\n",
       "      <th>Cycle_4</th>\n",
       "      <th>Cycle_5</th>\n",
       "      <th>Cycle_1_2_Mult</th>\n",
       "    </tr>\n",
       "  </thead>\n",
       "  <tbody>\n",
       "    <tr>\n",
       "      <th>Geology</th>\n",
       "      <td>-0.458027</td>\n",
       "      <td>0.435163</td>\n",
       "      <td>-0.583595</td>\n",
       "      <td>0.816847</td>\n",
       "      <td>0.672721</td>\n",
       "      <td>-0.199317</td>\n",
       "    </tr>\n",
       "    <tr>\n",
       "      <th>Drilling</th>\n",
       "      <td>-0.104411</td>\n",
       "      <td>-0.531280</td>\n",
       "      <td>1.029733</td>\n",
       "      <td>-0.438136</td>\n",
       "      <td>-1.118318</td>\n",
       "      <td>0.055472</td>\n",
       "    </tr>\n",
       "    <tr>\n",
       "      <th>Completions</th>\n",
       "      <td>1.618982</td>\n",
       "      <td>1.541605</td>\n",
       "      <td>-0.251879</td>\n",
       "      <td>-0.842436</td>\n",
       "      <td>0.184519</td>\n",
       "      <td>2.495831</td>\n",
       "    </tr>\n",
       "    <tr>\n",
       "      <th>Production</th>\n",
       "      <td>0.937082</td>\n",
       "      <td>0.731000</td>\n",
       "      <td>1.361556</td>\n",
       "      <td>-0.326238</td>\n",
       "      <td>0.055676</td>\n",
       "      <td>0.685007</td>\n",
       "    </tr>\n",
       "    <tr>\n",
       "      <th>Facilities</th>\n",
       "      <td>0.222400</td>\n",
       "      <td>-1.443217</td>\n",
       "      <td>-0.756352</td>\n",
       "      <td>0.816454</td>\n",
       "      <td>0.750445</td>\n",
       "      <td>-0.320971</td>\n",
       "    </tr>\n",
       "    <tr>\n",
       "      <th>Midstream</th>\n",
       "      <td>-0.455947</td>\n",
       "      <td>1.189622</td>\n",
       "      <td>-1.690617</td>\n",
       "      <td>-1.356399</td>\n",
       "      <td>-1.232435</td>\n",
       "      <td>-0.542405</td>\n",
       "    </tr>\n",
       "  </tbody>\n",
       "</table>\n",
       "</div>"
      ],
      "text/plain": [
       "              Cycle_1   Cycle_2   Cycle_3   Cycle_4   Cycle_5  Cycle_1_2_Mult\n",
       "Geology     -0.458027  0.435163 -0.583595  0.816847  0.672721       -0.199317\n",
       "Drilling    -0.104411 -0.531280  1.029733 -0.438136 -1.118318        0.055472\n",
       "Completions  1.618982  1.541605 -0.251879 -0.842436  0.184519        2.495831\n",
       "Production   0.937082  0.731000  1.361556 -0.326238  0.055676        0.685007\n",
       "Facilities   0.222400 -1.443217 -0.756352  0.816454  0.750445       -0.320971\n",
       "Midstream   -0.455947  1.189622 -1.690617 -1.356399 -1.232435       -0.542405"
      ]
     },
     "execution_count": 73,
     "metadata": {},
     "output_type": "execute_result"
    }
   ],
   "source": [
    "life_cycle"
   ]
  },
  {
   "cell_type": "code",
   "execution_count": 78,
   "id": "222d0081",
   "metadata": {},
   "outputs": [
    {
     "data": {
      "text/html": [
       "<div>\n",
       "<style scoped>\n",
       "    .dataframe tbody tr th:only-of-type {\n",
       "        vertical-align: middle;\n",
       "    }\n",
       "\n",
       "    .dataframe tbody tr th {\n",
       "        vertical-align: top;\n",
       "    }\n",
       "\n",
       "    .dataframe thead th {\n",
       "        text-align: right;\n",
       "    }\n",
       "</style>\n",
       "<table border=\"1\" class=\"dataframe\">\n",
       "  <thead>\n",
       "    <tr style=\"text-align: right;\">\n",
       "      <th></th>\n",
       "      <th>Cycle_1</th>\n",
       "      <th>Cycle_2</th>\n",
       "      <th>Cycle_3</th>\n",
       "      <th>Cycle_4</th>\n",
       "      <th>Cycle_5</th>\n",
       "    </tr>\n",
       "  </thead>\n",
       "  <tbody>\n",
       "    <tr>\n",
       "      <th>Geology</th>\n",
       "      <td>-0.458027</td>\n",
       "      <td>0.435163</td>\n",
       "      <td>-0.583595</td>\n",
       "      <td>0.816847</td>\n",
       "      <td>0.672721</td>\n",
       "    </tr>\n",
       "    <tr>\n",
       "      <th>Drilling</th>\n",
       "      <td>-0.104411</td>\n",
       "      <td>-0.531280</td>\n",
       "      <td>1.029733</td>\n",
       "      <td>-0.438136</td>\n",
       "      <td>-1.118318</td>\n",
       "    </tr>\n",
       "    <tr>\n",
       "      <th>Completions</th>\n",
       "      <td>1.618982</td>\n",
       "      <td>1.541605</td>\n",
       "      <td>-0.251879</td>\n",
       "      <td>-0.842436</td>\n",
       "      <td>0.184519</td>\n",
       "    </tr>\n",
       "    <tr>\n",
       "      <th>Production</th>\n",
       "      <td>0.937082</td>\n",
       "      <td>0.731000</td>\n",
       "      <td>1.361556</td>\n",
       "      <td>-0.326238</td>\n",
       "      <td>0.055676</td>\n",
       "    </tr>\n",
       "    <tr>\n",
       "      <th>Facilities</th>\n",
       "      <td>0.222400</td>\n",
       "      <td>-1.443217</td>\n",
       "      <td>-0.756352</td>\n",
       "      <td>0.816454</td>\n",
       "      <td>0.750445</td>\n",
       "    </tr>\n",
       "    <tr>\n",
       "      <th>Midstream</th>\n",
       "      <td>-0.455947</td>\n",
       "      <td>1.189622</td>\n",
       "      <td>-1.690617</td>\n",
       "      <td>-1.356399</td>\n",
       "      <td>-1.232435</td>\n",
       "    </tr>\n",
       "  </tbody>\n",
       "</table>\n",
       "</div>"
      ],
      "text/plain": [
       "              Cycle_1   Cycle_2   Cycle_3   Cycle_4   Cycle_5\n",
       "Geology     -0.458027  0.435163 -0.583595  0.816847  0.672721\n",
       "Drilling    -0.104411 -0.531280  1.029733 -0.438136 -1.118318\n",
       "Completions  1.618982  1.541605 -0.251879 -0.842436  0.184519\n",
       "Production   0.937082  0.731000  1.361556 -0.326238  0.055676\n",
       "Facilities   0.222400 -1.443217 -0.756352  0.816454  0.750445\n",
       "Midstream   -0.455947  1.189622 -1.690617 -1.356399 -1.232435"
      ]
     },
     "execution_count": 78,
     "metadata": {},
     "output_type": "execute_result"
    }
   ],
   "source": [
    "life_cycle.drop(labels=['Cycle_1_2_Mult'], \n",
    "axis=1,\n",
    "inplace=True)\n",
    "life_cycle"
   ]
  },
  {
   "cell_type": "code",
   "execution_count": 64,
   "id": "fa6d50bf",
   "metadata": {},
   "outputs": [
    {
     "data": {
      "text/html": [
       "<div>\n",
       "<style scoped>\n",
       "    .dataframe tbody tr th:only-of-type {\n",
       "        vertical-align: middle;\n",
       "    }\n",
       "\n",
       "    .dataframe tbody tr th {\n",
       "        vertical-align: top;\n",
       "    }\n",
       "\n",
       "    .dataframe thead th {\n",
       "        text-align: right;\n",
       "    }\n",
       "</style>\n",
       "<table border=\"1\" class=\"dataframe\">\n",
       "  <thead>\n",
       "    <tr style=\"text-align: right;\">\n",
       "      <th></th>\n",
       "      <th>Cycle_1</th>\n",
       "      <th>Cycle_2</th>\n",
       "      <th>Cycle_3</th>\n",
       "      <th>Cycle_4</th>\n",
       "      <th>Cycle_5</th>\n",
       "    </tr>\n",
       "  </thead>\n",
       "  <tbody>\n",
       "    <tr>\n",
       "      <th>Geology</th>\n",
       "      <td>-0.458027</td>\n",
       "      <td>0.435163</td>\n",
       "      <td>-0.583595</td>\n",
       "      <td>0.816847</td>\n",
       "      <td>0.672721</td>\n",
       "    </tr>\n",
       "    <tr>\n",
       "      <th>Drilling</th>\n",
       "      <td>-0.104411</td>\n",
       "      <td>-0.531280</td>\n",
       "      <td>1.029733</td>\n",
       "      <td>-0.438136</td>\n",
       "      <td>-1.118318</td>\n",
       "    </tr>\n",
       "    <tr>\n",
       "      <th>Completions</th>\n",
       "      <td>1.618982</td>\n",
       "      <td>1.541605</td>\n",
       "      <td>-0.251879</td>\n",
       "      <td>-0.842436</td>\n",
       "      <td>0.184519</td>\n",
       "    </tr>\n",
       "    <tr>\n",
       "      <th>Production</th>\n",
       "      <td>0.937082</td>\n",
       "      <td>0.731000</td>\n",
       "      <td>1.361556</td>\n",
       "      <td>-0.326238</td>\n",
       "      <td>0.055676</td>\n",
       "    </tr>\n",
       "    <tr>\n",
       "      <th>Facilities</th>\n",
       "      <td>0.222400</td>\n",
       "      <td>-1.443217</td>\n",
       "      <td>-0.756352</td>\n",
       "      <td>0.816454</td>\n",
       "      <td>0.750445</td>\n",
       "    </tr>\n",
       "    <tr>\n",
       "      <th>Midstream</th>\n",
       "      <td>-0.455947</td>\n",
       "      <td>1.189622</td>\n",
       "      <td>-1.690617</td>\n",
       "      <td>-1.356399</td>\n",
       "      <td>-1.232435</td>\n",
       "    </tr>\n",
       "  </tbody>\n",
       "</table>\n",
       "</div>"
      ],
      "text/plain": [
       "              Cycle_1   Cycle_2   Cycle_3   Cycle_4   Cycle_5\n",
       "Geology     -0.458027  0.435163 -0.583595  0.816847  0.672721\n",
       "Drilling    -0.104411 -0.531280  1.029733 -0.438136 -1.118318\n",
       "Completions  1.618982  1.541605 -0.251879 -0.842436  0.184519\n",
       "Production   0.937082  0.731000  1.361556 -0.326238  0.055676\n",
       "Facilities   0.222400 -1.443217 -0.756352  0.816454  0.750445\n",
       "Midstream   -0.455947  1.189622 -1.690617 -1.356399 -1.232435"
      ]
     },
     "execution_count": 64,
     "metadata": {},
     "output_type": "execute_result"
    }
   ],
   "source": [
    "life_cycle.drop(labels=['Land','Seismic'], \n",
    "axis=0, \n",
    "inplace=True)\n",
    "life_cycle"
   ]
  },
  {
   "cell_type": "code",
   "execution_count": 79,
   "id": "184c3c3d",
   "metadata": {},
   "outputs": [
    {
     "name": "stdout",
     "output_type": "stream",
     "text": [
      "    Cycle_1   Cycle_2   Cycle_3   Cycle_4   Cycle_5\n",
      "0 -1.450948  1.910953  0.711879 -0.247738  0.361466\n",
      "1 -0.032950 -0.221347  0.477257 -0.691939  0.792006\n",
      "2  0.073249  1.303286  0.213481  1.017349  1.911712\n",
      "3 -0.529672  1.842135 -1.057235 -0.862916  0.237631\n",
      "4 -1.154182  1.214984 -1.293759  0.822723 -0.332151\n"
     ]
    }
   ],
   "source": [
    "from numpy.random import randn\n",
    "import numpy as np\n",
    "import pandas as pd\n",
    "seed=200\n",
    "np.random.seed(seed)\n",
    "matrix=pd.DataFrame(randn(5,5),\n",
    "columns='Cycle_1 Cycle_2 Cycle_3 Cycle_4 Cycle_5'.split())\n",
    "print(matrix)"
   ]
  },
  {
   "cell_type": "code",
   "execution_count": 80,
   "id": "c83860a5",
   "metadata": {},
   "outputs": [
    {
     "data": {
      "text/html": [
       "<div>\n",
       "<style scoped>\n",
       "    .dataframe tbody tr th:only-of-type {\n",
       "        vertical-align: middle;\n",
       "    }\n",
       "\n",
       "    .dataframe tbody tr th {\n",
       "        vertical-align: top;\n",
       "    }\n",
       "\n",
       "    .dataframe thead th {\n",
       "        text-align: right;\n",
       "    }\n",
       "</style>\n",
       "<table border=\"1\" class=\"dataframe\">\n",
       "  <thead>\n",
       "    <tr style=\"text-align: right;\">\n",
       "      <th></th>\n",
       "      <th>Cycle_1</th>\n",
       "      <th>Cycle_2</th>\n",
       "      <th>Cycle_3</th>\n",
       "      <th>Cycle_4</th>\n",
       "      <th>Cycle_5</th>\n",
       "    </tr>\n",
       "  </thead>\n",
       "  <tbody>\n",
       "    <tr>\n",
       "      <th>0</th>\n",
       "      <td>-1.450948</td>\n",
       "      <td>1.910953</td>\n",
       "      <td>0.711879</td>\n",
       "      <td>-0.247738</td>\n",
       "      <td>0.361466</td>\n",
       "    </tr>\n",
       "    <tr>\n",
       "      <th>1</th>\n",
       "      <td>-0.032950</td>\n",
       "      <td>-0.221347</td>\n",
       "      <td>0.477257</td>\n",
       "      <td>-0.691939</td>\n",
       "      <td>0.792006</td>\n",
       "    </tr>\n",
       "    <tr>\n",
       "      <th>2</th>\n",
       "      <td>0.073249</td>\n",
       "      <td>1.303286</td>\n",
       "      <td>0.213481</td>\n",
       "      <td>1.017349</td>\n",
       "      <td>1.911712</td>\n",
       "    </tr>\n",
       "  </tbody>\n",
       "</table>\n",
       "</div>"
      ],
      "text/plain": [
       "    Cycle_1   Cycle_2   Cycle_3   Cycle_4   Cycle_5\n",
       "0 -1.450948  1.910953  0.711879 -0.247738  0.361466\n",
       "1 -0.032950 -0.221347  0.477257 -0.691939  0.792006\n",
       "2  0.073249  1.303286  0.213481  1.017349  1.911712"
      ]
     },
     "execution_count": 80,
     "metadata": {},
     "output_type": "execute_result"
    }
   ],
   "source": [
    "matrix.loc[0:2,:]"
   ]
  },
  {
   "cell_type": "code",
   "execution_count": 86,
   "id": "2729f41d",
   "metadata": {},
   "outputs": [
    {
     "data": {
      "text/html": [
       "<div>\n",
       "<style scoped>\n",
       "    .dataframe tbody tr th:only-of-type {\n",
       "        vertical-align: middle;\n",
       "    }\n",
       "\n",
       "    .dataframe tbody tr th {\n",
       "        vertical-align: top;\n",
       "    }\n",
       "\n",
       "    .dataframe thead th {\n",
       "        text-align: right;\n",
       "    }\n",
       "</style>\n",
       "<table border=\"1\" class=\"dataframe\">\n",
       "  <thead>\n",
       "    <tr style=\"text-align: right;\">\n",
       "      <th></th>\n",
       "      <th>Cycle_1</th>\n",
       "      <th>Cycle_2</th>\n",
       "      <th>Cycle_3</th>\n",
       "      <th>Cycle_4</th>\n",
       "      <th>Cycle_5</th>\n",
       "    </tr>\n",
       "  </thead>\n",
       "  <tbody>\n",
       "    <tr>\n",
       "      <th>0</th>\n",
       "      <td>-1.450948</td>\n",
       "      <td>1.910953</td>\n",
       "      <td>0.711879</td>\n",
       "      <td>-0.247738</td>\n",
       "      <td>0.361466</td>\n",
       "    </tr>\n",
       "    <tr>\n",
       "      <th>1</th>\n",
       "      <td>-0.032950</td>\n",
       "      <td>-0.221347</td>\n",
       "      <td>0.477257</td>\n",
       "      <td>-0.691939</td>\n",
       "      <td>0.792006</td>\n",
       "    </tr>\n",
       "    <tr>\n",
       "      <th>2</th>\n",
       "      <td>0.073249</td>\n",
       "      <td>1.303286</td>\n",
       "      <td>0.213481</td>\n",
       "      <td>1.017349</td>\n",
       "      <td>1.911712</td>\n",
       "    </tr>\n",
       "  </tbody>\n",
       "</table>\n",
       "</div>"
      ],
      "text/plain": [
       "    Cycle_1   Cycle_2   Cycle_3   Cycle_4   Cycle_5\n",
       "0 -1.450948  1.910953  0.711879 -0.247738  0.361466\n",
       "1 -0.032950 -0.221347  0.477257 -0.691939  0.792006\n",
       "2  0.073249  1.303286  0.213481  1.017349  1.911712"
      ]
     },
     "execution_count": 86,
     "metadata": {},
     "output_type": "execute_result"
    }
   ],
   "source": [
    "matrix.loc[[0,1,2],:]\n"
   ]
  },
  {
   "cell_type": "code",
   "execution_count": 87,
   "id": "e100ec47",
   "metadata": {},
   "outputs": [
    {
     "data": {
      "text/html": [
       "<div>\n",
       "<style scoped>\n",
       "    .dataframe tbody tr th:only-of-type {\n",
       "        vertical-align: middle;\n",
       "    }\n",
       "\n",
       "    .dataframe tbody tr th {\n",
       "        vertical-align: top;\n",
       "    }\n",
       "\n",
       "    .dataframe thead th {\n",
       "        text-align: right;\n",
       "    }\n",
       "</style>\n",
       "<table border=\"1\" class=\"dataframe\">\n",
       "  <thead>\n",
       "    <tr style=\"text-align: right;\">\n",
       "      <th></th>\n",
       "      <th>Cycle_1</th>\n",
       "      <th>Cycle_2</th>\n",
       "    </tr>\n",
       "  </thead>\n",
       "  <tbody>\n",
       "    <tr>\n",
       "      <th>0</th>\n",
       "      <td>-1.450948</td>\n",
       "      <td>1.910953</td>\n",
       "    </tr>\n",
       "    <tr>\n",
       "      <th>1</th>\n",
       "      <td>-0.032950</td>\n",
       "      <td>-0.221347</td>\n",
       "    </tr>\n",
       "    <tr>\n",
       "      <th>2</th>\n",
       "      <td>0.073249</td>\n",
       "      <td>1.303286</td>\n",
       "    </tr>\n",
       "    <tr>\n",
       "      <th>3</th>\n",
       "      <td>-0.529672</td>\n",
       "      <td>1.842135</td>\n",
       "    </tr>\n",
       "    <tr>\n",
       "      <th>4</th>\n",
       "      <td>-1.154182</td>\n",
       "      <td>1.214984</td>\n",
       "    </tr>\n",
       "  </tbody>\n",
       "</table>\n",
       "</div>"
      ],
      "text/plain": [
       "    Cycle_1   Cycle_2\n",
       "0 -1.450948  1.910953\n",
       "1 -0.032950 -0.221347\n",
       "2  0.073249  1.303286\n",
       "3 -0.529672  1.842135\n",
       "4 -1.154182  1.214984"
      ]
     },
     "execution_count": 87,
     "metadata": {},
     "output_type": "execute_result"
    }
   ],
   "source": [
    "matrix.loc[:,['Cycle_1','Cycle_2']]"
   ]
  },
  {
   "cell_type": "code",
   "execution_count": 88,
   "id": "c0a72e2f",
   "metadata": {},
   "outputs": [
    {
     "data": {
      "text/html": [
       "<div>\n",
       "<style scoped>\n",
       "    .dataframe tbody tr th:only-of-type {\n",
       "        vertical-align: middle;\n",
       "    }\n",
       "\n",
       "    .dataframe tbody tr th {\n",
       "        vertical-align: top;\n",
       "    }\n",
       "\n",
       "    .dataframe thead th {\n",
       "        text-align: right;\n",
       "    }\n",
       "</style>\n",
       "<table border=\"1\" class=\"dataframe\">\n",
       "  <thead>\n",
       "    <tr style=\"text-align: right;\">\n",
       "      <th></th>\n",
       "      <th>Cycle_3</th>\n",
       "      <th>Cycle_5</th>\n",
       "    </tr>\n",
       "  </thead>\n",
       "  <tbody>\n",
       "    <tr>\n",
       "      <th>0</th>\n",
       "      <td>0.711879</td>\n",
       "      <td>0.361466</td>\n",
       "    </tr>\n",
       "    <tr>\n",
       "      <th>1</th>\n",
       "      <td>0.477257</td>\n",
       "      <td>0.792006</td>\n",
       "    </tr>\n",
       "    <tr>\n",
       "      <th>2</th>\n",
       "      <td>0.213481</td>\n",
       "      <td>1.911712</td>\n",
       "    </tr>\n",
       "    <tr>\n",
       "      <th>3</th>\n",
       "      <td>-1.057235</td>\n",
       "      <td>0.237631</td>\n",
       "    </tr>\n",
       "  </tbody>\n",
       "</table>\n",
       "</div>"
      ],
      "text/plain": [
       "    Cycle_3   Cycle_5\n",
       "0  0.711879  0.361466\n",
       "1  0.477257  0.792006\n",
       "2  0.213481  1.911712\n",
       "3 -1.057235  0.237631"
      ]
     },
     "execution_count": 88,
     "metadata": {},
     "output_type": "execute_result"
    }
   ],
   "source": [
    "matrix.loc[0:3,['Cycle_3','Cycle_5']]"
   ]
  },
  {
   "cell_type": "code",
   "execution_count": 89,
   "id": "59dee9db",
   "metadata": {},
   "outputs": [
    {
     "data": {
      "text/html": [
       "<div>\n",
       "<style scoped>\n",
       "    .dataframe tbody tr th:only-of-type {\n",
       "        vertical-align: middle;\n",
       "    }\n",
       "\n",
       "    .dataframe tbody tr th {\n",
       "        vertical-align: top;\n",
       "    }\n",
       "\n",
       "    .dataframe thead th {\n",
       "        text-align: right;\n",
       "    }\n",
       "</style>\n",
       "<table border=\"1\" class=\"dataframe\">\n",
       "  <thead>\n",
       "    <tr style=\"text-align: right;\">\n",
       "      <th></th>\n",
       "      <th>Cycle_1</th>\n",
       "      <th>Cycle_2</th>\n",
       "    </tr>\n",
       "  </thead>\n",
       "  <tbody>\n",
       "    <tr>\n",
       "      <th>0</th>\n",
       "      <td>-1.450948</td>\n",
       "      <td>1.910953</td>\n",
       "    </tr>\n",
       "    <tr>\n",
       "      <th>1</th>\n",
       "      <td>-0.032950</td>\n",
       "      <td>-0.221347</td>\n",
       "    </tr>\n",
       "    <tr>\n",
       "      <th>2</th>\n",
       "      <td>0.073249</td>\n",
       "      <td>1.303286</td>\n",
       "    </tr>\n",
       "    <tr>\n",
       "      <th>3</th>\n",
       "      <td>-0.529672</td>\n",
       "      <td>1.842135</td>\n",
       "    </tr>\n",
       "    <tr>\n",
       "      <th>4</th>\n",
       "      <td>-1.154182</td>\n",
       "      <td>1.214984</td>\n",
       "    </tr>\n",
       "  </tbody>\n",
       "</table>\n",
       "</div>"
      ],
      "text/plain": [
       "    Cycle_1   Cycle_2\n",
       "0 -1.450948  1.910953\n",
       "1 -0.032950 -0.221347\n",
       "2  0.073249  1.303286\n",
       "3 -0.529672  1.842135\n",
       "4 -1.154182  1.214984"
      ]
     },
     "execution_count": 89,
     "metadata": {},
     "output_type": "execute_result"
    }
   ],
   "source": [
    "matrix.iloc[:,0:2]"
   ]
  },
  {
   "cell_type": "code",
   "execution_count": 90,
   "id": "e31545cd",
   "metadata": {},
   "outputs": [
    {
     "data": {
      "text/plain": [
       "1.0173489526279178"
      ]
     },
     "execution_count": 90,
     "metadata": {},
     "output_type": "execute_result"
    }
   ],
   "source": [
    "matrix.iloc[2,3]"
   ]
  },
  {
   "cell_type": "code",
   "execution_count": 91,
   "id": "015a95a8",
   "metadata": {},
   "outputs": [
    {
     "data": {
      "text/html": [
       "<div>\n",
       "<style scoped>\n",
       "    .dataframe tbody tr th:only-of-type {\n",
       "        vertical-align: middle;\n",
       "    }\n",
       "\n",
       "    .dataframe tbody tr th {\n",
       "        vertical-align: top;\n",
       "    }\n",
       "\n",
       "    .dataframe thead th {\n",
       "        text-align: right;\n",
       "    }\n",
       "</style>\n",
       "<table border=\"1\" class=\"dataframe\">\n",
       "  <thead>\n",
       "    <tr style=\"text-align: right;\">\n",
       "      <th></th>\n",
       "      <th>Cycle_1</th>\n",
       "      <th>Cycle_3</th>\n",
       "      <th>Cycle_5</th>\n",
       "    </tr>\n",
       "  </thead>\n",
       "  <tbody>\n",
       "    <tr>\n",
       "      <th>0</th>\n",
       "      <td>-1.450948</td>\n",
       "      <td>0.711879</td>\n",
       "      <td>0.361466</td>\n",
       "    </tr>\n",
       "    <tr>\n",
       "      <th>2</th>\n",
       "      <td>0.073249</td>\n",
       "      <td>0.213481</td>\n",
       "      <td>1.911712</td>\n",
       "    </tr>\n",
       "    <tr>\n",
       "      <th>4</th>\n",
       "      <td>-1.154182</td>\n",
       "      <td>-1.293759</td>\n",
       "      <td>-0.332151</td>\n",
       "    </tr>\n",
       "  </tbody>\n",
       "</table>\n",
       "</div>"
      ],
      "text/plain": [
       "    Cycle_1   Cycle_3   Cycle_5\n",
       "0 -1.450948  0.711879  0.361466\n",
       "2  0.073249  0.213481  1.911712\n",
       "4 -1.154182 -1.293759 -0.332151"
      ]
     },
     "execution_count": 91,
     "metadata": {},
     "output_type": "execute_result"
    }
   ],
   "source": [
    "matrix.iloc[[0,2,4],[0,2,4]]"
   ]
  },
  {
   "cell_type": "code",
   "execution_count": 92,
   "id": "eb3ba963",
   "metadata": {},
   "outputs": [
    {
     "data": {
      "text/html": [
       "<div>\n",
       "<style scoped>\n",
       "    .dataframe tbody tr th:only-of-type {\n",
       "        vertical-align: middle;\n",
       "    }\n",
       "\n",
       "    .dataframe tbody tr th {\n",
       "        vertical-align: top;\n",
       "    }\n",
       "\n",
       "    .dataframe thead th {\n",
       "        text-align: right;\n",
       "    }\n",
       "</style>\n",
       "<table border=\"1\" class=\"dataframe\">\n",
       "  <thead>\n",
       "    <tr style=\"text-align: right;\">\n",
       "      <th></th>\n",
       "      <th>Cycle_1</th>\n",
       "      <th>Cycle_2</th>\n",
       "    </tr>\n",
       "  </thead>\n",
       "  <tbody>\n",
       "    <tr>\n",
       "      <th>0</th>\n",
       "      <td>-1.450948</td>\n",
       "      <td>1.910953</td>\n",
       "    </tr>\n",
       "    <tr>\n",
       "      <th>1</th>\n",
       "      <td>-0.032950</td>\n",
       "      <td>-0.221347</td>\n",
       "    </tr>\n",
       "    <tr>\n",
       "      <th>2</th>\n",
       "      <td>0.073249</td>\n",
       "      <td>1.303286</td>\n",
       "    </tr>\n",
       "    <tr>\n",
       "      <th>3</th>\n",
       "      <td>-0.529672</td>\n",
       "      <td>1.842135</td>\n",
       "    </tr>\n",
       "    <tr>\n",
       "      <th>4</th>\n",
       "      <td>-1.154182</td>\n",
       "      <td>1.214984</td>\n",
       "    </tr>\n",
       "  </tbody>\n",
       "</table>\n",
       "</div>"
      ],
      "text/plain": [
       "    Cycle_1   Cycle_2\n",
       "0 -1.450948  1.910953\n",
       "1 -0.032950 -0.221347\n",
       "2  0.073249  1.303286\n",
       "3 -0.529672  1.842135\n",
       "4 -1.154182  1.214984"
      ]
     },
     "execution_count": 92,
     "metadata": {},
     "output_type": "execute_result"
    }
   ],
   "source": [
    "matrix[['Cycle_1','Cycle_2']]\n",
    "matrix.loc[:,['Cycle_1','Cycle_2']]"
   ]
  },
  {
   "cell_type": "code",
   "execution_count": 3,
   "id": "4ae5e38e",
   "metadata": {
    "scrolled": true
   },
   "outputs": [
    {
     "name": "stdout",
     "output_type": "stream",
     "text": [
      "\n"
     ]
    },
    {
     "data": {
      "text/plain": [
       "[]"
      ]
     },
     "execution_count": 3,
     "metadata": {},
     "output_type": "execute_result"
    }
   ],
   "source": [
    "active_imports()"
   ]
  },
  {
   "cell_type": "code",
   "execution_count": 7,
   "id": "9a3fa400",
   "metadata": {},
   "outputs": [
    {
     "data": {
      "text/plain": [
       "['import matplotlib as mpl',\n",
       " 'from sklearn.linear_model import LassoCV',\n",
       " 'import skimage',\n",
       " 'import torch',\n",
       " 'from sklearn.model_selection import GridSearchCV',\n",
       " 'from dask import dataframe as dd',\n",
       " 'import plotly.express as px',\n",
       " 'import lightgbm as lgb',\n",
       " 'import matplotlib.pyplot as plt',\n",
       " 'import glob',\n",
       " 'import imutils',\n",
       " 'from sklearn.linear_model import ElasticNet',\n",
       " 'import awswrangler as wr',\n",
       " 'from statsmodels.tsa.arima_model import ARIMA',\n",
       " 'from sklearn.ensemble import RandomForestRegressor',\n",
       " 'from sklearn.linear_model import LinearRegression',\n",
       " 'import gensim',\n",
       " 'from sklearn.manifold import TSNE',\n",
       " 'from sklearn.preprocessing import RobustScaler',\n",
       " 'from sklearn.linear_model import Ridge',\n",
       " 'import nltk',\n",
       " 'from pathlib import Path',\n",
       " 'import seaborn as sns',\n",
       " 'from sklearn import svm',\n",
       " 'import tqdm',\n",
       " 'import dash',\n",
       " 'from fbprophet import Prophet',\n",
       " 'import spacy',\n",
       " 'from xlrd import open_workbook',\n",
       " 'from sklearn.preprocessing import StandardScaler',\n",
       " 'import fastai',\n",
       " 'import plotly.graph_objs as go',\n",
       " 'import textblob',\n",
       " 'from sklearn.model_selection import RandomizedSearchCV',\n",
       " 'from sklearn.ensemble import GradientBoostingClassifier',\n",
       " 'from sklearn import metrics',\n",
       " 'import sklearn',\n",
       " 'from sklearn.model_selection import cross_val_score',\n",
       " 'import xgboost as xgb',\n",
       " 'from sklearn.preprocessing import LabelEncoder',\n",
       " 'from sklearn.ensemble import GradientBoostingRegressor',\n",
       " 'from sklearn.decomposition import PCA',\n",
       " 'from PIL import Image',\n",
       " 'import statistics',\n",
       " 'from sklearn.linear_model import Lasso',\n",
       " 'import bokeh',\n",
       " 'import re',\n",
       " 'import sys',\n",
       " 'from sklearn.preprocessing import MinMaxScaler',\n",
       " 'from sklearn.linear_model import ElasticNetCV',\n",
       " 'from sklearn.model_selection import train_test_split',\n",
       " 'from sklearn.cluster import KMeans',\n",
       " 'import tensorflow as tf',\n",
       " 'import pickle',\n",
       " 'from sklearn.model_selection import KFold',\n",
       " 'from openpyxl import load_workbook',\n",
       " 'from sklearn.feature_extraction.text import TfidfVectorizer',\n",
       " 'from scipy import stats',\n",
       " 'from scipy import signal as sg',\n",
       " 'import datetime as dt',\n",
       " 'import keras',\n",
       " 'from pyspark import SparkContext',\n",
       " 'from sklearn.model_selection import StratifiedKFold',\n",
       " 'import pydot',\n",
       " 'from sklearn.preprocessing import PolynomialFeatures',\n",
       " 'import altair as alt',\n",
       " 'from sklearn.preprocessing import OneHotEncoder',\n",
       " 'import os',\n",
       " 'from sklearn.ensemble import RandomForestClassifier',\n",
       " 'import fbprophet',\n",
       " 'import statsmodels.api as sm',\n",
       " 'import cv2',\n",
       " 'from sklearn.feature_extraction.text import CountVectorizer',\n",
       " 'import plotly as py',\n",
       " 'from sklearn.linear_model import LogisticRegression',\n",
       " 'from sklearn.linear_model import RidgeCV',\n",
       " 'from sklearn.impute import SimpleImputer']"
      ]
     },
     "execution_count": 7,
     "metadata": {},
     "output_type": "execute_result"
    }
   ],
   "source": [
    "lazy_imports()"
   ]
  },
  {
   "cell_type": "code",
   "execution_count": 6,
   "id": "1a349862",
   "metadata": {},
   "outputs": [
    {
     "data": {
      "application/javascript": [
       "\n",
       "        if (window._pyforest_update_imports_cell) { window._pyforest_update_imports_cell('import numpy as np'); }\n",
       "    "
      ],
      "text/plain": [
       "<IPython.core.display.Javascript object>"
      ]
     },
     "metadata": {},
     "output_type": "display_data"
    },
    {
     "data": {
      "application/javascript": [
       "\n",
       "        if (window._pyforest_update_imports_cell) { window._pyforest_update_imports_cell('import numpy as np\\nimport pandas as pd'); }\n",
       "    "
      ],
      "text/plain": [
       "<IPython.core.display.Javascript object>"
      ]
     },
     "metadata": {},
     "output_type": "display_data"
    },
    {
     "ename": "NameError",
     "evalue": "name 'randn' is not defined",
     "output_type": "error",
     "traceback": [
      "\u001b[1;31m---------------------------------------------------------------------------\u001b[0m",
      "\u001b[1;31mNameError\u001b[0m                                 Traceback (most recent call last)",
      "Input \u001b[1;32mIn [6]\u001b[0m, in \u001b[0;36m<cell line: 4>\u001b[1;34m()\u001b[0m\n\u001b[0;32m      2\u001b[0m seed\u001b[38;5;241m=\u001b[39m\u001b[38;5;241m200\u001b[39m\n\u001b[0;32m      3\u001b[0m np\u001b[38;5;241m.\u001b[39mrandom\u001b[38;5;241m.\u001b[39mseed(seed)\n\u001b[1;32m----> 4\u001b[0m matrix\u001b[38;5;241m=\u001b[39mpd\u001b[38;5;241m.\u001b[39mDataFrame(\u001b[43mrandn\u001b[49m(\u001b[38;5;241m5\u001b[39m,\u001b[38;5;241m5\u001b[39m),\n\u001b[0;32m      5\u001b[0m columns\u001b[38;5;241m=\u001b[39m\u001b[38;5;124m'\u001b[39m\u001b[38;5;124mCycle_1 Cycle_2 Cycle_3 Cycle_4 Cycle_5\u001b[39m\u001b[38;5;124m'\u001b[39m\u001b[38;5;241m.\u001b[39msplit())\n\u001b[0;32m      6\u001b[0m \u001b[38;5;28mprint\u001b[39m(matrix)\n",
      "\u001b[1;31mNameError\u001b[0m: name 'randn' is not defined"
     ]
    }
   ],
   "source": [
    "lazy_imports()\n",
    "seed=200\n",
    "np.random.seed(seed)\n",
    "matrix=pd.DataFrame(randn(5,5),\n",
    "columns='Cycle_1 Cycle_2 Cycle_3 Cycle_4 Cycle_5'.split())\n",
    "print(matrix)"
   ]
  },
  {
   "cell_type": "code",
   "execution_count": 1,
   "id": "d1f3c7f7",
   "metadata": {},
   "outputs": [
    {
     "name": "stdout",
     "output_type": "stream",
     "text": [
      "Note: you may need to restart the kernel to use updated packages.Requirement already satisfied: scipy in c:\\users\\essa\\appdata\\local\\programs\\python\\python310-32\\lib\\site-packages (1.8.1)\n",
      "Requirement already satisfied: numpy<1.25.0,>=1.17.3 in c:\\users\\essa\\appdata\\local\\programs\\python\\python310-32\\lib\\site-packages (from scipy) (1.23.2)\n",
      "\n"
     ]
    }
   ],
   "source": [
    "pip install scipy"
   ]
  },
  {
   "cell_type": "code",
   "execution_count": 4,
   "id": "2084bccf",
   "metadata": {},
   "outputs": [
    {
     "name": "stdout",
     "output_type": "stream",
     "text": [
      "Requirement already satisfied: matplotlib in c:\\users\\essa\\appdata\\local\\programs\\python\\python310-32\\lib\\site-packages (3.5.3)\n",
      "Requirement already satisfied: pyparsing>=2.2.1 in c:\\users\\essa\\appdata\\local\\programs\\python\\python310-32\\lib\\site-packages (from matplotlib) (2.4.7)\n",
      "Requirement already satisfied: numpy>=1.17 in c:\\users\\essa\\appdata\\local\\programs\\python\\python310-32\\lib\\site-packages (from matplotlib) (1.23.2)\n",
      "Requirement already satisfied: pillow>=6.2.0 in c:\\users\\essa\\appdata\\local\\programs\\python\\python310-32\\lib\\site-packages (from matplotlib) (9.2.0)\n",
      "Requirement already satisfied: cycler>=0.10 in c:\\users\\essa\\appdata\\local\\programs\\python\\python310-32\\lib\\site-packages (from matplotlib) (0.11.0)\n",
      "Requirement already satisfied: kiwisolver>=1.0.1 in c:\\users\\essa\\appdata\\local\\programs\\python\\python310-32\\lib\\site-packages (from matplotlib) (1.4.4)\n",
      "Requirement already satisfied: python-dateutil>=2.7 in c:\\users\\essa\\appdata\\local\\programs\\python\\python310-32\\lib\\site-packages (from matplotlib) (2.8.2)\n",
      "Requirement already satisfied: packaging>=20.0 in c:\\users\\essa\\appdata\\local\\programs\\python\\python310-32\\lib\\site-packages (from matplotlib) (21.2)\n",
      "Requirement already satisfied: fonttools>=4.22.0 in c:\\users\\essa\\appdata\\local\\programs\\python\\python310-32\\lib\\site-packages (from matplotlib) (4.37.1)\n",
      "Requirement already satisfied: six>=1.5 in c:\\users\\essa\\appdata\\local\\programs\\python\\python310-32\\lib\\site-packages (from python-dateutil>=2.7->matplotlib) (1.16.0)\n",
      "Note: you may need to restart the kernel to use updated packages.\n"
     ]
    }
   ],
   "source": [
    "pip install matplotlib"
   ]
  },
  {
   "cell_type": "code",
   "execution_count": 5,
   "id": "6ee7c7d4",
   "metadata": {},
   "outputs": [
    {
     "name": "stdout",
     "output_type": "stream",
     "text": [
      "Note: you may need to restart the kernel to use updated packages.Requirement already satisfied: scipy in c:\\users\\essa\\appdata\\local\\programs\\python\\python310-32\\lib\\site-packages (1.8.1)\n",
      "\n",
      "Requirement already satisfied: numpy<1.25.0,>=1.17.3 in c:\\users\\essa\\appdata\\local\\programs\\python\\python310-32\\lib\\site-packages (from scipy) (1.23.2)\n"
     ]
    }
   ],
   "source": [
    "pip install scipy"
   ]
  },
  {
   "cell_type": "code",
   "execution_count": 2,
   "id": "f236a037",
   "metadata": {},
   "outputs": [
    {
     "data": {
      "text/plain": [
       "10"
      ]
     },
     "execution_count": 2,
     "metadata": {},
     "output_type": "execute_result"
    }
   ],
   "source": [
    "test_var = 10 \n",
    "test_var"
   ]
  },
  {
   "cell_type": "code",
   "execution_count": 3,
   "id": "497cad48",
   "metadata": {},
   "outputs": [
    {
     "name": "stdout",
     "output_type": "stream",
     "text": [
      "20\n",
      "20\n",
      "20\n"
     ]
    }
   ],
   "source": [
    "X1 = 10*2\n",
    "X2 = 10 * 2\n",
    "X3 =  10   *  2\n",
    "\n",
    "print(X1)\n",
    "print(X2)\n",
    "print(X3)"
   ]
  },
  {
   "cell_type": "code",
   "execution_count": 6,
   "id": "7e9ddf15",
   "metadata": {},
   "outputs": [
    {
     "name": "stdout",
     "output_type": "stream",
     "text": [
      "Count 0\n",
      "Count 1\n",
      "Count 2\n",
      "Outside the loop\n"
     ]
    }
   ],
   "source": [
    "var_length = 3\n",
    "for i in range(var_length):\n",
    "# indented code block which is a part of loop\n",
    "    print('Count', i)\n",
    "print ('Outside the loop') # not a part of loop"
   ]
  },
  {
   "cell_type": "code",
   "execution_count": 33,
   "id": "04b81370",
   "metadata": {},
   "outputs": [
    {
     "data": {
      "text/html": [
       "<div>\n",
       "<style scoped>\n",
       "    .dataframe tbody tr th:only-of-type {\n",
       "        vertical-align: middle;\n",
       "    }\n",
       "\n",
       "    .dataframe tbody tr th {\n",
       "        vertical-align: top;\n",
       "    }\n",
       "\n",
       "    .dataframe thead th {\n",
       "        text-align: right;\n",
       "    }\n",
       "</style>\n",
       "<table border=\"1\" class=\"dataframe\">\n",
       "  <thead>\n",
       "    <tr style=\"text-align: right;\">\n",
       "      <th></th>\n",
       "      <th>DEPTH</th>\n",
       "      <th>GR</th>\n",
       "      <th>SP</th>\n",
       "      <th>RHOB</th>\n",
       "      <th>DT</th>\n",
       "      <th>NPHI</th>\n",
       "      <th>MSFL</th>\n",
       "      <th>ILD</th>\n",
       "      <th>CALIPER</th>\n",
       "    </tr>\n",
       "  </thead>\n",
       "  <tbody>\n",
       "    <tr>\n",
       "      <th>0</th>\n",
       "      <td>8200.0</td>\n",
       "      <td>53</td>\n",
       "      <td>3</td>\n",
       "      <td>2.21</td>\n",
       "      <td>114</td>\n",
       "      <td>0.45</td>\n",
       "      <td>0.6</td>\n",
       "      <td>0.6</td>\n",
       "      <td>12.1</td>\n",
       "    </tr>\n",
       "    <tr>\n",
       "      <th>1</th>\n",
       "      <td>8200.5</td>\n",
       "      <td>54</td>\n",
       "      <td>4</td>\n",
       "      <td>2.22</td>\n",
       "      <td>114</td>\n",
       "      <td>0.44</td>\n",
       "      <td>0.7</td>\n",
       "      <td>0.5</td>\n",
       "      <td>12.1</td>\n",
       "    </tr>\n",
       "    <tr>\n",
       "      <th>2</th>\n",
       "      <td>8201.0</td>\n",
       "      <td>54</td>\n",
       "      <td>5</td>\n",
       "      <td>2.21</td>\n",
       "      <td>115</td>\n",
       "      <td>0.42</td>\n",
       "      <td>0.7</td>\n",
       "      <td>0.5</td>\n",
       "      <td>12.1</td>\n",
       "    </tr>\n",
       "    <tr>\n",
       "      <th>3</th>\n",
       "      <td>8201.5</td>\n",
       "      <td>54</td>\n",
       "      <td>5</td>\n",
       "      <td>2.21</td>\n",
       "      <td>115</td>\n",
       "      <td>0.41</td>\n",
       "      <td>0.6</td>\n",
       "      <td>0.5</td>\n",
       "      <td>12.0</td>\n",
       "    </tr>\n",
       "    <tr>\n",
       "      <th>4</th>\n",
       "      <td>8202.0</td>\n",
       "      <td>53</td>\n",
       "      <td>5</td>\n",
       "      <td>2.21</td>\n",
       "      <td>114</td>\n",
       "      <td>0.41</td>\n",
       "      <td>0.7</td>\n",
       "      <td>0.5</td>\n",
       "      <td>12.0</td>\n",
       "    </tr>\n",
       "    <tr>\n",
       "      <th>...</th>\n",
       "      <td>...</td>\n",
       "      <td>...</td>\n",
       "      <td>...</td>\n",
       "      <td>...</td>\n",
       "      <td>...</td>\n",
       "      <td>...</td>\n",
       "      <td>...</td>\n",
       "      <td>...</td>\n",
       "      <td>...</td>\n",
       "    </tr>\n",
       "    <tr>\n",
       "      <th>2216</th>\n",
       "      <td>9308.0</td>\n",
       "      <td>-999</td>\n",
       "      <td>999</td>\n",
       "      <td>-999.00</td>\n",
       "      <td>-999</td>\n",
       "      <td>-999.00</td>\n",
       "      <td>-999.0</td>\n",
       "      <td>-999.0</td>\n",
       "      <td>-999.0</td>\n",
       "    </tr>\n",
       "    <tr>\n",
       "      <th>2217</th>\n",
       "      <td>9308.5</td>\n",
       "      <td>-999</td>\n",
       "      <td>999</td>\n",
       "      <td>-999.00</td>\n",
       "      <td>-999</td>\n",
       "      <td>-999.00</td>\n",
       "      <td>-999.0</td>\n",
       "      <td>-999.0</td>\n",
       "      <td>-999.0</td>\n",
       "    </tr>\n",
       "    <tr>\n",
       "      <th>2218</th>\n",
       "      <td>9309.0</td>\n",
       "      <td>-999</td>\n",
       "      <td>999</td>\n",
       "      <td>-999.00</td>\n",
       "      <td>-999</td>\n",
       "      <td>-999.00</td>\n",
       "      <td>-999.0</td>\n",
       "      <td>-999.0</td>\n",
       "      <td>-999.0</td>\n",
       "    </tr>\n",
       "    <tr>\n",
       "      <th>2219</th>\n",
       "      <td>9309.5</td>\n",
       "      <td>-999</td>\n",
       "      <td>999</td>\n",
       "      <td>-999.00</td>\n",
       "      <td>-999</td>\n",
       "      <td>-999.00</td>\n",
       "      <td>-999.0</td>\n",
       "      <td>-999.0</td>\n",
       "      <td>-999.0</td>\n",
       "    </tr>\n",
       "    <tr>\n",
       "      <th>2220</th>\n",
       "      <td>9310.0</td>\n",
       "      <td>-999</td>\n",
       "      <td>999</td>\n",
       "      <td>-999.00</td>\n",
       "      <td>-999</td>\n",
       "      <td>-999.00</td>\n",
       "      <td>-999.0</td>\n",
       "      <td>-999.0</td>\n",
       "      <td>-999.0</td>\n",
       "    </tr>\n",
       "  </tbody>\n",
       "</table>\n",
       "<p>2221 rows × 9 columns</p>\n",
       "</div>"
      ],
      "text/plain": [
       "       DEPTH     GR      SP    RHOB   DT    NPHI   MSFL    ILD  CALIPER\n",
       "0     8200.0        53    3    2.21  114    0.45    0.6    0.6     12.1\n",
       "1     8200.5        54    4    2.22  114    0.44    0.7    0.5     12.1\n",
       "2     8201.0        54    5    2.21  115    0.42    0.7    0.5     12.1\n",
       "3     8201.5        54    5    2.21  115    0.41    0.6    0.5     12.0\n",
       "4     8202.0        53    5    2.21  114    0.41    0.7    0.5     12.0\n",
       "...      ...       ...  ...     ...  ...     ...    ...    ...      ...\n",
       "2216  9308.0      -999  999 -999.00 -999 -999.00 -999.0 -999.0   -999.0\n",
       "2217  9308.5      -999  999 -999.00 -999 -999.00 -999.0 -999.0   -999.0\n",
       "2218  9309.0      -999  999 -999.00 -999 -999.00 -999.0 -999.0   -999.0\n",
       "2219  9309.5      -999  999 -999.00 -999 -999.00 -999.0 -999.0   -999.0\n",
       "2220  9310.0      -999  999 -999.00 -999 -999.00 -999.0 -999.0   -999.0\n",
       "\n",
       "[2221 rows x 9 columns]"
      ]
     },
     "execution_count": 33,
     "metadata": {},
     "output_type": "execute_result"
    }
   ],
   "source": [
    "import pandas as pd\n",
    "#import the .csv file as a dataframe\n",
    "data = pd.read_csv('C:\\\\Users\\\\well292.csv',header=0)\n",
    "# data is imported as a table with rows and columns\n",
    "data # entire dataset"
   ]
  },
  {
   "cell_type": "code",
   "execution_count": 34,
   "id": "e0b0801f",
   "metadata": {},
   "outputs": [
    {
     "data": {
      "text/html": [
       "<div>\n",
       "<style scoped>\n",
       "    .dataframe tbody tr th:only-of-type {\n",
       "        vertical-align: middle;\n",
       "    }\n",
       "\n",
       "    .dataframe tbody tr th {\n",
       "        vertical-align: top;\n",
       "    }\n",
       "\n",
       "    .dataframe thead th {\n",
       "        text-align: right;\n",
       "    }\n",
       "</style>\n",
       "<table border=\"1\" class=\"dataframe\">\n",
       "  <thead>\n",
       "    <tr style=\"text-align: right;\">\n",
       "      <th></th>\n",
       "      <th>Unnamed: 0</th>\n",
       "      <th>a</th>\n",
       "      <th>Np</th>\n",
       "      <th>calculated flow rate (bbl/day</th>\n",
       "      <th>observed flow rate bbl/day</th>\n",
       "      <th>Time (years)</th>\n",
       "    </tr>\n",
       "  </thead>\n",
       "  <tbody>\n",
       "    <tr>\n",
       "      <th>0</th>\n",
       "      <td>NaN</td>\n",
       "      <td>0.002057</td>\n",
       "      <td>6636.417949</td>\n",
       "      <td>1.231883e+02</td>\n",
       "      <td>125</td>\n",
       "      <td>1</td>\n",
       "    </tr>\n",
       "    <tr>\n",
       "      <th>1</th>\n",
       "      <td>NaN</td>\n",
       "      <td>0.001465</td>\n",
       "      <td>129848.468999</td>\n",
       "      <td>8.955137e+01</td>\n",
       "      <td>93</td>\n",
       "      <td>2</td>\n",
       "    </tr>\n",
       "    <tr>\n",
       "      <th>2</th>\n",
       "      <td>NaN</td>\n",
       "      <td>0.001144</td>\n",
       "      <td>184568.407950</td>\n",
       "      <td>7.461282e+01</td>\n",
       "      <td>70</td>\n",
       "      <td>3</td>\n",
       "    </tr>\n",
       "    <tr>\n",
       "      <th>3</th>\n",
       "      <td>NaN</td>\n",
       "      <td>0.000983</td>\n",
       "      <td>230160.220800</td>\n",
       "      <td>6.216626e+01</td>\n",
       "      <td>55</td>\n",
       "      <td>4</td>\n",
       "    </tr>\n",
       "    <tr>\n",
       "      <th>4</th>\n",
       "      <td>NaN</td>\n",
       "      <td>0.000886</td>\n",
       "      <td>268146.619156</td>\n",
       "      <td>5.179597e+01</td>\n",
       "      <td>58</td>\n",
       "      <td>5</td>\n",
       "    </tr>\n",
       "    <tr>\n",
       "      <th>...</th>\n",
       "      <td>...</td>\n",
       "      <td>...</td>\n",
       "      <td>...</td>\n",
       "      <td>...</td>\n",
       "      <td>...</td>\n",
       "      <td>...</td>\n",
       "    </tr>\n",
       "    <tr>\n",
       "      <th>139</th>\n",
       "      <td>NaN</td>\n",
       "      <td>NaN</td>\n",
       "      <td>457875.457872</td>\n",
       "      <td>1.033631e-09</td>\n",
       "      <td>NaN</td>\n",
       "      <td>140</td>\n",
       "    </tr>\n",
       "    <tr>\n",
       "      <th>140</th>\n",
       "      <td>NaN</td>\n",
       "      <td>NaN</td>\n",
       "      <td>457875.457872</td>\n",
       "      <td>8.612058e-10</td>\n",
       "      <td>NaN</td>\n",
       "      <td>141</td>\n",
       "    </tr>\n",
       "    <tr>\n",
       "      <th>141</th>\n",
       "      <td>NaN</td>\n",
       "      <td>NaN</td>\n",
       "      <td>457875.457873</td>\n",
       "      <td>7.175435e-10</td>\n",
       "      <td>NaN</td>\n",
       "      <td>142</td>\n",
       "    </tr>\n",
       "    <tr>\n",
       "      <th>142</th>\n",
       "      <td>NaN</td>\n",
       "      <td>NaN</td>\n",
       "      <td>457875.457873</td>\n",
       "      <td>5.978462e-10</td>\n",
       "      <td>NaN</td>\n",
       "      <td>143</td>\n",
       "    </tr>\n",
       "    <tr>\n",
       "      <th>143</th>\n",
       "      <td>NaN</td>\n",
       "      <td>NaN</td>\n",
       "      <td>457875.457874</td>\n",
       "      <td>4.981163e-10</td>\n",
       "      <td>NaN</td>\n",
       "      <td>144</td>\n",
       "    </tr>\n",
       "  </tbody>\n",
       "</table>\n",
       "<p>144 rows × 6 columns</p>\n",
       "</div>"
      ],
      "text/plain": [
       "     Unnamed: 0         a             Np  calculated flow rate (bbl/day  \\\n",
       "0           NaN  0.002057    6636.417949                   1.231883e+02   \n",
       "1           NaN  0.001465  129848.468999                   8.955137e+01   \n",
       "2           NaN  0.001144  184568.407950                   7.461282e+01   \n",
       "3           NaN  0.000983  230160.220800                   6.216626e+01   \n",
       "4           NaN  0.000886  268146.619156                   5.179597e+01   \n",
       "..          ...       ...            ...                            ...   \n",
       "139         NaN       NaN  457875.457872                   1.033631e-09   \n",
       "140         NaN       NaN  457875.457872                   8.612058e-10   \n",
       "141         NaN       NaN  457875.457873                   7.175435e-10   \n",
       "142         NaN       NaN  457875.457873                   5.978462e-10   \n",
       "143         NaN       NaN  457875.457874                   4.981163e-10   \n",
       "\n",
       "    observed flow rate bbl/day  Time (years)  \n",
       "0                          125             1  \n",
       "1                           93             2  \n",
       "2                           70             3  \n",
       "3                           55             4  \n",
       "4                           58             5  \n",
       "..                         ...           ...  \n",
       "139                        NaN           140  \n",
       "140                        NaN           141  \n",
       "141                        NaN           142  \n",
       "142                        NaN           143  \n",
       "143                        NaN           144  \n",
       "\n",
       "[144 rows x 6 columns]"
      ]
     },
     "execution_count": 34,
     "metadata": {},
     "output_type": "execute_result"
    }
   ],
   "source": [
    "import pandas as pd \n",
    "data = pd.read_excel('C:\\\\Users\\\\essa\\\\Desktop\\\\ajdabia final.xlsx')\n",
    "data "
   ]
  },
  {
   "cell_type": "code",
   "execution_count": 22,
   "id": "edcd4db6",
   "metadata": {},
   "outputs": [
    {
     "name": "stdout",
     "output_type": "stream",
     "text": [
      "RangeIndex(start=0, stop=7, step=1)\n",
      "Index(['Pressure (Psia)', 'Np (MMstb)', 'Rp (scf/stb)', 'Bo (scf/stb)',\n",
      "       'Rs (scf/stb)', 'Bg (rb/scf)'],\n",
      "      dtype='object')\n"
     ]
    }
   ],
   "source": [
    "print(data.index)\n",
    "print(data.columns)"
   ]
  },
  {
   "cell_type": "code",
   "execution_count": 40,
   "id": "ee09294c",
   "metadata": {},
   "outputs": [
    {
     "data": {
      "text/html": [
       "<div>\n",
       "<style scoped>\n",
       "    .dataframe tbody tr th:only-of-type {\n",
       "        vertical-align: middle;\n",
       "    }\n",
       "\n",
       "    .dataframe tbody tr th {\n",
       "        vertical-align: top;\n",
       "    }\n",
       "\n",
       "    .dataframe thead th {\n",
       "        text-align: right;\n",
       "    }\n",
       "</style>\n",
       "<table border=\"1\" class=\"dataframe\">\n",
       "  <thead>\n",
       "    <tr style=\"text-align: right;\">\n",
       "      <th></th>\n",
       "      <th>Unnamed: 0</th>\n",
       "      <th>a</th>\n",
       "      <th>Np</th>\n",
       "      <th>calculated flow rate (bbl/day</th>\n",
       "      <th>observed flow rate bbl/day</th>\n",
       "      <th>Time (years)</th>\n",
       "    </tr>\n",
       "  </thead>\n",
       "  <tbody>\n",
       "    <tr>\n",
       "      <th>0</th>\n",
       "      <td>NaN</td>\n",
       "      <td>0.002057</td>\n",
       "      <td>6636.417949</td>\n",
       "      <td>1.231883e+02</td>\n",
       "      <td>125</td>\n",
       "      <td>1</td>\n",
       "    </tr>\n",
       "    <tr>\n",
       "      <th>1</th>\n",
       "      <td>NaN</td>\n",
       "      <td>0.001465</td>\n",
       "      <td>129848.468999</td>\n",
       "      <td>8.955137e+01</td>\n",
       "      <td>93</td>\n",
       "      <td>2</td>\n",
       "    </tr>\n",
       "    <tr>\n",
       "      <th>2</th>\n",
       "      <td>NaN</td>\n",
       "      <td>0.001144</td>\n",
       "      <td>184568.407950</td>\n",
       "      <td>7.461282e+01</td>\n",
       "      <td>70</td>\n",
       "      <td>3</td>\n",
       "    </tr>\n",
       "    <tr>\n",
       "      <th>3</th>\n",
       "      <td>NaN</td>\n",
       "      <td>0.000983</td>\n",
       "      <td>230160.220800</td>\n",
       "      <td>6.216626e+01</td>\n",
       "      <td>55</td>\n",
       "      <td>4</td>\n",
       "    </tr>\n",
       "    <tr>\n",
       "      <th>4</th>\n",
       "      <td>NaN</td>\n",
       "      <td>0.000886</td>\n",
       "      <td>268146.619156</td>\n",
       "      <td>5.179597e+01</td>\n",
       "      <td>58</td>\n",
       "      <td>5</td>\n",
       "    </tr>\n",
       "    <tr>\n",
       "      <th>...</th>\n",
       "      <td>...</td>\n",
       "      <td>...</td>\n",
       "      <td>...</td>\n",
       "      <td>...</td>\n",
       "      <td>...</td>\n",
       "      <td>...</td>\n",
       "    </tr>\n",
       "    <tr>\n",
       "      <th>139</th>\n",
       "      <td>NaN</td>\n",
       "      <td>NaN</td>\n",
       "      <td>457875.457872</td>\n",
       "      <td>1.033631e-09</td>\n",
       "      <td>NaN</td>\n",
       "      <td>140</td>\n",
       "    </tr>\n",
       "    <tr>\n",
       "      <th>140</th>\n",
       "      <td>NaN</td>\n",
       "      <td>NaN</td>\n",
       "      <td>457875.457872</td>\n",
       "      <td>8.612058e-10</td>\n",
       "      <td>NaN</td>\n",
       "      <td>141</td>\n",
       "    </tr>\n",
       "    <tr>\n",
       "      <th>141</th>\n",
       "      <td>NaN</td>\n",
       "      <td>NaN</td>\n",
       "      <td>457875.457873</td>\n",
       "      <td>7.175435e-10</td>\n",
       "      <td>NaN</td>\n",
       "      <td>142</td>\n",
       "    </tr>\n",
       "    <tr>\n",
       "      <th>142</th>\n",
       "      <td>NaN</td>\n",
       "      <td>NaN</td>\n",
       "      <td>457875.457873</td>\n",
       "      <td>5.978462e-10</td>\n",
       "      <td>NaN</td>\n",
       "      <td>143</td>\n",
       "    </tr>\n",
       "    <tr>\n",
       "      <th>143</th>\n",
       "      <td>NaN</td>\n",
       "      <td>NaN</td>\n",
       "      <td>457875.457874</td>\n",
       "      <td>4.981163e-10</td>\n",
       "      <td>NaN</td>\n",
       "      <td>144</td>\n",
       "    </tr>\n",
       "  </tbody>\n",
       "</table>\n",
       "<p>144 rows × 6 columns</p>\n",
       "</div>"
      ],
      "text/plain": [
       "     Unnamed: 0         a             Np  calculated flow rate (bbl/day  \\\n",
       "0           NaN  0.002057    6636.417949                   1.231883e+02   \n",
       "1           NaN  0.001465  129848.468999                   8.955137e+01   \n",
       "2           NaN  0.001144  184568.407950                   7.461282e+01   \n",
       "3           NaN  0.000983  230160.220800                   6.216626e+01   \n",
       "4           NaN  0.000886  268146.619156                   5.179597e+01   \n",
       "..          ...       ...            ...                            ...   \n",
       "139         NaN       NaN  457875.457872                   1.033631e-09   \n",
       "140         NaN       NaN  457875.457872                   8.612058e-10   \n",
       "141         NaN       NaN  457875.457873                   7.175435e-10   \n",
       "142         NaN       NaN  457875.457873                   5.978462e-10   \n",
       "143         NaN       NaN  457875.457874                   4.981163e-10   \n",
       "\n",
       "    observed flow rate bbl/day  Time (years)  \n",
       "0                          125             1  \n",
       "1                           93             2  \n",
       "2                           70             3  \n",
       "3                           55             4  \n",
       "4                           58             5  \n",
       "..                         ...           ...  \n",
       "139                        NaN           140  \n",
       "140                        NaN           141  \n",
       "141                        NaN           142  \n",
       "142                        NaN           143  \n",
       "143                        NaN           144  \n",
       "\n",
       "[144 rows x 6 columns]"
      ]
     },
     "execution_count": 40,
     "metadata": {},
     "output_type": "execute_result"
    }
   ],
   "source": [
    "import pandas as pd \n",
    "data = pd.read_excel('C:\\\\Users\\\\essa\\\\Desktop\\\\ajdabia final.xlsx')\n",
    "data "
   ]
  },
  {
   "cell_type": "code",
   "execution_count": 43,
   "id": "7e77e63d",
   "metadata": {},
   "outputs": [
    {
     "data": {
      "application/javascript": [
       "\n",
       "        if (window._pyforest_update_imports_cell) { window._pyforest_update_imports_cell('import numpy as np'); }\n",
       "    "
      ],
      "text/plain": [
       "<IPython.core.display.Javascript object>"
      ]
     },
     "metadata": {},
     "output_type": "display_data"
    }
   ],
   "source": [
    "data.replace(-999, np.NaN, inplace=True)"
   ]
  },
  {
   "cell_type": "code",
   "execution_count": 51,
   "id": "f8092bf0",
   "metadata": {},
   "outputs": [
    {
     "data": {
      "text/html": [
       "<div>\n",
       "<style scoped>\n",
       "    .dataframe tbody tr th:only-of-type {\n",
       "        vertical-align: middle;\n",
       "    }\n",
       "\n",
       "    .dataframe tbody tr th {\n",
       "        vertical-align: top;\n",
       "    }\n",
       "\n",
       "    .dataframe thead th {\n",
       "        text-align: right;\n",
       "    }\n",
       "</style>\n",
       "<table border=\"1\" class=\"dataframe\">\n",
       "  <thead>\n",
       "    <tr style=\"text-align: right;\">\n",
       "      <th></th>\n",
       "      <th>Unnamed: 0</th>\n",
       "      <th>a</th>\n",
       "      <th>Np</th>\n",
       "      <th>calculated flow rate (bbl/day</th>\n",
       "      <th>observed flow rate bbl/day</th>\n",
       "      <th>Time (years)</th>\n",
       "    </tr>\n",
       "  </thead>\n",
       "  <tbody>\n",
       "    <tr>\n",
       "      <th>0</th>\n",
       "      <td>NaN</td>\n",
       "      <td>0.002057</td>\n",
       "      <td>6636.417949</td>\n",
       "      <td>1.231883e+02</td>\n",
       "      <td>125</td>\n",
       "      <td>1</td>\n",
       "    </tr>\n",
       "    <tr>\n",
       "      <th>1</th>\n",
       "      <td>NaN</td>\n",
       "      <td>0.001465</td>\n",
       "      <td>129848.468999</td>\n",
       "      <td>8.955137e+01</td>\n",
       "      <td>93</td>\n",
       "      <td>2</td>\n",
       "    </tr>\n",
       "    <tr>\n",
       "      <th>2</th>\n",
       "      <td>NaN</td>\n",
       "      <td>0.001144</td>\n",
       "      <td>184568.407950</td>\n",
       "      <td>7.461282e+01</td>\n",
       "      <td>70</td>\n",
       "      <td>3</td>\n",
       "    </tr>\n",
       "    <tr>\n",
       "      <th>3</th>\n",
       "      <td>NaN</td>\n",
       "      <td>0.000983</td>\n",
       "      <td>230160.220800</td>\n",
       "      <td>6.216626e+01</td>\n",
       "      <td>55</td>\n",
       "      <td>4</td>\n",
       "    </tr>\n",
       "    <tr>\n",
       "      <th>4</th>\n",
       "      <td>NaN</td>\n",
       "      <td>0.000886</td>\n",
       "      <td>268146.619156</td>\n",
       "      <td>5.179597e+01</td>\n",
       "      <td>58</td>\n",
       "      <td>5</td>\n",
       "    </tr>\n",
       "    <tr>\n",
       "      <th>...</th>\n",
       "      <td>...</td>\n",
       "      <td>...</td>\n",
       "      <td>...</td>\n",
       "      <td>...</td>\n",
       "      <td>...</td>\n",
       "      <td>...</td>\n",
       "    </tr>\n",
       "    <tr>\n",
       "      <th>139</th>\n",
       "      <td>NaN</td>\n",
       "      <td>NaN</td>\n",
       "      <td>457875.457872</td>\n",
       "      <td>1.033631e-09</td>\n",
       "      <td>NaN</td>\n",
       "      <td>140</td>\n",
       "    </tr>\n",
       "    <tr>\n",
       "      <th>140</th>\n",
       "      <td>NaN</td>\n",
       "      <td>NaN</td>\n",
       "      <td>457875.457872</td>\n",
       "      <td>8.612058e-10</td>\n",
       "      <td>NaN</td>\n",
       "      <td>141</td>\n",
       "    </tr>\n",
       "    <tr>\n",
       "      <th>141</th>\n",
       "      <td>NaN</td>\n",
       "      <td>NaN</td>\n",
       "      <td>457875.457873</td>\n",
       "      <td>7.175435e-10</td>\n",
       "      <td>NaN</td>\n",
       "      <td>142</td>\n",
       "    </tr>\n",
       "    <tr>\n",
       "      <th>142</th>\n",
       "      <td>NaN</td>\n",
       "      <td>NaN</td>\n",
       "      <td>457875.457873</td>\n",
       "      <td>5.978462e-10</td>\n",
       "      <td>NaN</td>\n",
       "      <td>143</td>\n",
       "    </tr>\n",
       "    <tr>\n",
       "      <th>143</th>\n",
       "      <td>NaN</td>\n",
       "      <td>NaN</td>\n",
       "      <td>457875.457874</td>\n",
       "      <td>4.981163e-10</td>\n",
       "      <td>NaN</td>\n",
       "      <td>144</td>\n",
       "    </tr>\n",
       "  </tbody>\n",
       "</table>\n",
       "<p>144 rows × 6 columns</p>\n",
       "</div>"
      ],
      "text/plain": [
       "     Unnamed: 0         a             Np  calculated flow rate (bbl/day  \\\n",
       "0           NaN  0.002057    6636.417949                   1.231883e+02   \n",
       "1           NaN  0.001465  129848.468999                   8.955137e+01   \n",
       "2           NaN  0.001144  184568.407950                   7.461282e+01   \n",
       "3           NaN  0.000983  230160.220800                   6.216626e+01   \n",
       "4           NaN  0.000886  268146.619156                   5.179597e+01   \n",
       "..          ...       ...            ...                            ...   \n",
       "139         NaN       NaN  457875.457872                   1.033631e-09   \n",
       "140         NaN       NaN  457875.457872                   8.612058e-10   \n",
       "141         NaN       NaN  457875.457873                   7.175435e-10   \n",
       "142         NaN       NaN  457875.457873                   5.978462e-10   \n",
       "143         NaN       NaN  457875.457874                   4.981163e-10   \n",
       "\n",
       "    observed flow rate bbl/day  Time (years)  \n",
       "0                          125             1  \n",
       "1                           93             2  \n",
       "2                           70             3  \n",
       "3                           55             4  \n",
       "4                           58             5  \n",
       "..                         ...           ...  \n",
       "139                        NaN           140  \n",
       "140                        NaN           141  \n",
       "141                        NaN           142  \n",
       "142                        NaN           143  \n",
       "143                        NaN           144  \n",
       "\n",
       "[144 rows x 6 columns]"
      ]
     },
     "execution_count": 51,
     "metadata": {},
     "output_type": "execute_result"
    }
   ],
   "source": [
    "data"
   ]
  },
  {
   "cell_type": "code",
   "execution_count": 67,
   "id": "39dd2d62",
   "metadata": {},
   "outputs": [
    {
     "data": {
      "image/png": "[encoded data removed]",
      "text/plain": [
       "<Figure size 640x480 with 1 Axes>"
      ]
     },
     "metadata": {},
     "output_type": "display_data"
    }
   ],
   "source": [
    "import matplotlib.pyplot as plt\n",
    "\n",
    "Time = data.iloc[:, 2].values\n",
    "Np = data.iloc[:, 1].values\n",
    "\n",
    "plt.scatter(Time,Np);\n",
    "plt.xlabel('Time');\n",
    "plt.ylabel('Np');\n",
    "plt.show();"
   ]
  },
  {
   "cell_type": "code",
   "execution_count": null,
   "id": "b95705f7",
   "metadata": {},
   "outputs": [],
   "source": []
  }
 ],
 "metadata": {
  "kernelspec": {
   "display_name": "Python 3 (ipykernel)",
   "language": "python",
   "name": "python3"
  },
  "language_info": {
   "codemirror_mode": {
    "name": "ipython",
    "version": 3
   },
   "file_extension": ".py",
   "mimetype": "text/x-python",
   "name": "python",
   "nbconvert_exporter": "python",
   "pygments_lexer": "ipython3",
   "version": "3.10.0"
  }
 },
 "nbformat": 4,
 "nbformat_minor": 5
}
