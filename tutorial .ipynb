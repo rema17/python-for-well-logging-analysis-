{
 "cells": [
  {
   "cell_type": "code",
   "execution_count": 1,
   "id": "213acbf0",
   "metadata": {},
   "outputs": [],
   "source": [
    "import numpy as np\n",
    "import pandas as pd\n",
    "import matplotlib.pyplot as plt\n",
    "import scipy"
   ]
  },
  {
   "cell_type": "code",
   "execution_count": 2,
   "id": "15c3a4f2",
   "metadata": {},
   "outputs": [],
   "source": [
    "N = 115*(10**6)\n",
    "ma = 0.4\n",
    "Boi = 1.2511 \n",
    "Rsi = 510\n",
    "Bgi = .00087"
   ]
  },
  {
   "cell_type": "code",
   "execution_count": 3,
   "id": "441241d3",
   "metadata": {},
   "outputs": [],
   "source": [
    "data = pd.read_excel('C:\\\\Users\\\\essa\\\\Desktop\\\\Data.xlsx')"
   ]
  },
  {
   "cell_type": "code",
   "execution_count": 4,
   "id": "d535d049",
   "metadata": {},
   "outputs": [
    {
     "data": {
      "text/html": [
       "<div>\n",
       "<style scoped>\n",
       "    .dataframe tbody tr th:only-of-type {\n",
       "        vertical-align: middle;\n",
       "    }\n",
       "\n",
       "    .dataframe tbody tr th {\n",
       "        vertical-align: top;\n",
       "    }\n",
       "\n",
       "    .dataframe thead th {\n",
       "        text-align: right;\n",
       "    }\n",
       "</style>\n",
       "<table border=\"1\" class=\"dataframe\">\n",
       "  <thead>\n",
       "    <tr style=\"text-align: right;\">\n",
       "      <th></th>\n",
       "      <th>Pressure (Psia)</th>\n",
       "      <th>Np (MMstb)</th>\n",
       "      <th>Rp (scf/stb)</th>\n",
       "      <th>Bo (scf/stb)</th>\n",
       "      <th>Rs (scf/stb)</th>\n",
       "      <th>Bg (rb/scf)</th>\n",
       "    </tr>\n",
       "  </thead>\n",
       "  <tbody>\n",
       "    <tr>\n",
       "      <th>0</th>\n",
       "      <td>3330</td>\n",
       "      <td>NaN</td>\n",
       "      <td>NaN</td>\n",
       "      <td>1.2511</td>\n",
       "      <td>510</td>\n",
       "      <td>0.00087</td>\n",
       "    </tr>\n",
       "    <tr>\n",
       "      <th>1</th>\n",
       "      <td>3150</td>\n",
       "      <td>3.295</td>\n",
       "      <td>1050.0</td>\n",
       "      <td>1.2353</td>\n",
       "      <td>477</td>\n",
       "      <td>0.00092</td>\n",
       "    </tr>\n",
       "    <tr>\n",
       "      <th>2</th>\n",
       "      <td>3000</td>\n",
       "      <td>5.903</td>\n",
       "      <td>1060.0</td>\n",
       "      <td>1.2222</td>\n",
       "      <td>450</td>\n",
       "      <td>0.00096</td>\n",
       "    </tr>\n",
       "    <tr>\n",
       "      <th>3</th>\n",
       "      <td>2850</td>\n",
       "      <td>8.852</td>\n",
       "      <td>1160.0</td>\n",
       "      <td>1.2122</td>\n",
       "      <td>425</td>\n",
       "      <td>0.00101</td>\n",
       "    </tr>\n",
       "    <tr>\n",
       "      <th>4</th>\n",
       "      <td>2700</td>\n",
       "      <td>11.503</td>\n",
       "      <td>1235.0</td>\n",
       "      <td>1.2022</td>\n",
       "      <td>401</td>\n",
       "      <td>0.00107</td>\n",
       "    </tr>\n",
       "    <tr>\n",
       "      <th>5</th>\n",
       "      <td>2550</td>\n",
       "      <td>14.513</td>\n",
       "      <td>1265.0</td>\n",
       "      <td>1.1922</td>\n",
       "      <td>375</td>\n",
       "      <td>0.00113</td>\n",
       "    </tr>\n",
       "    <tr>\n",
       "      <th>6</th>\n",
       "      <td>2400</td>\n",
       "      <td>17.730</td>\n",
       "      <td>1300.0</td>\n",
       "      <td>1.1822</td>\n",
       "      <td>352</td>\n",
       "      <td>0.00120</td>\n",
       "    </tr>\n",
       "  </tbody>\n",
       "</table>\n",
       "</div>"
      ],
      "text/plain": [
       "   Pressure (Psia)  Np (MMstb)  Rp (scf/stb)  Bo (scf/stb)  Rs (scf/stb)  \\\n",
       "0             3330         NaN           NaN        1.2511           510   \n",
       "1             3150       3.295        1050.0        1.2353           477   \n",
       "2             3000       5.903        1060.0        1.2222           450   \n",
       "3             2850       8.852        1160.0        1.2122           425   \n",
       "4             2700      11.503        1235.0        1.2022           401   \n",
       "5             2550      14.513        1265.0        1.1922           375   \n",
       "6             2400      17.730        1300.0        1.1822           352   \n",
       "\n",
       "   Bg (rb/scf)  \n",
       "0      0.00087  \n",
       "1      0.00092  \n",
       "2      0.00096  \n",
       "3      0.00101  \n",
       "4      0.00107  \n",
       "5      0.00113  \n",
       "6      0.00120  "
      ]
     },
     "execution_count": 4,
     "metadata": {},
     "output_type": "execute_result"
    }
   ],
   "source": [
    "data = pd.DataFrame(data)\n",
    "data"
   ]
  },
  {
   "cell_type": "code",
   "execution_count": 5,
   "id": "c65dbed4",
   "metadata": {},
   "outputs": [],
   "source": [
    "data = data.iloc[1:,:].reset_index().drop('index', axis = 1)\n",
    "data = data\n",
    "P = data['Pressure (Psia)']\n",
    "Np = data['Np (MMstb)']\n",
    "Rp = data['Rp (scf/stb)']\n",
    "Bo = data['Bo (scf/stb)']\n",
    "Rs = data['Rs (scf/stb)']\n",
    "Bg = data['Bg (rb/scf)']\n",
    "\n",
    "data['F'] = Np*(Bo+(Rp-Rs)*Bg)\n",
    "data['Eo'] = (Bo-Boi)+(Rsi-Rs)*Bg\n",
    "data['Eg'] = Boi*((Bg/Bgi)-1)\n",
    "\n",
    "F = data['F']\n",
    "Eo = data['Eo']\n",
    "Eg = data['Eg']"
   ]
  },
  {
   "cell_type": "code",
   "execution_count": 6,
   "id": "e60db14a",
   "metadata": {},
   "outputs": [
    {
     "data": {
      "text/html": [
       "<div>\n",
       "<style scoped>\n",
       "    .dataframe tbody tr th:only-of-type {\n",
       "        vertical-align: middle;\n",
       "    }\n",
       "\n",
       "    .dataframe tbody tr th {\n",
       "        vertical-align: top;\n",
       "    }\n",
       "\n",
       "    .dataframe thead th {\n",
       "        text-align: right;\n",
       "    }\n",
       "</style>\n",
       "<table border=\"1\" class=\"dataframe\">\n",
       "  <thead>\n",
       "    <tr style=\"text-align: right;\">\n",
       "      <th></th>\n",
       "      <th>Pressure (Psia)</th>\n",
       "      <th>Np (MMstb)</th>\n",
       "      <th>Rp (scf/stb)</th>\n",
       "      <th>Bo (scf/stb)</th>\n",
       "      <th>Rs (scf/stb)</th>\n",
       "      <th>Bg (rb/scf)</th>\n",
       "      <th>F</th>\n",
       "      <th>Eo</th>\n",
       "      <th>Eg</th>\n",
       "    </tr>\n",
       "  </thead>\n",
       "  <tbody>\n",
       "    <tr>\n",
       "      <th>0</th>\n",
       "      <td>3150</td>\n",
       "      <td>3.295</td>\n",
       "      <td>1050.0</td>\n",
       "      <td>1.2353</td>\n",
       "      <td>477</td>\n",
       "      <td>0.00092</td>\n",
       "      <td>5.807306</td>\n",
       "      <td>0.01456</td>\n",
       "      <td>0.071902</td>\n",
       "    </tr>\n",
       "    <tr>\n",
       "      <th>1</th>\n",
       "      <td>3000</td>\n",
       "      <td>5.903</td>\n",
       "      <td>1060.0</td>\n",
       "      <td>1.2222</td>\n",
       "      <td>450</td>\n",
       "      <td>0.00096</td>\n",
       "      <td>10.671443</td>\n",
       "      <td>0.02870</td>\n",
       "      <td>0.129424</td>\n",
       "    </tr>\n",
       "    <tr>\n",
       "      <th>2</th>\n",
       "      <td>2850</td>\n",
       "      <td>8.852</td>\n",
       "      <td>1160.0</td>\n",
       "      <td>1.2122</td>\n",
       "      <td>425</td>\n",
       "      <td>0.00101</td>\n",
       "      <td>17.301677</td>\n",
       "      <td>0.04695</td>\n",
       "      <td>0.201326</td>\n",
       "    </tr>\n",
       "    <tr>\n",
       "      <th>3</th>\n",
       "      <td>2700</td>\n",
       "      <td>11.503</td>\n",
       "      <td>1235.0</td>\n",
       "      <td>1.2022</td>\n",
       "      <td>401</td>\n",
       "      <td>0.00107</td>\n",
       "      <td>24.093954</td>\n",
       "      <td>0.06773</td>\n",
       "      <td>0.287609</td>\n",
       "    </tr>\n",
       "    <tr>\n",
       "      <th>4</th>\n",
       "      <td>2550</td>\n",
       "      <td>14.513</td>\n",
       "      <td>1265.0</td>\n",
       "      <td>1.1922</td>\n",
       "      <td>375</td>\n",
       "      <td>0.00113</td>\n",
       "      <td>31.898123</td>\n",
       "      <td>0.09365</td>\n",
       "      <td>0.373892</td>\n",
       "    </tr>\n",
       "    <tr>\n",
       "      <th>5</th>\n",
       "      <td>2400</td>\n",
       "      <td>17.730</td>\n",
       "      <td>1300.0</td>\n",
       "      <td>1.1822</td>\n",
       "      <td>352</td>\n",
       "      <td>0.00120</td>\n",
       "      <td>41.130054</td>\n",
       "      <td>0.12070</td>\n",
       "      <td>0.474555</td>\n",
       "    </tr>\n",
       "  </tbody>\n",
       "</table>\n",
       "</div>"
      ],
      "text/plain": [
       "   Pressure (Psia)  Np (MMstb)  Rp (scf/stb)  Bo (scf/stb)  Rs (scf/stb)  \\\n",
       "0             3150       3.295        1050.0        1.2353           477   \n",
       "1             3000       5.903        1060.0        1.2222           450   \n",
       "2             2850       8.852        1160.0        1.2122           425   \n",
       "3             2700      11.503        1235.0        1.2022           401   \n",
       "4             2550      14.513        1265.0        1.1922           375   \n",
       "5             2400      17.730        1300.0        1.1822           352   \n",
       "\n",
       "   Bg (rb/scf)          F       Eo        Eg  \n",
       "0      0.00092   5.807306  0.01456  0.071902  \n",
       "1      0.00096  10.671443  0.02870  0.129424  \n",
       "2      0.00101  17.301677  0.04695  0.201326  \n",
       "3      0.00107  24.093954  0.06773  0.287609  \n",
       "4      0.00113  31.898123  0.09365  0.373892  \n",
       "5      0.00120  41.130054  0.12070  0.474555  "
      ]
     },
     "execution_count": 6,
     "metadata": {},
     "output_type": "execute_result"
    }
   ],
   "source": [
    "data"
   ]
  },
  {
   "cell_type": "code",
   "execution_count": 7,
   "id": "f3631df5",
   "metadata": {},
   "outputs": [
    {
     "ename": "NameError",
     "evalue": "name 'linregress' is not defined",
     "output_type": "error",
     "traceback": [
      "\u001b[1;31m---------------------------------------------------------------------------\u001b[0m",
      "\u001b[1;31mNameError\u001b[0m                                 Traceback (most recent call last)",
      "Input \u001b[1;32mIn [7]\u001b[0m, in \u001b[0;36m<cell line: 5>\u001b[1;34m()\u001b[0m\n\u001b[0;32m      3\u001b[0m plt\u001b[38;5;241m.\u001b[39mxlabel(\u001b[38;5;124m'\u001b[39m\u001b[38;5;124mEo + m Eg\u001b[39m\u001b[38;5;124m'\u001b[39m)\n\u001b[0;32m      4\u001b[0m plt\u001b[38;5;241m.\u001b[39mylabel(\u001b[38;5;124m'\u001b[39m\u001b[38;5;124mF\u001b[39m\u001b[38;5;124m'\u001b[39m)\n\u001b[1;32m----> 5\u001b[0m slope, intercept, r_value, p_value, std_err \u001b[38;5;241m=\u001b[39m \u001b[43mlinregress\u001b[49m(Eo\u001b[38;5;241m+\u001b[39mma\u001b[38;5;241m*\u001b[39mEg, F)\n\u001b[0;32m      6\u001b[0m plt\u001b[38;5;241m.\u001b[39mplot(Eo\u001b[38;5;241m+\u001b[39mma\u001b[38;5;241m*\u001b[39mEg, slope\u001b[38;5;241m*\u001b[39m(Eo\u001b[38;5;241m+\u001b[39mma\u001b[38;5;241m*\u001b[39mEg)\u001b[38;5;241m+\u001b[39mintercept)\n\u001b[0;32m      7\u001b[0m plt\u001b[38;5;241m.\u001b[39mtitle(\u001b[38;5;124mf\u001b[39m\u001b[38;5;124m'\u001b[39m\u001b[38;5;124mm = \u001b[39m\u001b[38;5;132;01m{\u001b[39;00mma\u001b[38;5;132;01m}\u001b[39;00m\u001b[38;5;124m'\u001b[39m)\n",
      "\u001b[1;31mNameError\u001b[0m: name 'linregress' is not defined"
     ]
    },
    {
     "data": {
      "image/png": "[encoded data removed]",
      "text/plain": [
       "<Figure size 800x800 with 1 Axes>"
      ]
     },
     "metadata": {},
     "output_type": "display_data"
    }
   ],
   "source": [
    "plt.figure(figsize=(8,8))\n",
    "plt.scatter(Eo+ma*Eg, F)\n",
    "plt.xlabel('Eo + m Eg')\n",
    "plt.ylabel('F')\n",
    "slope, intercept, r_value, p_value, std_err = linregress(Eo+ma*Eg, F)\n",
    "plt.plot(Eo+ma*Eg, slope*(Eo+ma*Eg)+intercept)\n",
    "plt.title(f'm = {ma}')"
   ]
  },
  {
   "cell_type": "code",
   "execution_count": null,
   "id": "11ee3c3e",
   "metadata": {},
   "outputs": [],
   "source": []
  },
  {
   "cell_type": "code",
   "execution_count": 10,
   "id": "3c11dc97",
   "metadata": {},
   "outputs": [
    {
     "data": {
      "text/plain": [
       "3.8"
      ]
     },
     "execution_count": 10,
     "metadata": {},
     "output_type": "execute_result"
    }
   ],
   "source": []
  },
  {
   "cell_type": "code",
   "execution_count": 4,
   "id": "b7dd53a9",
   "metadata": {},
   "outputs": [],
   "source": [
    "def vogelipr():\n",
    "    porosity = float(input(\"Enter Porosity: \"))\n",
    "    K = float(input(\"Enter Perm.(md): \"))\n",
    "    h = float(input(\"Enter pay zone thicknes(Feet): \"))\n",
    "    P = float(input(\"Enter  Reservoir Pressure(psi): \"))\n",
    "    Pb = float(input(\"Enter Bubble Point Pressure(psi): \"))\n",
    "    Bo = float(input(\"Enter Formation Volume Factor: \"))\n",
    "    Viscosity  = float(input(\"Enter fluid viscosity(cp): \"))\n",
    "    ct = float(input(\"Enter Total Compressibility(psi-1): \"))\n",
    "    A = float(input(\"Enter Drainage Area(Acres): \"))\n",
    "    re = np.sqrt(43560*A/3.14)\n",
    "    rw = float(input(\"Enter Wellbore radius(ft): \"))\n",
    "    S = float(input(\"Enter Skin Factor: \"))\n",
    "##Calculation of productivity index\n",
    "    J = K*h/(141.2*Bo*Viscosity*(np.log(re/rw)-0.75+S))\n",
    "    print(\"The value of productivity index is\", J)\n",
    "##Calculation of Absolute open flow\n",
    "    qmax = J*P/1.8\n",
    "    print(\"The value of Absolute open flow is \", qmax, \"stb/day\")\n",
    "##Pressures array\n",
    "    a = np.arange(0,P,500)\n",
    "    b = np.append(a,P)\n",
    "    pwf = b[-1::-1]\n",
    "##Calculation of flowrate\n",
    "    flowrate = [] #empty list for occupying later\n",
    "    for i in pwf:\n",
    "        q = qmax*(1-0.2*(i/P)-0.8*((i/P)**2))\n",
    "        flowrate.append(q)\n",
    "    flowrates = np.array(flowrate)\n",
    "\n",
    "##plotting IPR\n",
    "    plt.figure(figsize = (9,6))\n",
    "    plt.plot(flowrates,pwf,c = \"red\",linewidth=3)\n",
    "    plt.xlabel(\"Flowrate(stb/day)\")\n",
    "    plt.ylabel(\"pwf(psia)\")\n",
    "    plt.grid(True)\n",
    "    plt.title(\"Vogel's IPR for Saturated Reservoir\")"
   ]
  },
  {
   "cell_type": "code",
   "execution_count": null,
   "id": "79cb2b75",
   "metadata": {},
   "outputs": [],
   "source": [
    "vogelipr()"
   ]
  },
  {
   "cell_type": "code",
   "execution_count": 3,
   "id": "eae6b817",
   "metadata": {},
   "outputs": [],
   "source": [
    "import pandas as pd \n",
    "import numpy as np \n",
    "import matplotlib.pyplot as plt\n",
    "import scipy"
   ]
  },
  {
   "cell_type": "code",
   "execution_count": 26,
   "id": "1afcf5bf",
   "metadata": {},
   "outputs": [],
   "source": [
    "#Example: Estimate the formation permeability and skin factor, from the build-up test data given in the following:\n",
    "\n",
    "\n",
    "Pi = 5048 #psi\n",
    "tp = 144  #hours\n",
    "Q = 180  #STB/D\n",
    "B = 1.163 #RB/STB\n",
    "U = 2.19 #cp\n",
    "h = 62 #ft\n",
    "Poro = 0.215 #frac\n",
    "Rw =0.26 \n",
    "Ct = 8.38 ** -6 #1/psi\n",
    "\n"
   ]
  },
  {
   "cell_type": "code",
   "execution_count": 27,
   "id": "63602dfa",
   "metadata": {},
   "outputs": [],
   "source": [
    "Time_hr = [ 0,0.005,0.011,0.019,0.029,0.041,0.056,0.075,0.099,0.129,0.166,0.213,0.271,0.344,0.435,0.548,0.691,0.868,1.09,1.368,1.715,2.15,2.69,3.37,4.22,5.27,6.6,8.25,10.32,12.9,16.14,20.17,24]\n",
    "\n",
    "pressure_pws = [5048, 5167.4, 5265.2, 5339, 5390, 5422.4, 5442, 5453.8, 5461.5, 5467.1, 5471.8, 5476.1, 5480.2, 5484.1, 5488, 5491.8, 5495.6, 5499.3, 5503.2, 5507, 5511, 5515, 5519.1, 5523.3, 5527.7, 5532.2, 5536.8, 5541.5, 5546.3, 5551.2, 5556.2, 5561.1, 5564.9]\n",
    "\n"
   ]
  },
  {
   "cell_type": "code",
   "execution_count": 24,
   "id": "d9454bd9",
   "metadata": {},
   "outputs": [
    {
     "data": {
      "application/javascript": [
       "\n",
       "        if (window._pyforest_update_imports_cell) { window._pyforest_update_imports_cell('import seaborn as sns\\nimport pandas as pd\\nimport matplotlib.pyplot as plt'); }\n",
       "    "
      ],
      "text/plain": [
       "<IPython.core.display.Javascript object>"
      ]
     },
     "metadata": {},
     "output_type": "display_data"
    },
    {
     "data": {
      "text/html": [
       "<div>\n",
       "<style scoped>\n",
       "    .dataframe tbody tr th:only-of-type {\n",
       "        vertical-align: middle;\n",
       "    }\n",
       "\n",
       "    .dataframe tbody tr th {\n",
       "        vertical-align: top;\n",
       "    }\n",
       "\n",
       "    .dataframe thead th {\n",
       "        text-align: right;\n",
       "    }\n",
       "</style>\n",
       "<table border=\"1\" class=\"dataframe\">\n",
       "  <thead>\n",
       "    <tr style=\"text-align: right;\">\n",
       "      <th></th>\n",
       "      <th>Time_hr</th>\n",
       "      <th>pressure_pws</th>\n",
       "    </tr>\n",
       "  </thead>\n",
       "  <tbody>\n",
       "    <tr>\n",
       "      <th>0</th>\n",
       "      <td>0.000</td>\n",
       "      <td>5048.0</td>\n",
       "    </tr>\n",
       "    <tr>\n",
       "      <th>1</th>\n",
       "      <td>0.005</td>\n",
       "      <td>5167.4</td>\n",
       "    </tr>\n",
       "    <tr>\n",
       "      <th>2</th>\n",
       "      <td>0.011</td>\n",
       "      <td>5265.2</td>\n",
       "    </tr>\n",
       "    <tr>\n",
       "      <th>3</th>\n",
       "      <td>0.019</td>\n",
       "      <td>5339.0</td>\n",
       "    </tr>\n",
       "    <tr>\n",
       "      <th>4</th>\n",
       "      <td>0.029</td>\n",
       "      <td>5390.0</td>\n",
       "    </tr>\n",
       "    <tr>\n",
       "      <th>5</th>\n",
       "      <td>0.041</td>\n",
       "      <td>5422.4</td>\n",
       "    </tr>\n",
       "    <tr>\n",
       "      <th>6</th>\n",
       "      <td>0.056</td>\n",
       "      <td>5442.0</td>\n",
       "    </tr>\n",
       "    <tr>\n",
       "      <th>7</th>\n",
       "      <td>0.075</td>\n",
       "      <td>5453.8</td>\n",
       "    </tr>\n",
       "    <tr>\n",
       "      <th>8</th>\n",
       "      <td>0.099</td>\n",
       "      <td>5461.5</td>\n",
       "    </tr>\n",
       "    <tr>\n",
       "      <th>9</th>\n",
       "      <td>0.129</td>\n",
       "      <td>5467.1</td>\n",
       "    </tr>\n",
       "    <tr>\n",
       "      <th>10</th>\n",
       "      <td>0.166</td>\n",
       "      <td>5471.8</td>\n",
       "    </tr>\n",
       "    <tr>\n",
       "      <th>11</th>\n",
       "      <td>0.213</td>\n",
       "      <td>5476.1</td>\n",
       "    </tr>\n",
       "    <tr>\n",
       "      <th>12</th>\n",
       "      <td>0.271</td>\n",
       "      <td>5480.2</td>\n",
       "    </tr>\n",
       "    <tr>\n",
       "      <th>13</th>\n",
       "      <td>0.344</td>\n",
       "      <td>5484.1</td>\n",
       "    </tr>\n",
       "    <tr>\n",
       "      <th>14</th>\n",
       "      <td>0.435</td>\n",
       "      <td>5488.0</td>\n",
       "    </tr>\n",
       "    <tr>\n",
       "      <th>15</th>\n",
       "      <td>0.548</td>\n",
       "      <td>5491.8</td>\n",
       "    </tr>\n",
       "    <tr>\n",
       "      <th>16</th>\n",
       "      <td>0.691</td>\n",
       "      <td>5495.6</td>\n",
       "    </tr>\n",
       "    <tr>\n",
       "      <th>17</th>\n",
       "      <td>0.868</td>\n",
       "      <td>5499.3</td>\n",
       "    </tr>\n",
       "    <tr>\n",
       "      <th>18</th>\n",
       "      <td>1.090</td>\n",
       "      <td>5503.2</td>\n",
       "    </tr>\n",
       "    <tr>\n",
       "      <th>19</th>\n",
       "      <td>1.368</td>\n",
       "      <td>5507.0</td>\n",
       "    </tr>\n",
       "    <tr>\n",
       "      <th>20</th>\n",
       "      <td>1.715</td>\n",
       "      <td>5511.0</td>\n",
       "    </tr>\n",
       "    <tr>\n",
       "      <th>21</th>\n",
       "      <td>2.150</td>\n",
       "      <td>5515.0</td>\n",
       "    </tr>\n",
       "    <tr>\n",
       "      <th>22</th>\n",
       "      <td>2.690</td>\n",
       "      <td>5519.1</td>\n",
       "    </tr>\n",
       "    <tr>\n",
       "      <th>23</th>\n",
       "      <td>3.370</td>\n",
       "      <td>5523.3</td>\n",
       "    </tr>\n",
       "    <tr>\n",
       "      <th>24</th>\n",
       "      <td>4.220</td>\n",
       "      <td>5527.7</td>\n",
       "    </tr>\n",
       "    <tr>\n",
       "      <th>25</th>\n",
       "      <td>5.270</td>\n",
       "      <td>5532.2</td>\n",
       "    </tr>\n",
       "    <tr>\n",
       "      <th>26</th>\n",
       "      <td>6.600</td>\n",
       "      <td>5536.8</td>\n",
       "    </tr>\n",
       "    <tr>\n",
       "      <th>27</th>\n",
       "      <td>8.250</td>\n",
       "      <td>5541.5</td>\n",
       "    </tr>\n",
       "    <tr>\n",
       "      <th>28</th>\n",
       "      <td>10.320</td>\n",
       "      <td>5546.3</td>\n",
       "    </tr>\n",
       "    <tr>\n",
       "      <th>29</th>\n",
       "      <td>12.900</td>\n",
       "      <td>5551.2</td>\n",
       "    </tr>\n",
       "    <tr>\n",
       "      <th>30</th>\n",
       "      <td>16.140</td>\n",
       "      <td>5556.2</td>\n",
       "    </tr>\n",
       "    <tr>\n",
       "      <th>31</th>\n",
       "      <td>20.170</td>\n",
       "      <td>5561.1</td>\n",
       "    </tr>\n",
       "    <tr>\n",
       "      <th>32</th>\n",
       "      <td>24.000</td>\n",
       "      <td>5564.9</td>\n",
       "    </tr>\n",
       "  </tbody>\n",
       "</table>\n",
       "</div>"
      ],
      "text/plain": [
       "    Time_hr  pressure_pws\n",
       "0     0.000        5048.0\n",
       "1     0.005        5167.4\n",
       "2     0.011        5265.2\n",
       "3     0.019        5339.0\n",
       "4     0.029        5390.0\n",
       "5     0.041        5422.4\n",
       "6     0.056        5442.0\n",
       "7     0.075        5453.8\n",
       "8     0.099        5461.5\n",
       "9     0.129        5467.1\n",
       "10    0.166        5471.8\n",
       "11    0.213        5476.1\n",
       "12    0.271        5480.2\n",
       "13    0.344        5484.1\n",
       "14    0.435        5488.0\n",
       "15    0.548        5491.8\n",
       "16    0.691        5495.6\n",
       "17    0.868        5499.3\n",
       "18    1.090        5503.2\n",
       "19    1.368        5507.0\n",
       "20    1.715        5511.0\n",
       "21    2.150        5515.0\n",
       "22    2.690        5519.1\n",
       "23    3.370        5523.3\n",
       "24    4.220        5527.7\n",
       "25    5.270        5532.2\n",
       "26    6.600        5536.8\n",
       "27    8.250        5541.5\n",
       "28   10.320        5546.3\n",
       "29   12.900        5551.2\n",
       "30   16.140        5556.2\n",
       "31   20.170        5561.1\n",
       "32   24.000        5564.9"
      ]
     },
     "execution_count": 24,
     "metadata": {},
     "output_type": "execute_result"
    }
   ],
   "source": [
    "d = {\n",
    "    'Time_hr': [0,0.005,0.011,0.019,0.029,0.041,0.056,0.075,0.099,0.129,0.166,0.213,0.271,0.344,0.435,0.548,0.691,0.868,1.09,1.368,1.715,2.15,2.69,3.37,4.22,5.27,6.6,8.25,10.32,12.9,16.14,20.17,24],\n",
    "     'pressure_pws': [5048, 5167.4, 5265.2, 5339, 5390, 5422.4, 5442, 5453.8, 5461.5, 5467.1, 5471.8, 5476.1, 5480.2, 5484.1, 5488, 5491.8, 5495.6, 5499.3, 5503.2, 5507, 5511, 5515, 5519.1, 5523.3, 5527.7, 5532.2, 5536.8, 5541.5, 5546.3, 5551.2, 5556.2, 5561.1, 5564.9]\n",
    "}\n",
    "\n",
    "df = pd.DataFrame(data=d)\n",
    "df"
   ]
  },
  {
   "cell_type": "code",
   "execution_count": 48,
   "id": "63f18ef4",
   "metadata": {},
   "outputs": [
    {
     "name": "stdout",
     "output_type": "stream",
     "text": [
      "    Time_hr  pressure_pws  Time Function\n",
      "0     0.000        5048.0            inf\n",
      "1     0.005        5167.4   2.880001e+04\n",
      "2     0.011        5265.2   1.309092e+04\n",
      "3     0.019        5339.0   7.578966e+03\n",
      "4     0.029        5390.0   4.965546e+03\n",
      "5     0.041        5422.4   3.512236e+03\n",
      "6     0.056        5442.0   2.571485e+03\n",
      "7     0.075        5453.8   1.920075e+03\n",
      "8     0.099        5461.5   1.454644e+03\n",
      "9     0.129        5467.1   1.116408e+03\n",
      "10    0.166        5471.8   8.676359e+02\n",
      "11    0.213        5476.1   6.762693e+02\n",
      "12    0.271        5480.2   5.316363e+02\n",
      "13    0.344        5484.1   4.189487e+02\n",
      "14    0.435        5488.0   3.314695e+02\n",
      "15    0.548        5491.8   2.633217e+02\n",
      "16    0.691        5495.6   2.090846e+02\n",
      "17    0.868        5499.3   1.667666e+02\n",
      "18    1.090        5503.2   1.332001e+02\n",
      "19    1.368        5507.0   1.066312e+02\n",
      "20    1.715        5511.0   8.568001e+01\n",
      "21    2.150        5515.0   6.912674e+01\n",
      "22    2.690        5519.1   5.622160e+01\n",
      "23    3.370        5523.3   4.609997e+01\n",
      "24    4.220        5527.7   3.834322e+01\n",
      "25    5.270        5532.2   3.259448e+01\n",
      "26    6.600        5536.8   2.841818e+01\n",
      "27    8.250        5541.5   2.570455e+01\n",
      "28   10.320        5546.3   2.427349e+01\n",
      "29   12.900        5551.2   2.406279e+01\n",
      "30   16.140        5556.2   2.506193e+01\n",
      "31   20.170        5561.1   2.730932e+01\n",
      "32   24.000        5564.9   3.000000e+01\n"
     ]
    },
    {
     "data": {
      "application/javascript": [
       "\n",
       "        if (window._pyforest_update_imports_cell) { window._pyforest_update_imports_cell('import numpy as np\\nimport pandas as pd\\nimport seaborn as sns\\nimport matplotlib.pyplot as plt'); }\n",
       "    "
      ],
      "text/plain": [
       "<IPython.core.display.Javascript object>"
      ]
     },
     "metadata": {},
     "output_type": "display_data"
    },
    {
     "data": {
      "application/javascript": [
       "\n",
       "        if (window._pyforest_update_imports_cell) { window._pyforest_update_imports_cell('import numpy as np\\nimport pandas as pd\\nimport seaborn as sns\\nimport matplotlib.pyplot as plt'); }\n",
       "    "
      ],
      "text/plain": [
       "<IPython.core.display.Javascript object>"
      ]
     },
     "metadata": {},
     "output_type": "display_data"
    },
    {
     "ename": "ValueError",
     "evalue": "x and y must be the same size",
     "output_type": "error",
     "traceback": [
      "\u001b[1;31m---------------------------------------------------------------------------\u001b[0m",
      "\u001b[1;31mValueError\u001b[0m                                Traceback (most recent call last)",
      "Input \u001b[1;32mIn [48]\u001b[0m, in \u001b[0;36m<cell line: 9>\u001b[1;34m()\u001b[0m\n\u001b[0;32m      7\u001b[0m fig \u001b[38;5;241m=\u001b[39m plt\u001b[38;5;241m.\u001b[39mfigure();\n\u001b[0;32m      8\u001b[0m ax\u001b[38;5;241m=\u001b[39mplt\u001b[38;5;241m.\u001b[39mgca() \n\u001b[1;32m----> 9\u001b[0m \u001b[43max\u001b[49m\u001b[38;5;241;43m.\u001b[39;49m\u001b[43mscatter\u001b[49m\u001b[43m(\u001b[49m\u001b[43mx\u001b[49m\u001b[43m,\u001b[49m\u001b[43my\u001b[49m\u001b[43m,\u001b[49m\u001b[43mc\u001b[49m\u001b[38;5;241;43m=\u001b[39;49m\u001b[38;5;124;43m\"\u001b[39;49m\u001b[38;5;124;43mblue\u001b[39;49m\u001b[38;5;124;43m\"\u001b[39;49m\u001b[43m,\u001b[49m\u001b[43malpha\u001b[49m\u001b[38;5;241;43m=\u001b[39;49m\u001b[38;5;241;43m0.95\u001b[39;49m\u001b[43m,\u001b[49m\u001b[43medgecolors\u001b[49m\u001b[38;5;241;43m=\u001b[39;49m\u001b[38;5;124;43m'\u001b[39;49m\u001b[38;5;124;43mnone\u001b[39;49m\u001b[38;5;124;43m'\u001b[39;49m\u001b[43m)\u001b[49m\n\u001b[0;32m     10\u001b[0m ax\u001b[38;5;241m.\u001b[39mset_yscale(\u001b[38;5;124m'\u001b[39m\u001b[38;5;124mlog\u001b[39m\u001b[38;5;124m'\u001b[39m)\n\u001b[0;32m     11\u001b[0m ax\u001b[38;5;241m.\u001b[39mset_xscale(\u001b[38;5;124m'\u001b[39m\u001b[38;5;124mlog\u001b[39m\u001b[38;5;124m'\u001b[39m)\n",
      "File \u001b[1;32m~\\AppData\\Local\\Programs\\Python\\Python310-32\\lib\\site-packages\\matplotlib\\__init__.py:1414\u001b[0m, in \u001b[0;36m_preprocess_data.<locals>.inner\u001b[1;34m(ax, data, *args, **kwargs)\u001b[0m\n\u001b[0;32m   1411\u001b[0m \u001b[38;5;129m@functools\u001b[39m\u001b[38;5;241m.\u001b[39mwraps(func)\n\u001b[0;32m   1412\u001b[0m \u001b[38;5;28;01mdef\u001b[39;00m \u001b[38;5;21minner\u001b[39m(ax, \u001b[38;5;241m*\u001b[39margs, data\u001b[38;5;241m=\u001b[39m\u001b[38;5;28;01mNone\u001b[39;00m, \u001b[38;5;241m*\u001b[39m\u001b[38;5;241m*\u001b[39mkwargs):\n\u001b[0;32m   1413\u001b[0m     \u001b[38;5;28;01mif\u001b[39;00m data \u001b[38;5;129;01mis\u001b[39;00m \u001b[38;5;28;01mNone\u001b[39;00m:\n\u001b[1;32m-> 1414\u001b[0m         \u001b[38;5;28;01mreturn\u001b[39;00m func(ax, \u001b[38;5;241m*\u001b[39m\u001b[38;5;28mmap\u001b[39m(sanitize_sequence, args), \u001b[38;5;241m*\u001b[39m\u001b[38;5;241m*\u001b[39mkwargs)\n\u001b[0;32m   1416\u001b[0m     bound \u001b[38;5;241m=\u001b[39m new_sig\u001b[38;5;241m.\u001b[39mbind(ax, \u001b[38;5;241m*\u001b[39margs, \u001b[38;5;241m*\u001b[39m\u001b[38;5;241m*\u001b[39mkwargs)\n\u001b[0;32m   1417\u001b[0m     auto_label \u001b[38;5;241m=\u001b[39m (bound\u001b[38;5;241m.\u001b[39marguments\u001b[38;5;241m.\u001b[39mget(label_namer)\n\u001b[0;32m   1418\u001b[0m                   \u001b[38;5;129;01mor\u001b[39;00m bound\u001b[38;5;241m.\u001b[39mkwargs\u001b[38;5;241m.\u001b[39mget(label_namer))\n",
      "File \u001b[1;32m~\\AppData\\Local\\Programs\\Python\\Python310-32\\lib\\site-packages\\matplotlib\\axes\\_axes.py:4368\u001b[0m, in \u001b[0;36mAxes.scatter\u001b[1;34m(self, x, y, s, c, marker, cmap, norm, vmin, vmax, alpha, linewidths, edgecolors, plotnonfinite, **kwargs)\u001b[0m\n\u001b[0;32m   4366\u001b[0m y \u001b[38;5;241m=\u001b[39m np\u001b[38;5;241m.\u001b[39mma\u001b[38;5;241m.\u001b[39mravel(y)\n\u001b[0;32m   4367\u001b[0m \u001b[38;5;28;01mif\u001b[39;00m x\u001b[38;5;241m.\u001b[39msize \u001b[38;5;241m!=\u001b[39m y\u001b[38;5;241m.\u001b[39msize:\n\u001b[1;32m-> 4368\u001b[0m     \u001b[38;5;28;01mraise\u001b[39;00m \u001b[38;5;167;01mValueError\u001b[39;00m(\u001b[38;5;124m\"\u001b[39m\u001b[38;5;124mx and y must be the same size\u001b[39m\u001b[38;5;124m\"\u001b[39m)\n\u001b[0;32m   4370\u001b[0m \u001b[38;5;28;01mif\u001b[39;00m s \u001b[38;5;129;01mis\u001b[39;00m \u001b[38;5;28;01mNone\u001b[39;00m:\n\u001b[0;32m   4371\u001b[0m     s \u001b[38;5;241m=\u001b[39m (\u001b[38;5;241m20\u001b[39m \u001b[38;5;28;01mif\u001b[39;00m rcParams[\u001b[38;5;124m'\u001b[39m\u001b[38;5;124m_internal.classic_mode\u001b[39m\u001b[38;5;124m'\u001b[39m] \u001b[38;5;28;01melse\u001b[39;00m\n\u001b[0;32m   4372\u001b[0m          rcParams[\u001b[38;5;124m'\u001b[39m\u001b[38;5;124mlines.markersize\u001b[39m\u001b[38;5;124m'\u001b[39m] \u001b[38;5;241m*\u001b[39m\u001b[38;5;241m*\u001b[39m \u001b[38;5;241m2.0\u001b[39m)\n",
      "\u001b[1;31mValueError\u001b[0m: x and y must be the same size"
     ]
    },
    {
     "data": {
      "image/png": "[encoded data removed]",
      "text/plain": [
       "<Figure size 640x480 with 1 Axes>"
      ]
     },
     "metadata": {},
     "output_type": "display_data"
    }
   ],
   "source": [
    "df['Time Function'] = df['Time_hr'] + (tp / df['Time_hr'])\n",
    "\n",
    "\n",
    "\n",
    "print(df)\n",
    "\n",
    "\n"
   ]
  },
  {
   "cell_type": "code",
   "execution_count": 6,
   "id": "7cf500bd",
   "metadata": {},
   "outputs": [
    {
     "data": {
      "application/javascript": [
       "\n",
       "        if (window._pyforest_update_imports_cell) { window._pyforest_update_imports_cell('import pandas as pd'); }\n",
       "    "
      ],
      "text/plain": [
       "<IPython.core.display.Javascript object>"
      ]
     },
     "metadata": {},
     "output_type": "display_data"
    },
    {
     "data": {
      "text/html": [
       "<div>\n",
       "<style scoped>\n",
       "    .dataframe tbody tr th:only-of-type {\n",
       "        vertical-align: middle;\n",
       "    }\n",
       "\n",
       "    .dataframe tbody tr th {\n",
       "        vertical-align: top;\n",
       "    }\n",
       "\n",
       "    .dataframe thead th {\n",
       "        text-align: right;\n",
       "    }\n",
       "</style>\n",
       "<table border=\"1\" class=\"dataframe\">\n",
       "  <thead>\n",
       "    <tr style=\"text-align: right;\">\n",
       "      <th></th>\n",
       "      <th>pressure</th>\n",
       "      <th>solutiongas</th>\n",
       "      <th>formation-volume-factor</th>\n",
       "    </tr>\n",
       "  </thead>\n",
       "  <tbody>\n",
       "    <tr>\n",
       "      <th>0</th>\n",
       "      <td>3600</td>\n",
       "      <td>567</td>\n",
       "      <td>1.310</td>\n",
       "    </tr>\n",
       "    <tr>\n",
       "      <th>1</th>\n",
       "      <td>3200</td>\n",
       "      <td>567</td>\n",
       "      <td>1.317</td>\n",
       "    </tr>\n",
       "    <tr>\n",
       "      <th>2</th>\n",
       "      <td>2800</td>\n",
       "      <td>567</td>\n",
       "      <td>1.325</td>\n",
       "    </tr>\n",
       "    <tr>\n",
       "      <th>3</th>\n",
       "      <td>2500</td>\n",
       "      <td>567</td>\n",
       "      <td>1.333</td>\n",
       "    </tr>\n",
       "    <tr>\n",
       "      <th>4</th>\n",
       "      <td>2400</td>\n",
       "      <td>554</td>\n",
       "      <td>1.310</td>\n",
       "    </tr>\n",
       "    <tr>\n",
       "      <th>5</th>\n",
       "      <td>1800</td>\n",
       "      <td>436</td>\n",
       "      <td>1.263</td>\n",
       "    </tr>\n",
       "    <tr>\n",
       "      <th>6</th>\n",
       "      <td>1200</td>\n",
       "      <td>337</td>\n",
       "      <td>1.210</td>\n",
       "    </tr>\n",
       "    <tr>\n",
       "      <th>7</th>\n",
       "      <td>600</td>\n",
       "      <td>223</td>\n",
       "      <td>1.140</td>\n",
       "    </tr>\n",
       "    <tr>\n",
       "      <th>8</th>\n",
       "      <td>200</td>\n",
       "      <td>143</td>\n",
       "      <td>1.070</td>\n",
       "    </tr>\n",
       "  </tbody>\n",
       "</table>\n",
       "</div>"
      ],
      "text/plain": [
       "   pressure  solutiongas  formation-volume-factor\n",
       "0      3600          567                    1.310\n",
       "1      3200          567                    1.317\n",
       "2      2800          567                    1.325\n",
       "3      2500          567                    1.333\n",
       "4      2400          554                    1.310\n",
       "5      1800          436                    1.263\n",
       "6      1200          337                    1.210\n",
       "7       600          223                    1.140\n",
       "8       200          143                    1.070"
      ]
     },
     "execution_count": 6,
     "metadata": {},
     "output_type": "execute_result"
    }
   ],
   "source": [
    "reservoirdata = {\n",
    "    'pressure': [3600 , 3200 , 2800 , 2500 , 2400 , 1800 , 1200 , 600 , 200],\n",
    "     'solutiongas': [567, 567 , 567, 567 , 554, 436, 337, 223 , 143 ],\n",
    "      'formation-volume-factor' : [1.31 , 1.317 , 1.325 , 1.333 , 1.31 , 1.263 , 1.21 , 1.14 , 1.07]\n",
    "}\n",
    "\n",
    "df = pd.DataFrame(data=reservoirdata)\n",
    "df\n"
   ]
  },
  {
   "cell_type": "code",
   "execution_count": 7,
   "id": "e295a3eb",
   "metadata": {},
   "outputs": [
    {
     "data": {
      "text/html": [
       "<div>\n",
       "<style scoped>\n",
       "    .dataframe tbody tr th:only-of-type {\n",
       "        vertical-align: middle;\n",
       "    }\n",
       "\n",
       "    .dataframe tbody tr th {\n",
       "        vertical-align: top;\n",
       "    }\n",
       "\n",
       "    .dataframe thead th {\n",
       "        text-align: right;\n",
       "    }\n",
       "</style>\n",
       "<table border=\"1\" class=\"dataframe\">\n",
       "  <thead>\n",
       "    <tr style=\"text-align: right;\">\n",
       "      <th></th>\n",
       "      <th>pressure</th>\n",
       "      <th>solutiongas</th>\n",
       "      <th>formation-volume-factor</th>\n",
       "    </tr>\n",
       "  </thead>\n",
       "  <tbody>\n",
       "    <tr>\n",
       "      <th>0</th>\n",
       "      <td>3600</td>\n",
       "      <td>567</td>\n",
       "      <td>1.310</td>\n",
       "    </tr>\n",
       "    <tr>\n",
       "      <th>1</th>\n",
       "      <td>3200</td>\n",
       "      <td>567</td>\n",
       "      <td>1.317</td>\n",
       "    </tr>\n",
       "    <tr>\n",
       "      <th>2</th>\n",
       "      <td>2800</td>\n",
       "      <td>567</td>\n",
       "      <td>1.325</td>\n",
       "    </tr>\n",
       "    <tr>\n",
       "      <th>3</th>\n",
       "      <td>2500</td>\n",
       "      <td>567</td>\n",
       "      <td>1.333</td>\n",
       "    </tr>\n",
       "    <tr>\n",
       "      <th>4</th>\n",
       "      <td>2400</td>\n",
       "      <td>554</td>\n",
       "      <td>1.310</td>\n",
       "    </tr>\n",
       "  </tbody>\n",
       "</table>\n",
       "</div>"
      ],
      "text/plain": [
       "   pressure  solutiongas  formation-volume-factor\n",
       "0      3600          567                    1.310\n",
       "1      3200          567                    1.317\n",
       "2      2800          567                    1.325\n",
       "3      2500          567                    1.333\n",
       "4      2400          554                    1.310"
      ]
     },
     "execution_count": 7,
     "metadata": {},
     "output_type": "execute_result"
    }
   ],
   "source": [
    "df.head()"
   ]
  },
  {
   "cell_type": "code",
   "execution_count": 14,
   "id": "f5fb6ca6",
   "metadata": {},
   "outputs": [
    {
     "data": {
      "application/javascript": [
       "\n",
       "        if (window._pyforest_update_imports_cell) { window._pyforest_update_imports_cell('import pandas as pd\\nimport matplotlib.pyplot as plt'); }\n",
       "    "
      ],
      "text/plain": [
       "<IPython.core.display.Javascript object>"
      ]
     },
     "metadata": {},
     "output_type": "display_data"
    },
    {
     "data": {
      "application/javascript": [
       "\n",
       "        if (window._pyforest_update_imports_cell) { window._pyforest_update_imports_cell('import pandas as pd\\nimport matplotlib.pyplot as plt'); }\n",
       "    "
      ],
      "text/plain": [
       "<IPython.core.display.Javascript object>"
      ]
     },
     "metadata": {},
     "output_type": "display_data"
    },
    {
     "data": {
      "image/png": "[encoded data removed]",
      "text/plain": [
       "<Figure size 640x480 with 1 Axes>"
      ]
     },
     "metadata": {},
     "output_type": "display_data"
    }
   ],
   "source": [
    "# scatter plot\n",
    "df.plot(kind = 'line',\n",
    "        x = 'pressure',\n",
    "        y = 'solutiongas',\n",
    "        color = 'red')\n",
    "  \n",
    "# set the title\n",
    "plt.title('pressure vs solution gas')\n",
    "  \n",
    "# show the plot\n",
    "plt.show()"
   ]
  },
  {
   "cell_type": "code",
   "execution_count": 35,
   "id": "50818cb9",
   "metadata": {},
   "outputs": [
    {
     "ename": "KeyError",
     "evalue": "'formation-volume-factor'",
     "output_type": "error",
     "traceback": [
      "\u001b[1;31m---------------------------------------------------------------------------\u001b[0m",
      "\u001b[1;31mKeyError\u001b[0m                                  Traceback (most recent call last)",
      "File \u001b[1;32m~\\AppData\\Local\\Programs\\Python\\Python310-32\\lib\\site-packages\\pandas\\core\\indexes\\base.py:3361\u001b[0m, in \u001b[0;36mIndex.get_loc\u001b[1;34m(self, key, method, tolerance)\u001b[0m\n\u001b[0;32m   3360\u001b[0m \u001b[38;5;28;01mtry\u001b[39;00m:\n\u001b[1;32m-> 3361\u001b[0m     \u001b[38;5;28;01mreturn\u001b[39;00m \u001b[38;5;28;43mself\u001b[39;49m\u001b[38;5;241;43m.\u001b[39;49m\u001b[43m_engine\u001b[49m\u001b[38;5;241;43m.\u001b[39;49m\u001b[43mget_loc\u001b[49m\u001b[43m(\u001b[49m\u001b[43mcasted_key\u001b[49m\u001b[43m)\u001b[49m\n\u001b[0;32m   3362\u001b[0m \u001b[38;5;28;01mexcept\u001b[39;00m \u001b[38;5;167;01mKeyError\u001b[39;00m \u001b[38;5;28;01mas\u001b[39;00m err:\n",
      "File \u001b[1;32m~\\AppData\\Local\\Programs\\Python\\Python310-32\\lib\\site-packages\\pandas\\_libs\\index.pyx:76\u001b[0m, in \u001b[0;36mpandas._libs.index.IndexEngine.get_loc\u001b[1;34m()\u001b[0m\n",
      "File \u001b[1;32m~\\AppData\\Local\\Programs\\Python\\Python310-32\\lib\\site-packages\\pandas\\_libs\\index.pyx:108\u001b[0m, in \u001b[0;36mpandas._libs.index.IndexEngine.get_loc\u001b[1;34m()\u001b[0m\n",
      "File \u001b[1;32mpandas\\_libs\\hashtable_class_helper.pxi:5198\u001b[0m, in \u001b[0;36mpandas._libs.hashtable.PyObjectHashTable.get_item\u001b[1;34m()\u001b[0m\n",
      "File \u001b[1;32mpandas\\_libs\\hashtable_class_helper.pxi:5206\u001b[0m, in \u001b[0;36mpandas._libs.hashtable.PyObjectHashTable.get_item\u001b[1;34m()\u001b[0m\n",
      "\u001b[1;31mKeyError\u001b[0m: 'formation-volume-factor'",
      "\nThe above exception was the direct cause of the following exception:\n",
      "\u001b[1;31mKeyError\u001b[0m                                  Traceback (most recent call last)",
      "Input \u001b[1;32mIn [35]\u001b[0m, in \u001b[0;36m<cell line: 2>\u001b[1;34m()\u001b[0m\n\u001b[0;32m      1\u001b[0m \u001b[38;5;66;03m# scatter plot\u001b[39;00m\n\u001b[1;32m----> 2\u001b[0m \u001b[43mdf\u001b[49m\u001b[38;5;241;43m.\u001b[39;49m\u001b[43mplot\u001b[49m\u001b[43m(\u001b[49m\u001b[43mkind\u001b[49m\u001b[43m \u001b[49m\u001b[38;5;241;43m=\u001b[39;49m\u001b[43m \u001b[49m\u001b[38;5;124;43m'\u001b[39;49m\u001b[38;5;124;43mline\u001b[39;49m\u001b[38;5;124;43m'\u001b[39;49m\u001b[43m,\u001b[49m\n\u001b[0;32m      3\u001b[0m \u001b[43m        \u001b[49m\u001b[43mx\u001b[49m\u001b[43m \u001b[49m\u001b[38;5;241;43m=\u001b[39;49m\u001b[43m \u001b[49m\u001b[38;5;124;43m'\u001b[39;49m\u001b[38;5;124;43mpressure\u001b[39;49m\u001b[38;5;124;43m'\u001b[39;49m\u001b[43m,\u001b[49m\n\u001b[0;32m      4\u001b[0m \u001b[43m        \u001b[49m\u001b[43my\u001b[49m\u001b[43m \u001b[49m\u001b[38;5;241;43m=\u001b[39;49m\u001b[43m \u001b[49m\u001b[38;5;124;43m'\u001b[39;49m\u001b[38;5;124;43mformation-volume-factor\u001b[39;49m\u001b[38;5;124;43m'\u001b[39;49m\u001b[43m,\u001b[49m\n\u001b[0;32m      5\u001b[0m \u001b[43m        \u001b[49m\u001b[43mcolor\u001b[49m\u001b[43m \u001b[49m\u001b[38;5;241;43m=\u001b[39;49m\u001b[43m \u001b[49m\u001b[38;5;124;43m'\u001b[39;49m\u001b[38;5;124;43mblue\u001b[39;49m\u001b[38;5;124;43m'\u001b[39;49m\u001b[43m)\u001b[49m\n\u001b[0;32m      7\u001b[0m \u001b[38;5;66;03m# set the title\u001b[39;00m\n\u001b[0;32m      8\u001b[0m plt\u001b[38;5;241m.\u001b[39mtitle(\u001b[38;5;124m'\u001b[39m\u001b[38;5;124mformation-volume-factor vs pressure\u001b[39m\u001b[38;5;124m'\u001b[39m)\n",
      "File \u001b[1;32m~\\AppData\\Local\\Programs\\Python\\Python310-32\\lib\\site-packages\\pandas\\plotting\\_core.py:958\u001b[0m, in \u001b[0;36mPlotAccessor.__call__\u001b[1;34m(self, *args, **kwargs)\u001b[0m\n\u001b[0;32m    955\u001b[0m             \u001b[38;5;28;01mpass\u001b[39;00m\n\u001b[0;32m    957\u001b[0m \u001b[38;5;66;03m# don't overwrite\u001b[39;00m\n\u001b[1;32m--> 958\u001b[0m data \u001b[38;5;241m=\u001b[39m \u001b[43mdata\u001b[49m\u001b[43m[\u001b[49m\u001b[43my\u001b[49m\u001b[43m]\u001b[49m\u001b[38;5;241m.\u001b[39mcopy()\n\u001b[0;32m    960\u001b[0m \u001b[38;5;28;01mif\u001b[39;00m \u001b[38;5;28misinstance\u001b[39m(data, ABCSeries):\n\u001b[0;32m    961\u001b[0m     label_name \u001b[38;5;241m=\u001b[39m label_kw \u001b[38;5;129;01mor\u001b[39;00m y\n",
      "File \u001b[1;32m~\\AppData\\Local\\Programs\\Python\\Python310-32\\lib\\site-packages\\pandas\\core\\frame.py:3458\u001b[0m, in \u001b[0;36mDataFrame.__getitem__\u001b[1;34m(self, key)\u001b[0m\n\u001b[0;32m   3456\u001b[0m \u001b[38;5;28;01mif\u001b[39;00m \u001b[38;5;28mself\u001b[39m\u001b[38;5;241m.\u001b[39mcolumns\u001b[38;5;241m.\u001b[39mnlevels \u001b[38;5;241m>\u001b[39m \u001b[38;5;241m1\u001b[39m:\n\u001b[0;32m   3457\u001b[0m     \u001b[38;5;28;01mreturn\u001b[39;00m \u001b[38;5;28mself\u001b[39m\u001b[38;5;241m.\u001b[39m_getitem_multilevel(key)\n\u001b[1;32m-> 3458\u001b[0m indexer \u001b[38;5;241m=\u001b[39m \u001b[38;5;28;43mself\u001b[39;49m\u001b[38;5;241;43m.\u001b[39;49m\u001b[43mcolumns\u001b[49m\u001b[38;5;241;43m.\u001b[39;49m\u001b[43mget_loc\u001b[49m\u001b[43m(\u001b[49m\u001b[43mkey\u001b[49m\u001b[43m)\u001b[49m\n\u001b[0;32m   3459\u001b[0m \u001b[38;5;28;01mif\u001b[39;00m is_integer(indexer):\n\u001b[0;32m   3460\u001b[0m     indexer \u001b[38;5;241m=\u001b[39m [indexer]\n",
      "File \u001b[1;32m~\\AppData\\Local\\Programs\\Python\\Python310-32\\lib\\site-packages\\pandas\\core\\indexes\\base.py:3363\u001b[0m, in \u001b[0;36mIndex.get_loc\u001b[1;34m(self, key, method, tolerance)\u001b[0m\n\u001b[0;32m   3361\u001b[0m         \u001b[38;5;28;01mreturn\u001b[39;00m \u001b[38;5;28mself\u001b[39m\u001b[38;5;241m.\u001b[39m_engine\u001b[38;5;241m.\u001b[39mget_loc(casted_key)\n\u001b[0;32m   3362\u001b[0m     \u001b[38;5;28;01mexcept\u001b[39;00m \u001b[38;5;167;01mKeyError\u001b[39;00m \u001b[38;5;28;01mas\u001b[39;00m err:\n\u001b[1;32m-> 3363\u001b[0m         \u001b[38;5;28;01mraise\u001b[39;00m \u001b[38;5;167;01mKeyError\u001b[39;00m(key) \u001b[38;5;28;01mfrom\u001b[39;00m \u001b[38;5;21;01merr\u001b[39;00m\n\u001b[0;32m   3365\u001b[0m \u001b[38;5;28;01mif\u001b[39;00m is_scalar(key) \u001b[38;5;129;01mand\u001b[39;00m isna(key) \u001b[38;5;129;01mand\u001b[39;00m \u001b[38;5;129;01mnot\u001b[39;00m \u001b[38;5;28mself\u001b[39m\u001b[38;5;241m.\u001b[39mhasnans:\n\u001b[0;32m   3366\u001b[0m     \u001b[38;5;28;01mraise\u001b[39;00m \u001b[38;5;167;01mKeyError\u001b[39;00m(key)\n",
      "\u001b[1;31mKeyError\u001b[0m: 'formation-volume-factor'"
     ]
    }
   ],
   "source": [
    "# scatter plot\n",
    "df.plot(kind = 'line',\n",
    "        x = 'pressure',\n",
    "        y = 'formation-volume-factor',\n",
    "        color = 'blue')\n",
    "  \n",
    "# set the title\n",
    "plt.title('formation-volume-factor vs pressure')\n",
    "  \n",
    "# show the plot\n",
    "plt.show()"
   ]
  },
  {
   "cell_type": "code",
   "execution_count": 33,
   "id": "1fdd6ca4",
   "metadata": {},
   "outputs": [
    {
     "ename": "TypeError",
     "evalue": "'AxesSubplot' object is not subscriptable",
     "output_type": "error",
     "traceback": [
      "\u001b[1;31m---------------------------------------------------------------------------\u001b[0m",
      "\u001b[1;31mTypeError\u001b[0m                                 Traceback (most recent call last)",
      "Input \u001b[1;32mIn [33]\u001b[0m, in \u001b[0;36m<cell line: 4>\u001b[1;34m()\u001b[0m\n\u001b[0;32m      1\u001b[0m ax \u001b[38;5;241m=\u001b[39m plt\u001b[38;5;241m.\u001b[39mgca() \n\u001b[0;32m      3\u001b[0m \u001b[38;5;66;03m# line plot for math marks\u001b[39;00m\n\u001b[0;32m      4\u001b[0m df\u001b[38;5;241m.\u001b[39mplot(kind \u001b[38;5;241m=\u001b[39m \u001b[38;5;124m'\u001b[39m\u001b[38;5;124mline\u001b[39m\u001b[38;5;124m'\u001b[39m,\n\u001b[0;32m      5\u001b[0m         x \u001b[38;5;241m=\u001b[39m \u001b[38;5;124m'\u001b[39m\u001b[38;5;124mpressure\u001b[39m\u001b[38;5;124m'\u001b[39m,\n\u001b[0;32m      6\u001b[0m         y \u001b[38;5;241m=\u001b[39m \u001b[38;5;124m'\u001b[39m\u001b[38;5;124mformation-volume-factor\u001b[39m\u001b[38;5;124m'\u001b[39m,\n\u001b[1;32m----> 7\u001b[0m         color \u001b[38;5;241m=\u001b[39m \u001b[38;5;124m'\u001b[39m\u001b[38;5;124mgreen\u001b[39m\u001b[38;5;124m'\u001b[39m,ax \u001b[38;5;241m=\u001b[39m \u001b[43maxes\u001b[49m\u001b[43m[\u001b[49m\u001b[38;5;241;43m0\u001b[39;49m\u001b[43m,\u001b[49m\u001b[38;5;241;43m0\u001b[39;49m\u001b[43m]\u001b[49m)\n\u001b[0;32m      9\u001b[0m \u001b[38;5;66;03m# line plot for physics marks\u001b[39;00m\n\u001b[0;32m     10\u001b[0m df\u001b[38;5;241m.\u001b[39mplot(kind \u001b[38;5;241m=\u001b[39m \u001b[38;5;124m'\u001b[39m\u001b[38;5;124mline\u001b[39m\u001b[38;5;124m'\u001b[39m,x \u001b[38;5;241m=\u001b[39m \u001b[38;5;124m'\u001b[39m\u001b[38;5;124mpressure\u001b[39m\u001b[38;5;124m'\u001b[39m,\n\u001b[0;32m     11\u001b[0m         y \u001b[38;5;241m=\u001b[39m \u001b[38;5;124m'\u001b[39m\u001b[38;5;124msolutiongas\u001b[39m\u001b[38;5;124m'\u001b[39m,\n\u001b[0;32m     12\u001b[0m         color \u001b[38;5;241m=\u001b[39m \u001b[38;5;124m'\u001b[39m\u001b[38;5;124mblue\u001b[39m\u001b[38;5;124m'\u001b[39m,ax \u001b[38;5;241m=\u001b[39m axes[\u001b[38;5;241m0\u001b[39m,\u001b[38;5;241m1\u001b[39m])\n",
      "\u001b[1;31mTypeError\u001b[0m: 'AxesSubplot' object is not subscriptable"
     ]
    },
    {
     "data": {
      "image/png": "[encoded data removed]",
      "text/plain": [
       "<Figure size 640x480 with 1 Axes>"
      ]
     },
     "metadata": {},
     "output_type": "display_data"
    }
   ],
   "source": [
    "ax = plt.gca() \n",
    "  \n",
    "# line plot for math marks\n",
    "df.plot(kind = 'line',\n",
    "        x = 'pressure',\n",
    "        y = 'formation-volume-factor',\n",
    "        color = 'green',ax = axes[0,0])\n",
    "  \n",
    "# line plot for physics marks\n",
    "df.plot(kind = 'line',x = 'pressure',\n",
    "        y = 'solutiongas',\n",
    "        color = 'blue',ax = axes[0,1])\n",
    "  \n",
    "\n",
    "  \n",
    "\n",
    "plt.title('LinePlots')\n",
    "  \n",
    "# show the plot\n",
    "plt.show()"
   ]
  },
  {
   "cell_type": "code",
   "execution_count": 31,
   "id": "f00ba804",
   "metadata": {},
   "outputs": [],
   "source": [
    "%matplotlib inline"
   ]
  },
  {
   "cell_type": "code",
   "execution_count": 34,
   "id": "bf89eab2",
   "metadata": {},
   "outputs": [
    {
     "data": {
      "text/plain": [
       "<AxesSubplot:>"
      ]
     },
     "execution_count": 34,
     "metadata": {},
     "output_type": "execute_result"
    },
    {
     "data": {
      "image/png": "[encoded data removed]",
      "text/plain": [
       "<Figure size 640x480 with 1 Axes>"
      ]
     },
     "metadata": {},
     "output_type": "display_data"
    }
   ],
   "source": [
    "df.plot()"
   ]
  },
  {
   "cell_type": "code",
   "execution_count": 2,
   "id": "a370d214",
   "metadata": {},
   "outputs": [
    {
     "data": {
      "application/javascript": [
       "\n",
       "        if (window._pyforest_update_imports_cell) { window._pyforest_update_imports_cell('import matplotlib.pyplot as plt\\nimport pandas as pd'); }\n",
       "    "
      ],
      "text/plain": [
       "<IPython.core.display.Javascript object>"
      ]
     },
     "metadata": {},
     "output_type": "display_data"
    },
    {
     "data": {
      "application/javascript": [
       "\n",
       "        if (window._pyforest_update_imports_cell) { window._pyforest_update_imports_cell('import matplotlib.pyplot as plt\\nimport pandas as pd'); }\n",
       "    "
      ],
      "text/plain": [
       "<IPython.core.display.Javascript object>"
      ]
     },
     "metadata": {},
     "output_type": "display_data"
    },
    {
     "data": {
      "application/javascript": [
       "\n",
       "        if (window._pyforest_update_imports_cell) { window._pyforest_update_imports_cell('import matplotlib.pyplot as plt\\nimport pandas as pd'); }\n",
       "    "
      ],
      "text/plain": [
       "<IPython.core.display.Javascript object>"
      ]
     },
     "metadata": {},
     "output_type": "display_data"
    },
    {
     "data": {
      "application/javascript": [
       "\n",
       "        if (window._pyforest_update_imports_cell) { window._pyforest_update_imports_cell('import matplotlib.pyplot as plt\\nimport pandas as pd'); }\n",
       "    "
      ],
      "text/plain": [
       "<IPython.core.display.Javascript object>"
      ]
     },
     "metadata": {},
     "output_type": "display_data"
    },
    {
     "data": {
      "image/png": "[encoded data removed]",
      "text/plain": [
       "<Figure size 640x480 with 2 Axes>"
      ]
     },
     "metadata": {},
     "output_type": "display_data"
    }
   ],
   "source": [
    "#example from applied reservoir engineering book \n",
    "dataset = pd.DataFrame({'pressure':[3600 , 3200 , 2800 , 2500 , 2400 , 1800 , 1200 , 600 , 200],\n",
    "                         \n",
    "                   'solutiongas': [567, 567 , 567, 567 , 554, 436, 337, 223 , 143 ],\n",
    "      'formation-volume-factor' : [1.31 , 1.317 , 1.325 , 1.333 , 1.31 , 1.263 , 1.21 , 1.14 , 1.07]})\n",
    "# creating axes object and defining plot\n",
    "ax = dataset.plot(kind = 'line', x = 'pressure',\n",
    "                  y = 'solutiongas', color = 'Blue',\n",
    "                  linewidth = 1)\n",
    " \n",
    "ax2 = dataset.plot(kind = 'line', x = 'pressure',\n",
    "                   y = 'formation-volume-factor', secondary_y = True,\n",
    "                   color = 'Red',  linewidth = 1,\n",
    "                   ax = ax)\n",
    "#title of the plot\n",
    "plt.title(\"FVF VS Rs\")\n",
    "#labeling x and y-axis\n",
    "ax.set_xlabel('pressure', color = 'g')\n",
    "ax.set_ylabel('solutiongas', color = \"b\")\n",
    "ax2.set_ylabel('formation-volume-factor', color = 'r')\n",
    " \n",
    "#defining display layout\n",
    "plt.tight_layout()\n",
    "#show plot\n",
    "plt.show()"
   ]
  },
  {
   "cell_type": "code",
   "execution_count": null,
   "id": "a01985ee",
   "metadata": {},
   "outputs": [],
   "source": []
  }
 ],
 "metadata": {
  "kernelspec": {
   "display_name": "Python 3 (ipykernel)",
   "language": "python",
   "name": "python3"
  },
  "language_info": {
   "codemirror_mode": {
    "name": "ipython",
    "version": 3
   },
   "file_extension": ".py",
   "mimetype": "text/x-python",
   "name": "python",
   "nbconvert_exporter": "python",
   "pygments_lexer": "ipython3",
   "version": "3.10.0"
  }
 },
 "nbformat": 4,
 "nbformat_minor": 5
}
